{
 "cells": [
  {
   "cell_type": "code",
   "execution_count": 1,
   "metadata": {},
   "outputs": [
    {
     "name": "stdout",
     "output_type": "stream",
     "text": [
      "Welcome to JupyROOT 6.22/02\n"
     ]
    }
   ],
   "source": [
    "%matplotlib inline\n",
    "\n",
    "import random\n",
    "\n",
    "import pandas as pd\n",
    "import numpy as np\n",
    "import matplotlib as mpl\n",
    "import matplotlib.pyplot as plt\n",
    "\n",
    "# import xgboost as xgb\n",
    "from itertools import tee, islice\n",
    "from ROOT import TFile, TCanvas, TPad, TPaveLabel, TPaveText, TTree, TH1F, TF1\n",
    "from root_numpy import root2array, tree2array, array2tree, array2root\n",
    "import sys\n",
    "from ROOT import gROOT, AddressOf\n",
    "from root_numpy import root2array, rec2array\n",
    "\n",
    "\n",
    "from sklearn import datasets\n",
    "from sklearn.tree import DecisionTreeClassifier\n",
    "from sklearn.ensemble import AdaBoostClassifier\n",
    "from sklearn.metrics import classification_report, roc_auc_score"
   ]
  },
  {
   "cell_type": "code",
   "execution_count": 2,
   "metadata": {},
   "outputs": [],
   "source": [
    "back = 'back.root'\n",
    "signal = 'signal.root'\n",
    "# out_dir = '/afs/cern.ch/user/s/sraj/public/plot'\n",
    "treeName_back = \"tagsDumper/trees/thq_125_13TeV_THQLeptonicTag\"\n",
    "treeName_signal = \"tagsDumper/trees/tth_125_13TeV_THQLeptonicTag\"\n",
    "columns = ['dipho_pt','dipho_phi','dipho_eta','dipho_e','dipho_mass','dipho_leadPt','dipho_leadEt','dipho_leadEta','dipho_leadPhi','dipho_subleadEta','bjet1_pt',\n",
    "          'bjet2_pt','bjet1_eta','bjet2_eta','jet1_pt','jet2_pt','jet1_eta','n_jets']\n",
    "\n",
    "columns = [c.strip() for c in columns]\n",
    "columns = (b.replace(\" \", \"_\") for b in columns)\n",
    "columns = list(b.replace(\"-\", \"_\") for b in columns)\n",
    "\n",
    "mc_arr = root2array(back, treeName_back, columns)\n",
    "data_arr = root2array(signal, treeName_signal, columns)\n",
    "\n",
    "signal = rec2array(data_arr)\n",
    "backgr = rec2array(mc_arr)"
   ]
  },
  {
   "cell_type": "code",
   "execution_count": 3,
   "metadata": {},
   "outputs": [],
   "source": [
    "# for sklearn data is usually organised\n",
    "# into one 2D array of shape (n_samples x n_features)\n",
    "# containing all the data and one array of categories\n",
    "# of length n_samples\n",
    "X = np.concatenate((signal, backgr))\n",
    "y = np.concatenate((np.ones(signal.shape[0]),\n",
    "                    np.zeros(backgr.shape[0])))"
   ]
  },
  {
   "cell_type": "code",
   "execution_count": 4,
   "metadata": {},
   "outputs": [],
   "source": [
    "# Create a pandas DataFrame for our data\n",
    "# this provides many convenience functions\n",
    "# for exploring your dataset\n",
    "# need to reshape y so it is a 2D array with one column\n",
    "df = pd.DataFrame(np.hstack((X, y.reshape(y.shape[0], -1))),\n",
    "                  columns=columns+['y'])"
   ]
  },
  {
   "cell_type": "code",
   "execution_count": 5,
   "metadata": {},
   "outputs": [],
   "source": [
    "from sklearn.model_selection import train_test_split\n",
    "\n",
    "X_dev,X_eval, y_dev,y_eval = train_test_split(X, y,\n",
    "                                              test_size=0.33, random_state=42)\n",
    "X_train,X_test, y_train,y_test = train_test_split(X_dev, y_dev,\n",
    "                                                  test_size=0.33, random_state=380)"
   ]
  },
  {
   "cell_type": "code",
   "execution_count": 7,
   "metadata": {},
   "outputs": [],
   "source": [
    "from keras.models import Sequential\n",
    "from keras.layers import Dense\n",
    "import tensorflow as tf\n"
   ]
  },
  {
   "cell_type": "code",
   "execution_count": 9,
   "metadata": {},
   "outputs": [],
   "source": [
    "#define model for training\n",
    "regr_2 = Sequential()\n",
    "regr_2.add(Dense(300, activation= 'relu', input_shape = (18,)))\n",
    "# regr_2.add(Dense(300, activation= 'relu'))\n",
    "# regr_2.add(Dense(300, activation= 'relu'))\n",
    "# regr_2.add(Dense(300,activation= 'relu'))\n",
    "# regr_2.add(Dense(300,activation= 'relu'))\n",
    "regr_2.add(Dense(1, activation= 'sigmoid'))\n",
    "\n",
    "regr_2.compile(loss = 'binary_crossentropy',\n",
    "              optimizer = 'adam',\n",
    "              metrics = ['accuracy'])\n",
    "# model.summary()"
   ]
  },
  {
   "cell_type": "code",
   "execution_count": 10,
   "metadata": {},
   "outputs": [
    {
     "name": "stdout",
     "output_type": "stream",
     "text": [
      "Epoch 1/30\n",
      "162/162 [==============================] - 39s 19ms/step - loss: 2.2934 - accuracy: 0.7211 - val_loss: 1.1898 - val_accuracy: 0.7968\n",
      "Epoch 2/30\n",
      "162/162 [==============================] - 2s 9ms/step - loss: 0.8890 - accuracy: 0.7411 - val_loss: 0.4643 - val_accuracy: 0.7990\n",
      "Epoch 3/30\n",
      "162/162 [==============================] - 2s 9ms/step - loss: 0.6003 - accuracy: 0.7795 - val_loss: 0.4936 - val_accuracy: 0.8031\n",
      "Epoch 4/30\n",
      "162/162 [==============================] - 2s 9ms/step - loss: 0.7263 - accuracy: 0.7689 - val_loss: 0.5322 - val_accuracy: 0.7843\n",
      "Epoch 5/30\n",
      "162/162 [==============================] - 2s 10ms/step - loss: 0.5948 - accuracy: 0.7779 - val_loss: 0.5960 - val_accuracy: 0.7974\n",
      "Epoch 6/30\n",
      "162/162 [==============================] - 2s 10ms/step - loss: 0.5863 - accuracy: 0.7796 - val_loss: 0.4446 - val_accuracy: 0.8143\n",
      "Epoch 7/30\n",
      "162/162 [==============================] - 2s 13ms/step - loss: 0.5072 - accuracy: 0.8052 - val_loss: 0.4911 - val_accuracy: 0.7953\n",
      "Epoch 8/30\n",
      "162/162 [==============================] - 4s 28ms/step - loss: 0.6477 - accuracy: 0.7803 - val_loss: 0.7656 - val_accuracy: 0.8053\n",
      "Epoch 9/30\n",
      "162/162 [==============================] - 3s 20ms/step - loss: 0.7412 - accuracy: 0.7648 - val_loss: 1.1843 - val_accuracy: 0.7998\n",
      "Epoch 10/30\n",
      "162/162 [==============================] - 1s 9ms/step - loss: 0.6165 - accuracy: 0.7851 - val_loss: 0.4903 - val_accuracy: 0.8100\n",
      "Epoch 11/30\n",
      "162/162 [==============================] - 2s 10ms/step - loss: 0.6836 - accuracy: 0.7765 - val_loss: 0.6238 - val_accuracy: 0.8058\n",
      "Epoch 12/30\n",
      "162/162 [==============================] - 2s 10ms/step - loss: 0.5247 - accuracy: 0.7943 - val_loss: 0.5111 - val_accuracy: 0.8116\n",
      "Epoch 13/30\n",
      "162/162 [==============================] - 2s 9ms/step - loss: 0.6203 - accuracy: 0.7832 - val_loss: 0.4486 - val_accuracy: 0.8044\n",
      "Epoch 14/30\n",
      "162/162 [==============================] - 2s 9ms/step - loss: 0.4430 - accuracy: 0.8101 - val_loss: 0.5003 - val_accuracy: 0.7733\n",
      "Epoch 15/30\n",
      "162/162 [==============================] - 2s 10ms/step - loss: 0.5547 - accuracy: 0.7939 - val_loss: 0.6373 - val_accuracy: 0.8066\n",
      "Epoch 16/30\n",
      "162/162 [==============================] - 2s 9ms/step - loss: 0.6758 - accuracy: 0.7829 - val_loss: 1.0579 - val_accuracy: 0.8036\n",
      "Epoch 17/30\n",
      "162/162 [==============================] - 1s 9ms/step - loss: 0.7074 - accuracy: 0.7807 - val_loss: 0.4937 - val_accuracy: 0.7843\n",
      "Epoch 18/30\n",
      "162/162 [==============================] - 2s 9ms/step - loss: 0.5160 - accuracy: 0.8005 - val_loss: 0.4464 - val_accuracy: 0.8071\n",
      "Epoch 19/30\n",
      "162/162 [==============================] - 2s 10ms/step - loss: 0.5109 - accuracy: 0.7998 - val_loss: 0.4815 - val_accuracy: 0.8126\n",
      "Epoch 20/30\n",
      "162/162 [==============================] - 2s 10ms/step - loss: 0.6105 - accuracy: 0.7871 - val_loss: 0.7023 - val_accuracy: 0.6551\n",
      "Epoch 21/30\n",
      "162/162 [==============================] - 2s 9ms/step - loss: 0.5784 - accuracy: 0.7843 - val_loss: 0.5721 - val_accuracy: 0.7380\n",
      "Epoch 22/30\n",
      "162/162 [==============================] - 2s 10ms/step - loss: 0.6528 - accuracy: 0.7758 - val_loss: 0.4613 - val_accuracy: 0.7960\n",
      "Epoch 23/30\n",
      "162/162 [==============================] - 2s 10ms/step - loss: 0.7100 - accuracy: 0.7806 - val_loss: 0.4381 - val_accuracy: 0.8160\n",
      "Epoch 24/30\n",
      "162/162 [==============================] - 2s 12ms/step - loss: 0.4778 - accuracy: 0.8018 - val_loss: 0.4319 - val_accuracy: 0.8167\n",
      "Epoch 25/30\n",
      "162/162 [==============================] - 3s 16ms/step - loss: 0.4633 - accuracy: 0.8115 - val_loss: 0.6041 - val_accuracy: 0.8078\n",
      "Epoch 26/30\n",
      "162/162 [==============================] - 3s 17ms/step - loss: 0.5857 - accuracy: 0.7871 - val_loss: 0.7767 - val_accuracy: 0.7700\n",
      "Epoch 27/30\n",
      "162/162 [==============================] - 2s 14ms/step - loss: 0.6288 - accuracy: 0.7785 - val_loss: 1.3628 - val_accuracy: 0.7884\n",
      "Epoch 28/30\n",
      "162/162 [==============================] - 3s 17ms/step - loss: 0.7844 - accuracy: 0.7725 - val_loss: 0.5154 - val_accuracy: 0.8167\n",
      "Epoch 29/30\n",
      "162/162 [==============================] - 3s 20ms/step - loss: 0.6848 - accuracy: 0.7769 - val_loss: 0.6251 - val_accuracy: 0.7021\n",
      "Epoch 30/30\n",
      "162/162 [==============================] - 3s 18ms/step - loss: 0.6532 - accuracy: 0.7803 - val_loss: 0.5526 - val_accuracy: 0.8163\n"
     ]
    },
    {
     "data": {
      "text/plain": [
       "<keras.callbacks.History at 0x7fa3b2ec4580>"
      ]
     },
     "execution_count": 10,
     "metadata": {},
     "output_type": "execute_result"
    },
    {
     "name": "stderr",
     "output_type": "stream",
     "text": [
      "2021-09-14 16:46:20.406494: I tensorflow/compiler/mlir/mlir_graph_optimization_pass.cc:176] None of the MLIR Optimization Passes are enabled (registered 2)\n",
      "2021-09-14 16:46:20.479523: I tensorflow/core/platform/profile_utils/cpu_utils.cc:114] CPU Frequency: 1999965000 Hz\n"
     ]
    }
   ],
   "source": [
    "regr_2.fit(X_train, y_train, epochs = 30, batch_size= 900, validation_split = 0.25)"
   ]
  },
  {
   "cell_type": "code",
   "execution_count": 11,
   "metadata": {},
   "outputs": [
    {
     "data": {
      "image/png": "[encoded data removed]",
      "text/plain": [
       "<Figure size 432x288 with 1 Axes>"
      ]
     },
     "metadata": {
      "needs_background": "light"
     },
     "output_type": "display_data"
    }
   ],
   "source": [
    "def construct_train_test(clf, X_train, y_train, X_test, y_test, bins=30):\n",
    "    decisions =[]\n",
    "    for X,y in ((X_train, y_train), (X_test, y_test)):\n",
    "        d1 = clf.predict(X_train[y_train>0.5]).ravel()\n",
    "        d2 = clf.predict(X_train[y_train<0.5]).ravel()\n",
    "        d3 = clf.predict(X_test[y_test>0.5]).ravel()\n",
    "        d4 = clf.predict(X_test[y_test<0.5]).ravel()\n",
    "        \n",
    "    c_max = 2.0\n",
    "    c_min = -2.0\n",
    "    \n",
    "    # Get histogram of the classifiers\n",
    "    Histo_training_S = np.histogram(d1,bins=40,range=(c_min,c_max))\n",
    "    Histo_training_B = np.histogram(d2,bins=40,range=(c_min,c_max))\n",
    "    Histo_testing_S = np.histogram(d3,bins=40,range=(c_min,c_max))\n",
    "    Histo_testing_B = np.histogram(d4,bins=40,range=(c_min,c_max))\n",
    "    \n",
    "    # Lets get the min/max of the Histograms\n",
    "    AllHistos= [Histo_training_S,Histo_training_B,Histo_testing_S,Histo_testing_B]\n",
    "    h_max = max([histo[0].max() for histo in AllHistos])*1.2\n",
    "    h_min = max([histo[0].min() for histo in AllHistos])\n",
    "    \n",
    "    # Get the histogram properties (binning, widths, centers)\n",
    "    bin_edges = Histo_training_S[1]\n",
    "    bin_centers = ( bin_edges[:-1] + bin_edges[1:]  ) /2.\n",
    "    bin_widths = (bin_edges[1:] - bin_edges[:-1])\n",
    "    \n",
    "    # To make error bar plots for the data, take the Poisson uncertainty sqrt(N)\n",
    "    ErrorBar_testing_S = np.sqrt(Histo_testing_S[0])\n",
    "    ErrorBar_testing_B = np.sqrt(Histo_testing_B[0])\n",
    "\n",
    "    # Draw objects\n",
    "    ax1 = plt.subplot(111)\n",
    " \n",
    "    # Draw solid histograms for the training data\n",
    "    ax1.bar(bin_centers-bin_widths/2.,Histo_training_S[0],facecolor='blue',linewidth=0,width=bin_widths,label='S (Train)',alpha=0.5)\n",
    "    ax1.bar(bin_centers-bin_widths/2.,Histo_training_B[0],facecolor='red',linewidth=0,width=bin_widths,label='B (Train)',alpha=0.5)\n",
    " \n",
    "    # # Draw error-bar histograms for the testing data\n",
    "    ax1.errorbar(bin_centers, Histo_testing_S[0], yerr=ErrorBar_testing_S, xerr=None, ecolor='blue',c='blue',fmt='o',label='S (Test)')\n",
    "    ax1.errorbar(bin_centers, Histo_testing_B[0], yerr=ErrorBar_testing_B, xerr=None, ecolor='red',c='red',fmt='o',label='B (Test)')\n",
    " \n",
    "    # Make a colorful backdrop to show the clasification regions in red and blue\n",
    "    ax1.axvspan(0.0, c_max, color='blue',alpha=0.08)\n",
    "    ax1.axvspan(c_min,0.0, color='red',alpha=0.08)\n",
    " \n",
    "    # Adjust the axis boundaries (just cosmetic)\n",
    "    ax1.axis([c_min, c_max, h_min, h_max])   \n",
    "        \n",
    "construct_train_test(regr_2, X_train, y_train, X_test, y_test)    \n",
    "\n"
   ]
  },
  {
   "cell_type": "code",
   "execution_count": 14,
   "metadata": {},
   "outputs": [
    {
     "data": {
      "image/png": "[encoded data removed]",
      "text/plain": [
       "<Figure size 432x288 with 1 Axes>"
      ]
     },
     "metadata": {
      "needs_background": "light"
     },
     "output_type": "display_data"
    }
   ],
   "source": [
    "# For DNN again the overtraining check \n",
    "def compare_train_test(clf, X_train, y_train, X_test, y_test, bins=30):\n",
    "    decisions = []\n",
    "    for X,y in ((X_train, y_train), (X_test, y_test)):\n",
    "        d1 = clf.predict(X[y>0.5]).ravel()\n",
    "        d2 = clf.predict(X[y<0.5]).ravel()\n",
    "        decisions += [d1, d2]\n",
    "        \n",
    "    low = min(np.min(d) for d in decisions)\n",
    "    high = max(np.max(d) for d in decisions)\n",
    "    low_high = (low,high)\n",
    "     \n",
    "    ax1 = plt.subplot(111)\n",
    "\n",
    "    \n",
    "    ax1.hist(decisions[0],\n",
    "             color='r', alpha=0.5, range=low_high, bins=bins,\n",
    "             histtype='stepfilled',\n",
    "             label='S (train)')\n",
    "    ax1.hist(decisions[1],\n",
    "             color='y', alpha=0.5, range=low_high, bins=bins,\n",
    "             histtype='stepfilled',\n",
    "             label='B (train)')\n",
    "    \n",
    "    hist, bins = np.histogram(decisions[2],\n",
    "                              bins=bins, range=low_high)\n",
    "    scale = len(decisions[2]) / sum(hist)\n",
    "    err = np.sqrt(hist * scale) / scale\n",
    "    \n",
    "    width = (bins[1] - bins[0])\n",
    "    center = (bins[:-1] + bins[1:]) / 2\n",
    "    ax1.errorbar(center, hist, yerr=err, fmt='o', c='r', label='S (test)')\n",
    "    \n",
    "    hist, bins = np.histogram(decisions[3],\n",
    "                              bins=bins, range=low_high,)\n",
    "    scale = len(decisions[2]) / sum(hist)\n",
    "    err = np.sqrt(hist * scale) / scale\n",
    "\n",
    "    ax1.errorbar(center, hist, yerr=err, fmt='>', c='b', label='B (test)')\n",
    "\n",
    "    plt.xlabel(\"DNN output\")\n",
    "    plt.ylabel(\"\")\n",
    "    plt.legend(loc='best')\n",
    "    \n",
    "compare_train_test(regr_2, X_train, y_train, X_test, y_test)    \n"
   ]
  },
  {
   "cell_type": "code",
   "execution_count": null,
   "metadata": {},
   "outputs": [],
   "source": []
  },
  {
   "cell_type": "code",
   "execution_count": null,
   "metadata": {},
   "outputs": [],
   "source": [
    "# ROC curve\n",
    "from sklearn.metrics import roc_curve, auc\n",
    "\n",
    "decisions = regr_2.predict(X_test)\n",
    "\n",
    "# Compute ROC curve and area under the curve\n",
    "fpr, tpr, thresholds = roc_curve(y_test, decisions)\n",
    "roc_auc = auc(fpr, tpr)\n",
    "plt.plot(fpr, tpr, lw=1, label='ROC (area = %0.2f)'%(roc_auc))\n",
    "\n",
    "plt.plot([0, 1], [0, 1], '--', color=(0.6, 0.6, 0.6), label='Luck')\n",
    "plt.xlim([-0.05, 1.05])\n",
    "plt.ylim([-0.05, 1.05])\n",
    "plt.xlabel('False Positive Rate')\n",
    "plt.ylabel('True Positive Rate')\n",
    "plt.title('Receiver operating characteristic')\n",
    "plt.legend(loc=\"lower right\")\n",
    "plt.grid()\n",
    "# plt.savefig(\"ROC_curve_with_18_variables.png\")\n",
    "plt.show()"
   ]
  },
  {
   "cell_type": "code",
   "execution_count": null,
   "metadata": {},
   "outputs": [],
   "source": [
    "from sklearn.tree import DecisionTreeClassifier\n",
    "from sklearn.ensemble import AdaBoostClassifier\n",
    "from sklearn.metrics import classification_report, roc_auc_score\n",
    "from sklearn.svm import SVC\n",
    "from sklearn import tree\n"
   ]
  },
  {
   "cell_type": "code",
   "execution_count": null,
   "metadata": {},
   "outputs": [],
   "source": [
    "#Adaboost\n",
    "regr_2 = AdaBoostClassifier(base_estimator= tree.DecisionTreeClassifier(max_depth=1),\n",
    "                          n_estimators=100, random_state=1,learning_rate=0.5)\n",
    "\n",
    "regr_2.fit(X_train, y_train)"
   ]
  },
  {
   "cell_type": "code",
   "execution_count": null,
   "metadata": {},
   "outputs": [],
   "source": [
    "def construct_train_test(clf, X_train, y_train, X_test, y_test, bins=30):\n",
    "    decisions =[]\n",
    "    for X,y in ((X_train, y_train), (X_test, y_test)):\n",
    "        d1 = clf.predict(X_train[y_train>0.5]).ravel()\n",
    "        d2 = clf.predict(X_train[y_train<0.5]).ravel() \n",
    "        d3 = clf.predict(X_test[y_test>0.5]).ravel()\n",
    "        d4 = clf.predict(X_test[y_test<0.5]).ravel()\n",
    "#         d1 = clf.predict(X_train[y_train>0.5]).ravel()\n",
    "#         d2 = clf.predict(X_train[y_train<0.5]).ravel()\n",
    "#         d3 = clf.predict(X_test[y_test>0.5]).ravel()\n",
    "#         d4 = clf.predict(X_test[y_test<0.5]).ravel()\n",
    "        \n",
    "    c_max = 2.0\n",
    "    c_min = -2.0\n",
    "    \n",
    "    # Get histogram of the classifiers\n",
    "    Histo_training_S = np.histogram(d1,bins=40,range=(c_min,c_max))\n",
    "    Histo_training_B = np.histogram(d2,bins=40,range=(c_min,c_max))\n",
    "    Histo_testing_S = np.histogram(d3,bins=40,range=(c_min,c_max))\n",
    "    Histo_testing_B = np.histogram(d4,bins=40,range=(c_min,c_max))\n",
    "    \n",
    "    # Lets get the min/max of the Histograms\n",
    "    AllHistos= [Histo_training_S,Histo_training_B,Histo_testing_S,Histo_testing_B]\n",
    "    h_max = max([histo[0].max() for histo in AllHistos])*1.2\n",
    "    h_min = max([histo[0].min() for histo in AllHistos])\n",
    "    \n",
    "    # Get the histogram properties (binning, widths, centers)\n",
    "    bin_edges = Histo_training_S[1]\n",
    "    bin_centers = ( bin_edges[:-1] + bin_edges[1:]  ) /2.\n",
    "    bin_widths = (bin_edges[1:] - bin_edges[:-1])\n",
    "    \n",
    "    # To make error bar plots for the data, take the Poisson uncertainty sqrt(N)\n",
    "    ErrorBar_testing_S = np.sqrt(Histo_testing_S[0])\n",
    "    ErrorBar_testing_B = np.sqrt(Histo_testing_B[0])\n",
    "\n",
    "    # Draw objects\n",
    "    ax1 = plt.subplot(111)\n",
    " \n",
    "    # Draw solid histograms for the training data\n",
    "    ax1.bar(bin_centers-bin_widths/2.,Histo_training_S[0],facecolor='blue',linewidth=0,width=bin_widths,label='S (Train)',alpha=0.5)\n",
    "    ax1.bar(bin_centers-bin_widths/2.,Histo_training_B[0],facecolor='red',linewidth=0,width=bin_widths,label='B (Train)',alpha=0.5)\n",
    " \n",
    "    # # Draw error-bar histograms for the testing data\n",
    "    ax1.errorbar(bin_centers, Histo_testing_S[0], yerr=ErrorBar_testing_S, xerr=None, ecolor='blue',c='blue',fmt='o',label='S (Test)')\n",
    "    ax1.errorbar(bin_centers, Histo_testing_B[0], yerr=ErrorBar_testing_B, xerr=None, ecolor='red',c='red',fmt='o',label='B (Test)')\n",
    " \n",
    "    # Make a colorful backdrop to show the clasification regions in red and blue\n",
    "    ax1.axvspan(0.0, c_max, color='blue',alpha=0.08)\n",
    "    ax1.axvspan(c_min,0.0, color='red',alpha=0.08)\n",
    " \n",
    "    # Adjust the axis boundaries (just cosmetic)\n",
    "    ax1.axis([c_min, c_max, h_min, h_max])   \n",
    "        \n",
    "construct_train_test(regr_2, X_train, y_train, X_test, y_test)    \n",
    "\n"
   ]
  },
  {
   "cell_type": "code",
   "execution_count": null,
   "metadata": {},
   "outputs": [],
   "source": [
    "##AfterDNN fitting try this code\n",
    "def construct_train_test(clf, X_train, y_train, X_test, y_test, bins=30):\n",
    "#     decisions =[]\n",
    "#     for X,y in ((X_train, y_train), (X_test, y_test)):\n",
    "    d1 = clf.predict(X_train[y_train>0.5]).ravel()\n",
    "    d2 = clf.predict(X_train[y_train<0.5]).ravel()\n",
    "    d3 = clf.predict(X_test[y_test>0.5]).ravel()\n",
    "    d4 = clf.predict(X_test[y_test<0.5]).ravel()\n",
    "        \n",
    "    c_max = 2.0\n",
    "    c_min = -2.0\n",
    "    \n",
    "    # Get histogram of the classifiers\n",
    "    Histo_training_S = np.histogram(d1,bins=40,range=(c_min,c_max))\n",
    "    Histo_training_B = np.histogram(d2,bins=40,range=(c_min,c_max))\n",
    "    Histo_testing_S = np.histogram(d3,bins=40,range=(c_min,c_max))\n",
    "    Histo_testing_B = np.histogram(d4,bins=40,range=(c_min,c_max))\n",
    "    \n",
    "    # Lets get the min/max of the Histograms\n",
    "    AllHistos= [Histo_training_S,Histo_training_B,Histo_testing_S,Histo_testing_B]\n",
    "    h_max = max([histo[0].max() for histo in AllHistos])*1.2\n",
    "    h_min = max([histo[0].min() for histo in AllHistos])\n",
    "    \n",
    "    # Get the histogram properties (binning, widths, centers)\n",
    "    bin_edges = Histo_training_S[1]\n",
    "    bin_centers = ( bin_edges[:-1] + bin_edges[1:]  ) /2.\n",
    "    bin_widths = (bin_edges[1:] - bin_edges[:-1])\n",
    "    \n",
    "    # To make error bar plots for the data, take the Poisson uncertainty sqrt(N)\n",
    "    ErrorBar_testing_S = np.sqrt(Histo_testing_S[0])\n",
    "    ErrorBar_testing_B = np.sqrt(Histo_testing_B[0])\n",
    "\n",
    "    # Draw objects\n",
    "    ax1 = plt.subplot(111)\n",
    " \n",
    "    # Draw solid histograms for the training data\n",
    "    ax1.bar(bin_centers-bin_widths/2.,Histo_training_S[0],facecolor='blue',linewidth=0,width=bin_widths,label='S (Train)',alpha=0.5)\n",
    "    ax1.bar(bin_centers-bin_widths/2.,Histo_training_B[0],facecolor='red',linewidth=0,width=bin_widths,label='B (Train)',alpha=0.5)\n",
    " \n",
    "    # # Draw error-bar histograms for the testing data\n",
    "    ax1.errorbar(bin_centers, Histo_testing_S[0], yerr=ErrorBar_testing_S, xerr=None, ecolor='blue',c='blue',fmt='o',label='S (Test)')\n",
    "    ax1.errorbar(bin_centers, Histo_testing_B[0], yerr=ErrorBar_testing_B, xerr=None, ecolor='red',c='red',fmt='o',label='B (Test)')\n",
    " \n",
    "    # Make a colorful backdrop to show the clasification regions in red and blue\n",
    "    ax1.axvspan(0.0, c_max, color='blue',alpha=0.08)\n",
    "    ax1.axvspan(c_min,0.0, color='red',alpha=0.08)\n",
    " \n",
    "    # Adjust the axis boundaries (just cosmetic)\n",
    "    ax1.axis([c_min, c_max, h_min, h_max])   \n",
    "        \n",
    "construct_train_test(regr_2, X_train, y_train, X_test, y_test)    \n",
    "\n"
   ]
  },
  {
   "cell_type": "code",
   "execution_count": 17,
   "metadata": {},
   "outputs": [],
   "source": [
    "from sklearn.tree import DecisionTreeClassifier\n",
    "from sklearn.ensemble import GradientBoostingClassifier\n",
    "\n"
   ]
  },
  {
   "cell_type": "code",
   "execution_count": 18,
   "metadata": {},
   "outputs": [],
   "source": [
    "##BDT\n",
    "bdt = GradientBoostingClassifier(\n",
    "    n_estimators=200, learning_rate=0.5,\n",
    "    min_samples_leaf=int(0.05*len(X_train)),\n",
    "    max_depth=3, random_state=0)"
   ]
  },
  {
   "cell_type": "code",
   "execution_count": null,
   "metadata": {},
   "outputs": [],
   "source": [
    "bdt.fit(X_train, y_train)\n"
   ]
  },
  {
   "cell_type": "code",
   "execution_count": null,
   "metadata": {},
   "outputs": [],
   "source": [
    "# For DNN again the overtraining check \n",
    "def compare_train_test(clf, X_train, y_train, X_test, y_test, bins=30):\n",
    "    decisions = []\n",
    "    for X,y in ((X_train, y_train), (X_test, y_test)):\n",
    "        d1 = clf.predict(X[y>0.5]).ravel()\n",
    "        d2 = clf.predict(X[y<0.5]).ravel()\n",
    "        decisions += [d1, d2]\n",
    "        \n",
    "    low = min(np.min(d) for d in decisions)\n",
    "    high = max(np.max(d) for d in decisions)\n",
    "    low_high = (low,high)\n",
    "     \n",
    "    ax1 = plt.subplot(111)\n",
    "\n",
    "    \n",
    "    ax1.hist(decisions[0],\n",
    "             color='r', alpha=0.5, range=low_high, bins=bins,\n",
    "             histtype='stepfilled',\n",
    "             label='S (train)')\n",
    "    ax1.hist(decisions[1],\n",
    "             color='y', alpha=0.5, range=low_high, bins=bins,\n",
    "             histtype='stepfilled',\n",
    "             label='B (train)')\n",
    "    \n",
    "    hist, bins = np.histogram(decisions[2],\n",
    "                              bins=bins, range=low_high)\n",
    "    scale = len(decisions[2]) / sum(hist)\n",
    "    err = np.sqrt(hist * scale) / scale\n",
    "    \n",
    "    width = (bins[1] - bins[0])\n",
    "    center = (bins[:-1] + bins[1:]) / 2\n",
    "    ax1.errorbar(center, hist, yerr=err, fmt='o', c='r', label='S (test)')\n",
    "    \n",
    "    hist, bins = np.histogram(decisions[3],\n",
    "                              bins=bins, range=low_high,)\n",
    "    scale = len(decisions[2]) / sum(hist)\n",
    "    err = np.sqrt(hist * scale) / scale\n",
    "\n",
    "    ax1.errorbar(center, hist, yerr=err, fmt='>', c='b', label='B (test)')\n",
    "\n",
    "    plt.xlabel(\"DNN output\")\n",
    "    plt.ylabel(\"\")\n",
    "    plt.legend(loc='best')\n",
    "    \n",
    "compare_train_test(b, X_train, y_train, X_test, y_test)    \n"
   ]
  }
 ],
 "metadata": {
  "kernelspec": {
   "display_name": "Python 3 (ipykernel)",
   "language": "python",
   "name": "python3"
  },
  "language_info": {
   "codemirror_mode": {
    "name": "ipython",
    "version": 3
   },
   "file_extension": ".py",
   "mimetype": "text/x-python",
   "name": "python",
   "nbconvert_exporter": "python",
   "pygments_lexer": "ipython3",
   "version": "3.8.10"
  }
 },
 "nbformat": 4,
 "nbformat_minor": 4
}
