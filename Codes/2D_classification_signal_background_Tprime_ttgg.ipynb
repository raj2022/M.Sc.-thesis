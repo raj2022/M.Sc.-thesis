{
 "cells": [
  {
   "cell_type": "markdown",
   "metadata": {},
   "source": [
    "# With Background ttgg and signal Tprime"
   ]
  },
  {
   "cell_type": "markdown",
   "metadata": {},
   "source": [
    "Here, The input files are Signal with Tprime and background file used here are ttgg. Both have been used with the same number of input varaibles.'dipho_pt','dipho_phi',      'dipho_eta','dipho_e','dipho_mass','dipho_leadPt',  'dipho_leadEt','dipho_leadEta','dipho_leadPhi',          'dipho_subleadEta','bjet1_pt','bjet2_pt','bjet1_eta',\n",
    " 'bjet2_eta', 'jet1_pt','jet2_pt', 'jet1_eta',           'n_jets', 'n_bjets', 'bjet2_phi',  'bjet3_phi',           'bjet1_discr','bjet2_discr', 'bjet3_discr',        'jet3_pt', 'jet3_phi',  'jet1_e',  'jet2_e',         'jet3_e'.\n",
    "\n",
    "    "
   ]
  },
  {
   "cell_type": "code",
   "execution_count": 1,
   "metadata": {},
   "outputs": [
    {
     "name": "stderr",
     "output_type": "stream",
     "text": [
      "Using TensorFlow backend.\n"
     ]
    },
    {
     "name": "stdout",
     "output_type": "stream",
     "text": [
      "Welcome to JupyROOT 6.16/00\n"
     ]
    }
   ],
   "source": [
    "import pandas as pd\n",
    "import math\n",
    "import glob\n",
    "import matplotlib.pyplot as plt\n",
    "import seaborn as sns\n",
    "import keras\n",
    "from keras.models import Sequential, load_model\n",
    "from keras.layers import Dense, Activation\n",
    "from keras.callbacks import EarlyStopping, ModelCheckpoint, Callback\n",
    "from keras.optimizers import adam\n",
    "%matplotlib inline\n",
    "import random\n",
    "import pandas, numpy\n",
    "from sklearn.model_selection import train_test_split\n",
    "from sklearn.tree import DecisionTreeClassifier\n",
    "from sklearn.ensemble import GradientBoostingClassifier\n",
    "# this wrapper makes it possible to train on subset of features\n",
    "import sklearn\n",
    "from matplotlib import pyplot as plt\n",
    "import pandas as pd\n",
    "import numpy as np\n",
    "import matplotlib\n",
    "import matplotlib.pyplot as plt\n",
    "import scipy as sp\n",
    "import seaborn as sns\n",
    "from keras.callbacks import EarlyStopping, ModelCheckpoint, Callback\n",
    "# import xgboost as xgb\n",
    "from itertools import tee, islice\n",
    "from ROOT import TFile, TCanvas, TPad, TPaveLabel, TPaveText, TTree, TH1F, TF1\n",
    "from root_numpy import root2array, tree2array, array2tree, array2root\n",
    "import sys\n",
    "from ROOT import gROOT, AddressOf\n",
    "from root_numpy import root2array, rec2array\n",
    "from sklearn import datasets\n",
    "from sklearn.tree import DecisionTreeClassifier\n",
    "from sklearn.ensemble import AdaBoostClassifier\n",
    "from sklearn.metrics import classification_report, roc_auc_score\n",
    "import matplotlib.ticker as ticker\n",
    "from sklearn.neural_network import MLPClassifier\n",
    "from sklearn.model_selection import train_test_split\n",
    "from sklearn import metrics\n",
    "from sklearn.discriminant_analysis import LinearDiscriminantAnalysis as LDA\n",
    "from sklearn.neural_network import MLPClassifier\n",
    "from sklearn.svm import SVC\n",
    "from sklearn import tree"
   ]
  },
  {
   "cell_type": "code",
   "execution_count": 2,
   "metadata": {},
   "outputs": [],
   "source": [
    "signal = '/afs/cern.ch/user/s/sraj/public/data_folder/output_TprimeBToTH_Hgg_M-600_LH_TuneCP5_PSweights_13TeV-madgraph_pythia8.root'\n",
    "back_3 = '/afs/cern.ch/user/s/sraj/public/data_folder/output_TTGG_0Jets_TuneCP5_13TeV_amcatnlo_madspin_pythia8.root'\n",
    "treeName_back_3 =\"tagsDumper/trees/ttgg_13TeV_THQLeptonicTag\" \n",
    "treeName_signal = \"tagsDumper/trees/Tprime_600_13TeV_THQLeptonicTag\"\n",
    "columns = ['dipho_pt',\n",
    "           'dipho_phi',\n",
    "           'dipho_eta',\n",
    "           'dipho_e',\n",
    "           'dipho_mass',\n",
    "           'dipho_leadPt',\n",
    "           'dipho_leadEt',\n",
    "           'dipho_leadEta',\n",
    "           'dipho_leadPhi',\n",
    "           'dipho_subleadEta',\n",
    "           'bjet1_pt',\n",
    "           'bjet2_pt',\n",
    "           'bjet1_eta',\n",
    "           'bjet2_eta',\n",
    "           'jet1_pt',\n",
    "           'jet2_pt',\n",
    "           'jet1_eta',\n",
    "           'n_jets',\n",
    "           'n_bjets',\n",
    "           'bjet2_phi',\n",
    "           'bjet3_phi',\n",
    "#            'bjet3_eta',\n",
    "           'bjet1_discr',\n",
    "           'bjet2_discr',\n",
    "           'bjet3_discr',\n",
    "           'jet3_pt',\n",
    "#           'jet1_phi',\n",
    "#          'jet2_phi' ,\n",
    "          'jet3_phi',\n",
    "          'jet1_e',\n",
    "          'jet2_e',\n",
    "          'jet3_e',\n",
    "#            'CMS_hgg_mass',\n",
    "#             'sigmaMoM_decorr',\n",
    "#             'dipho_sumpt',\n",
    "#             'dipho_cosphi',\n",
    "# #             'dipho_mass',\n",
    "#             'dipho_lead_ptoM',\n",
    "#             'ele1_pt',\n",
    "#             'ele2_pt',\n",
    "#             'ele1_eta',\n",
    "#             'ele2_eta',\n",
    "#             'ele1_phi',\n",
    "#             'ele2_phi',\n",
    "#             'ele1_e',\n",
    "#             'ele2_e',\n",
    "#             'ele1_ch',\n",
    "#             'ele2_ch',\n",
    "          ]\n",
    "\n",
    "\n",
    "#Data is converted to array\n",
    "mc_arr = root2array(signal, treeName_signal, columns)\n",
    "# data_arr_1 = root2array(back_1, treeName_back_1, columns)\n",
    "# data_arr_2 = root2array(back_2, treeName_back_2, columns)\n",
    "data_arr_3 = root2array(back_3, treeName_back_3, columns)\n",
    "\n",
    "# data_arr= np.concatenate((data_arr_1, data_arr_2, data_arr_3),axis =0)\n",
    "\n",
    "signal_array = rec2array(mc_arr)\n",
    "backgr_array = rec2array(data_arr_3)\n"
   ]
  },
  {
   "cell_type": "code",
   "execution_count": 3,
   "metadata": {},
   "outputs": [],
   "source": [
    "##you can convert in dataFrame or may be not. There will be no significant effect\n",
    "# on the output as it is already in array form\n",
    "signal = pd.DataFrame(signal_array)\n",
    "backgr = pd.DataFrame(backgr_array)"
   ]
  },
  {
   "cell_type": "markdown",
   "metadata": {},
   "source": [
    "Define X and y from the given files. It is defined to get array for further classification in spltting it into test and train parts\n"
   ]
  },
  {
   "cell_type": "code",
   "execution_count": 4,
   "metadata": {},
   "outputs": [],
   "source": [
    "X = np.concatenate((signal, backgr))\n",
    "Y = np.concatenate((np.ones(signal.shape[0]),\n",
    "                    np.zeros(backgr.shape[0])))\n"
   ]
  },
  {
   "cell_type": "markdown",
   "metadata": {},
   "source": [
    "With the help of sklearn module \"from sklearn.model_selection import train_test_split\n",
    "\" divide the file into train and test parts. Here we have took the standard 33% for testing and rest 67% of the data for training. We can also split the datas further as wish into 50% training and 50% testing but there might be chances of undertraining or overfitting."
   ]
  },
  {
   "cell_type": "code",
   "execution_count": 5,
   "metadata": {},
   "outputs": [],
   "source": [
    "Xtrain,Xtest, Ytrain,Ytest = train_test_split(X, Y, test_size=0.33, random_state =40)"
   ]
  },
  {
   "cell_type": "markdown",
   "metadata": {},
   "source": [
    "We can also divide the data into this way "
   ]
  },
  {
   "cell_type": "code",
   "execution_count": 6,
   "metadata": {},
   "outputs": [],
   "source": [
    "# r =numpy.random.rand(X.shape[0])\n",
    "# # Get training and testing samples, splitting in half (using 0.5)\n",
    "# Xtrain=X[r>0.5]\n",
    "# Xtest=X[r<=0.5]   \n",
    "# Ytrain=Y[r>0.5]\n",
    "# Ytest=Y[r<=0.5] \n",
    "# # print(r[0:100])"
   ]
  },
  {
   "cell_type": "markdown",
   "metadata": {},
   "source": [
    "Here importing the modeules for DNN training. we can also do another method of machine learning, we will get same output from each and every training. There might be differences in the training accuracy and loss of the model"
   ]
  },
  {
   "cell_type": "code",
   "execution_count": 7,
   "metadata": {},
   "outputs": [],
   "source": [
    "from keras.models import Sequential\n",
    "from keras.layers import Dense\n",
    "import tensorflow as tf\n",
    "import keras\n",
    "from keras.layers import Dropout\n",
    "from keras.constraints import maxnorm\n",
    "from keras.wrappers.scikit_learn import KerasClassifier\n",
    "from keras.constraints import maxnorm\n",
    "from keras.optimizers import SGD\n",
    "from sklearn.model_selection import cross_val_score\n",
    "from sklearn.preprocessing import LabelEncoder\n",
    "from sklearn.model_selection import StratifiedKFold\n",
    "from sklearn.preprocessing import StandardScaler\n",
    "from sklearn.pipeline import Pipeline\n",
    "from keras.utils.vis_utils import plot_model\n",
    "from keras.layers import LSTM\n",
    "\n"
   ]
  },
  {
   "attachments": {},
   "cell_type": "markdown",
   "metadata": {},
   "source": [
    "This is the model summary of the DNN, \n",
    "\n",
    "https://github.com/raj2022/M.Sc.-thesis/blob/main/Outputs/clf_plot____.png"
   ]
  },
  {
   "cell_type": "code",
   "execution_count": 8,
   "metadata": {},
   "outputs": [
    {
     "name": "stdout",
     "output_type": "stream",
     "text": [
      "_________________________________________________________________\n",
      "Layer (type)                 Output Shape              Param #   \n",
      "=================================================================\n",
      "dropout_1 (Dropout)          (None, 29)                0         \n",
      "_________________________________________________________________\n",
      "dense_1 (Dense)              (None, 200)               6000      \n",
      "_________________________________________________________________\n",
      "dense_2 (Dense)              (None, 100)               20100     \n",
      "_________________________________________________________________\n",
      "dense_3 (Dense)              (None, 100)               10100     \n",
      "_________________________________________________________________\n",
      "dense_4 (Dense)              (None, 100)               10100     \n",
      "_________________________________________________________________\n",
      "dense_5 (Dense)              (None, 100)               10100     \n",
      "_________________________________________________________________\n",
      "output (Dense)               (None, 1)                 101       \n",
      "=================================================================\n",
      "Total params: 56,501\n",
      "Trainable params: 56,501\n",
      "Non-trainable params: 0\n",
      "_________________________________________________________________\n",
      "None\n"
     ]
    }
   ],
   "source": [
    "#define model for training\n",
    "\n",
    "clf = Sequential()\n",
    "# clf.add(LSTM(1, return_sequences=True ))\n",
    "clf.add(Dropout(3,input_shape = (29,)))\n",
    "clf.add(Dense(200, activation = 'relu', kernel_initializer = 'lecun_uniform',name = 'dense_1'))\n",
    "clf.add(Dense(100, activation = 'relu', kernel_initializer = 'lecun_uniform', name = 'dense_2'))\n",
    "clf.add(Dense(100, activation = 'relu', kernel_initializer = 'lecun_uniform', name = 'dense_3'))\n",
    "clf.add(Dense(100, activation = 'relu', kernel_initializer = 'lecun_uniform',name = 'dense_4'))\n",
    "clf.add(Dense(100, activation = 'relu', kernel_initializer = 'lecun_uniform', name = 'dense_5'))\n",
    "#Output\n",
    "clf.add(Dense(1, activation = 'sigmoid', kernel_initializer = 'lecun_uniform', name = 'output'))\n",
    "#compile model\n",
    "clf.compile(loss = 'binary_crossentropy', \n",
    "            optimizer='adam',\n",
    "            metrics=['accuracy'])\n",
    "print(clf.summary())\n",
    "plot_model(clf, to_file='clf_plot____.png', show_shapes=True, show_layer_names=True)"
   ]
  },
  {
   "cell_type": "code",
   "execution_count": 9,
   "metadata": {
    "scrolled": true
   },
   "outputs": [
    {
     "name": "stdout",
     "output_type": "stream",
     "text": [
      "Train on 68772 samples, validate on 22924 samples\n",
      "Epoch 1/100\n",
      "68772/68772 [==============================] - 2s 33us/step - loss: 2.1388 - acc: 0.7327 - val_loss: 0.3981 - val_acc: 0.8365\n",
      "Epoch 2/100\n",
      "68772/68772 [==============================] - 1s 15us/step - loss: 0.3847 - acc: 0.8414 - val_loss: 0.5513 - val_acc: 0.7951\n",
      "Epoch 3/100\n",
      "68772/68772 [==============================] - 1s 15us/step - loss: 0.3663 - acc: 0.8490 - val_loss: 0.3632 - val_acc: 0.8476\n",
      "Epoch 4/100\n",
      "68772/68772 [==============================] - 1s 16us/step - loss: 0.3502 - acc: 0.8549 - val_loss: 0.3500 - val_acc: 0.8515\n",
      "Epoch 5/100\n",
      "68772/68772 [==============================] - 1s 15us/step - loss: 0.3351 - acc: 0.8607 - val_loss: 0.3301 - val_acc: 0.8592\n",
      "Epoch 6/100\n",
      "68772/68772 [==============================] - 1s 19us/step - loss: 0.3242 - acc: 0.8654 - val_loss: 0.3324 - val_acc: 0.8596\n",
      "Epoch 7/100\n",
      "68772/68772 [==============================] - 1s 17us/step - loss: 0.3224 - acc: 0.8650 - val_loss: 0.3537 - val_acc: 0.8492\n",
      "Epoch 8/100\n",
      "68772/68772 [==============================] - 1s 18us/step - loss: 0.3232 - acc: 0.8659 - val_loss: 0.3292 - val_acc: 0.8577\n",
      "Epoch 9/100\n",
      "68772/68772 [==============================] - 1s 17us/step - loss: 0.3200 - acc: 0.8673 - val_loss: 0.3279 - val_acc: 0.8610\n",
      "Epoch 10/100\n",
      "68772/68772 [==============================] - 1s 18us/step - loss: 0.3173 - acc: 0.8689 - val_loss: 0.3848 - val_acc: 0.8408\n",
      "Epoch 11/100\n",
      "68772/68772 [==============================] - 1s 19us/step - loss: 0.3279 - acc: 0.8635 - val_loss: 0.3306 - val_acc: 0.8593\n",
      "Epoch 12/100\n",
      "68772/68772 [==============================] - 1s 19us/step - loss: 0.3098 - acc: 0.8716 - val_loss: 0.3199 - val_acc: 0.8655\n",
      "Epoch 13/100\n",
      "68772/68772 [==============================] - 1s 16us/step - loss: 0.3042 - acc: 0.8735 - val_loss: 0.3120 - val_acc: 0.8674\n",
      "Epoch 14/100\n",
      "68772/68772 [==============================] - 1s 17us/step - loss: 0.3060 - acc: 0.8725 - val_loss: 0.3150 - val_acc: 0.8669\n",
      "Epoch 15/100\n",
      "68772/68772 [==============================] - 2s 22us/step - loss: 0.3107 - acc: 0.8717 - val_loss: 0.3707 - val_acc: 0.8461\n",
      "Epoch 16/100\n",
      "68772/68772 [==============================] - 1s 21us/step - loss: 0.3155 - acc: 0.8697 - val_loss: 0.3151 - val_acc: 0.8692\n",
      "Epoch 17/100\n",
      "68772/68772 [==============================] - 2s 24us/step - loss: 0.3041 - acc: 0.8743 - val_loss: 0.3170 - val_acc: 0.8666\n",
      "Epoch 18/100\n",
      "68772/68772 [==============================] - 1s 20us/step - loss: 0.3067 - acc: 0.8733 - val_loss: 0.3118 - val_acc: 0.8672\n",
      "Epoch 19/100\n",
      "68772/68772 [==============================] - 1s 17us/step - loss: 0.3000 - acc: 0.8757 - val_loss: 0.3125 - val_acc: 0.8680\n",
      "Epoch 20/100\n",
      "68772/68772 [==============================] - 1s 17us/step - loss: 0.2957 - acc: 0.8774 - val_loss: 0.3092 - val_acc: 0.8701\n",
      "Epoch 21/100\n",
      "68772/68772 [==============================] - 1s 18us/step - loss: 0.2959 - acc: 0.8781 - val_loss: 0.3112 - val_acc: 0.8707\n",
      "Epoch 22/100\n",
      "68772/68772 [==============================] - 1s 16us/step - loss: 0.2953 - acc: 0.8777 - val_loss: 0.3016 - val_acc: 0.8725\n",
      "Epoch 23/100\n",
      "68772/68772 [==============================] - 1s 15us/step - loss: 0.2880 - acc: 0.8815 - val_loss: 0.3058 - val_acc: 0.8712\n",
      "Epoch 24/100\n",
      "68772/68772 [==============================] - 1s 15us/step - loss: 0.2861 - acc: 0.8823 - val_loss: 0.3024 - val_acc: 0.8743\n",
      "Epoch 25/100\n",
      "68772/68772 [==============================] - 1s 14us/step - loss: 0.2966 - acc: 0.8790 - val_loss: 0.2997 - val_acc: 0.8728\n",
      "Epoch 26/100\n",
      "68772/68772 [==============================] - 1s 14us/step - loss: 0.2778 - acc: 0.8854 - val_loss: 0.2936 - val_acc: 0.8793\n",
      "Epoch 27/100\n",
      "68772/68772 [==============================] - 1s 15us/step - loss: 0.2677 - acc: 0.8902 - val_loss: 0.3168 - val_acc: 0.8687\n",
      "Epoch 28/100\n",
      "68772/68772 [==============================] - 1s 18us/step - loss: 0.2771 - acc: 0.8868 - val_loss: 0.2671 - val_acc: 0.8911\n",
      "Epoch 29/100\n",
      "68772/68772 [==============================] - 1s 16us/step - loss: 0.2621 - acc: 0.8939 - val_loss: 0.2625 - val_acc: 0.8912\n",
      "Epoch 30/100\n",
      "68772/68772 [==============================] - 1s 15us/step - loss: 0.2563 - acc: 0.8960 - val_loss: 0.2602 - val_acc: 0.8933\n",
      "Epoch 31/100\n",
      "68772/68772 [==============================] - 1s 19us/step - loss: 0.2441 - acc: 0.9009 - val_loss: 0.2775 - val_acc: 0.8854\n",
      "Epoch 32/100\n",
      "68772/68772 [==============================] - 1s 19us/step - loss: 0.2482 - acc: 0.9000 - val_loss: 0.2586 - val_acc: 0.8944\n",
      "Epoch 33/100\n",
      "68772/68772 [==============================] - 1s 20us/step - loss: 0.2598 - acc: 0.8970 - val_loss: 0.8931 - val_acc: 0.6532\n",
      "Epoch 34/100\n",
      "68772/68772 [==============================] - 1s 22us/step - loss: 0.3791 - acc: 0.8455 - val_loss: 0.3334 - val_acc: 0.8577\n",
      "Epoch 35/100\n",
      "68772/68772 [==============================] - 1s 15us/step - loss: 0.3203 - acc: 0.8671 - val_loss: 0.3156 - val_acc: 0.8646\n",
      "Epoch 36/100\n",
      "68772/68772 [==============================] - 1s 17us/step - loss: 0.3059 - acc: 0.8727 - val_loss: 0.3092 - val_acc: 0.8708\n",
      "Epoch 37/100\n",
      "68772/68772 [==============================] - 2s 25us/step - loss: 0.2857 - acc: 0.8821 - val_loss: 0.2820 - val_acc: 0.8824\n",
      "Epoch 38/100\n",
      "68772/68772 [==============================] - 3s 38us/step - loss: 0.2794 - acc: 0.8848 - val_loss: 0.2883 - val_acc: 0.8814\n",
      "Epoch 39/100\n",
      "68772/68772 [==============================] - 2s 26us/step - loss: 0.2717 - acc: 0.8895 - val_loss: 0.2836 - val_acc: 0.8821\n",
      "Epoch 40/100\n",
      "68772/68772 [==============================] - 2s 25us/step - loss: 0.2564 - acc: 0.8955 - val_loss: 0.2664 - val_acc: 0.8906\n",
      "Epoch 41/100\n",
      "68772/68772 [==============================] - 2s 26us/step - loss: 0.2520 - acc: 0.8981 - val_loss: 0.2635 - val_acc: 0.8897\n",
      "Epoch 42/100\n",
      "68772/68772 [==============================] - 1s 21us/step - loss: 0.2524 - acc: 0.8966 - val_loss: 0.2551 - val_acc: 0.8947\n",
      "Epoch 43/100\n",
      "68772/68772 [==============================] - 1s 20us/step - loss: 0.2405 - acc: 0.9028 - val_loss: 0.2451 - val_acc: 0.8984\n",
      "Epoch 44/100\n",
      "68772/68772 [==============================] - 1s 21us/step - loss: 0.2544 - acc: 0.8973 - val_loss: 0.2981 - val_acc: 0.8728\n",
      "Epoch 45/100\n",
      "68772/68772 [==============================] - 2s 26us/step - loss: 0.2365 - acc: 0.9036 - val_loss: 0.2806 - val_acc: 0.8844\n",
      "Epoch 46/100\n",
      "68772/68772 [==============================] - 2s 26us/step - loss: 0.2320 - acc: 0.9052 - val_loss: 0.2416 - val_acc: 0.9007\n",
      "Epoch 47/100\n",
      "68772/68772 [==============================] - 2s 22us/step - loss: 0.2187 - acc: 0.9114 - val_loss: 0.2395 - val_acc: 0.9020\n",
      "Epoch 48/100\n",
      "68772/68772 [==============================] - 1s 20us/step - loss: 0.2162 - acc: 0.9135 - val_loss: 0.3410 - val_acc: 0.8710\n",
      "Epoch 49/100\n",
      "68772/68772 [==============================] - 1s 18us/step - loss: 0.2214 - acc: 0.9106 - val_loss: 0.2382 - val_acc: 0.9024\n",
      "Epoch 50/100\n",
      "68772/68772 [==============================] - 1s 21us/step - loss: 0.2191 - acc: 0.9114 - val_loss: 0.3145 - val_acc: 0.8646\n",
      "Epoch 51/100\n",
      "68772/68772 [==============================] - 1s 21us/step - loss: 0.2141 - acc: 0.9133 - val_loss: 0.2391 - val_acc: 0.9032\n",
      "Epoch 52/100\n",
      "68772/68772 [==============================] - 1s 19us/step - loss: 0.2001 - acc: 0.9197 - val_loss: 0.2136 - val_acc: 0.9132\n",
      "Epoch 53/100\n",
      "68772/68772 [==============================] - 1s 20us/step - loss: 0.1968 - acc: 0.9216 - val_loss: 0.2505 - val_acc: 0.8993\n",
      "Epoch 54/100\n",
      "68772/68772 [==============================] - 1s 19us/step - loss: 0.2103 - acc: 0.9156 - val_loss: 0.2650 - val_acc: 0.8896\n",
      "Epoch 55/100\n",
      "68772/68772 [==============================] - 1s 19us/step - loss: 0.1997 - acc: 0.9197 - val_loss: 0.2227 - val_acc: 0.9100\n",
      "Epoch 56/100\n",
      "68772/68772 [==============================] - 1s 20us/step - loss: 0.1881 - acc: 0.9247 - val_loss: 0.2093 - val_acc: 0.9166\n",
      "Epoch 57/100\n",
      "68772/68772 [==============================] - 1s 19us/step - loss: 0.2028 - acc: 0.9180 - val_loss: 0.2295 - val_acc: 0.9062\n",
      "Epoch 58/100\n",
      "68772/68772 [==============================] - 1s 18us/step - loss: 0.1860 - acc: 0.9262 - val_loss: 0.2195 - val_acc: 0.9152\n",
      "Epoch 59/100\n"
     ]
    },
    {
     "name": "stdout",
     "output_type": "stream",
     "text": [
      "68772/68772 [==============================] - 1s 17us/step - loss: 0.2074 - acc: 0.9171 - val_loss: 0.2403 - val_acc: 0.9036\n",
      "Epoch 60/100\n",
      "68772/68772 [==============================] - 1s 18us/step - loss: 0.1829 - acc: 0.9272 - val_loss: 0.2307 - val_acc: 0.9052\n",
      "Epoch 61/100\n",
      "68772/68772 [==============================] - 1s 17us/step - loss: 0.1845 - acc: 0.9265 - val_loss: 0.2119 - val_acc: 0.9128\n",
      "Epoch 62/100\n",
      "68772/68772 [==============================] - 1s 18us/step - loss: 0.1774 - acc: 0.9296 - val_loss: 0.2039 - val_acc: 0.9183\n",
      "Epoch 63/100\n",
      "68772/68772 [==============================] - 1s 18us/step - loss: 0.1780 - acc: 0.9305 - val_loss: 0.1994 - val_acc: 0.9193\n",
      "Epoch 64/100\n",
      "68772/68772 [==============================] - 1s 17us/step - loss: 0.2069 - acc: 0.9169 - val_loss: 0.2181 - val_acc: 0.9131\n",
      "Epoch 65/100\n",
      "68772/68772 [==============================] - 1s 19us/step - loss: 0.1802 - acc: 0.9282 - val_loss: 0.2354 - val_acc: 0.9074\n",
      "Epoch 66/100\n",
      "68772/68772 [==============================] - 1s 19us/step - loss: 0.1779 - acc: 0.9285 - val_loss: 0.2038 - val_acc: 0.9191\n",
      "Epoch 67/100\n",
      "68772/68772 [==============================] - 2s 25us/step - loss: 0.1775 - acc: 0.9288 - val_loss: 0.2035 - val_acc: 0.9180\n",
      "Epoch 68/100\n",
      "68772/68772 [==============================] - 1s 19us/step - loss: 0.1844 - acc: 0.9269 - val_loss: 0.2357 - val_acc: 0.9088\n",
      "Epoch 69/100\n",
      "68772/68772 [==============================] - 1s 19us/step - loss: 0.1787 - acc: 0.9287 - val_loss: 0.2079 - val_acc: 0.9159\n",
      "Epoch 70/100\n",
      "68772/68772 [==============================] - 2s 23us/step - loss: 0.1651 - acc: 0.9354 - val_loss: 0.2195 - val_acc: 0.9136\n",
      "Epoch 71/100\n",
      "68772/68772 [==============================] - 2s 26us/step - loss: 0.1706 - acc: 0.9314 - val_loss: 0.2178 - val_acc: 0.9109\n",
      "Epoch 72/100\n",
      "68772/68772 [==============================] - 2s 23us/step - loss: 0.1735 - acc: 0.9306 - val_loss: 0.2258 - val_acc: 0.9091\n",
      "Epoch 73/100\n",
      "68772/68772 [==============================] - 2s 30us/step - loss: 0.1710 - acc: 0.9327 - val_loss: 0.2181 - val_acc: 0.9136\n",
      "Epoch 74/100\n",
      "68772/68772 [==============================] - 1s 21us/step - loss: 0.1783 - acc: 0.9285 - val_loss: 0.2346 - val_acc: 0.9089\n",
      "Epoch 75/100\n",
      "68772/68772 [==============================] - 1s 20us/step - loss: 0.1715 - acc: 0.9314 - val_loss: 0.1955 - val_acc: 0.9220\n",
      "Epoch 76/100\n",
      "68772/68772 [==============================] - 2s 24us/step - loss: 0.1630 - acc: 0.9352 - val_loss: 0.1960 - val_acc: 0.9228\n",
      "Epoch 77/100\n",
      "68772/68772 [==============================] - 2s 24us/step - loss: 0.1599 - acc: 0.9358 - val_loss: 0.1973 - val_acc: 0.9220\n",
      "Epoch 78/100\n",
      "68772/68772 [==============================] - 1s 21us/step - loss: 0.1704 - acc: 0.9322 - val_loss: 0.2017 - val_acc: 0.9211\n",
      "Epoch 79/100\n",
      "68772/68772 [==============================] - 2s 24us/step - loss: 0.1655 - acc: 0.9344 - val_loss: 0.2090 - val_acc: 0.9183\n",
      "Epoch 80/100\n",
      "68772/68772 [==============================] - 1s 18us/step - loss: 0.1841 - acc: 0.9276 - val_loss: 0.2113 - val_acc: 0.9169\n",
      "Epoch 81/100\n",
      "68772/68772 [==============================] - 1s 19us/step - loss: 0.1575 - acc: 0.9380 - val_loss: 0.2042 - val_acc: 0.9222\n",
      "Epoch 82/100\n",
      "68772/68772 [==============================] - 1s 21us/step - loss: 0.1597 - acc: 0.9365 - val_loss: 0.2014 - val_acc: 0.9237\n",
      "Epoch 83/100\n",
      "68772/68772 [==============================] - 1s 18us/step - loss: 0.1587 - acc: 0.9374 - val_loss: 0.1982 - val_acc: 0.9237\n",
      "Epoch 84/100\n",
      "68772/68772 [==============================] - 2s 22us/step - loss: 0.1542 - acc: 0.9393 - val_loss: 0.2000 - val_acc: 0.9212\n",
      "Epoch 85/100\n",
      "68772/68772 [==============================] - 1s 20us/step - loss: 0.1716 - acc: 0.9313 - val_loss: 0.2185 - val_acc: 0.9165\n",
      "Epoch 86/100\n",
      "68772/68772 [==============================] - 1s 19us/step - loss: 0.1646 - acc: 0.9353 - val_loss: 0.2014 - val_acc: 0.9227\n",
      "Epoch 87/100\n",
      "68772/68772 [==============================] - 1s 19us/step - loss: 0.1522 - acc: 0.9392 - val_loss: 0.2007 - val_acc: 0.9217\n",
      "Epoch 88/100\n",
      "68772/68772 [==============================] - 1s 20us/step - loss: 0.1680 - acc: 0.9339 - val_loss: 0.3251 - val_acc: 0.8724\n",
      "Epoch 89/100\n",
      "68772/68772 [==============================] - 1s 18us/step - loss: 0.1768 - acc: 0.9296 - val_loss: 0.2246 - val_acc: 0.9101\n",
      "Epoch 90/100\n",
      "68772/68772 [==============================] - 1s 20us/step - loss: 0.1608 - acc: 0.9360 - val_loss: 0.1934 - val_acc: 0.9248\n",
      "Epoch 91/100\n",
      "68772/68772 [==============================] - 1s 19us/step - loss: 0.1508 - acc: 0.9408 - val_loss: 0.2223 - val_acc: 0.9151\n",
      "Epoch 92/100\n",
      "68772/68772 [==============================] - 1s 17us/step - loss: 0.1546 - acc: 0.9385 - val_loss: 0.1993 - val_acc: 0.9237\n",
      "Epoch 93/100\n",
      "68772/68772 [==============================] - 1s 18us/step - loss: 0.1531 - acc: 0.9394 - val_loss: 0.1977 - val_acc: 0.9227\n",
      "Epoch 94/100\n",
      "68772/68772 [==============================] - 1s 20us/step - loss: 0.1661 - acc: 0.9339 - val_loss: 0.2005 - val_acc: 0.9249\n",
      "Epoch 95/100\n",
      "68772/68772 [==============================] - 2s 28us/step - loss: 0.1519 - acc: 0.9393 - val_loss: 0.3171 - val_acc: 0.8719\n",
      "Epoch 96/100\n",
      "68772/68772 [==============================] - 1s 20us/step - loss: 0.1609 - acc: 0.9356 - val_loss: 0.2137 - val_acc: 0.9189\n",
      "Epoch 97/100\n",
      "68772/68772 [==============================] - 1s 17us/step - loss: 0.1606 - acc: 0.9360 - val_loss: 0.2702 - val_acc: 0.8940\n",
      "Epoch 98/100\n",
      "68772/68772 [==============================] - 1s 19us/step - loss: 0.1589 - acc: 0.9365 - val_loss: 0.2155 - val_acc: 0.9183\n",
      "Epoch 99/100\n",
      "68772/68772 [==============================] - 1s 18us/step - loss: 0.1478 - acc: 0.9415 - val_loss: 0.2149 - val_acc: 0.9185\n",
      "Epoch 100/100\n",
      "68772/68772 [==============================] - 1s 19us/step - loss: 0.1511 - acc: 0.9402 - val_loss: 0.2606 - val_acc: 0.8991\n"
     ]
    },
    {
     "name": "stderr",
     "output_type": "stream",
     "text": [
      "2021-10-11 14:06:01.544700: I tensorflow/core/platform/cpu_feature_guard.cc:141] Your CPU supports instructions that this TensorFlow binary was not compiled to use: AVX2 FMA\n"
     ]
    }
   ],
   "source": [
    "h = clf.fit(Xtrain, Ytrain, epochs = 100, batch_size= 900, validation_split = 0.25)"
   ]
  },
  {
   "cell_type": "code",
   "execution_count": 10,
   "metadata": {},
   "outputs": [
    {
     "name": "stdout",
     "output_type": "stream",
     "text": [
      "Accuracy: 90.04%\n"
     ]
    }
   ],
   "source": [
    "# Final evaluation of the model for DNN\n",
    "# Testing Outputs\n",
    "scores = clf.evaluate(Xtest, Ytest, verbose=0)\n",
    "print(\"Accuracy: %.2f%%\" % (scores[1]*100))"
   ]
  },
  {
   "cell_type": "code",
   "execution_count": 11,
   "metadata": {},
   "outputs": [
    {
     "name": "stdout",
     "output_type": "stream",
     "text": [
      "Accuracy: 91.51%\n"
     ]
    }
   ],
   "source": [
    "# Final evaluation of the model for DNN\n",
    "#training Outputs\n",
    "scores = clf.evaluate(Xtrain, Ytrain, verbose=0)\n",
    "print(\"Accuracy: %.2f%%\" % (scores[1]*100))"
   ]
  },
  {
   "cell_type": "markdown",
   "metadata": {},
   "source": [
    "Plotting the ROC curve "
   ]
  },
  {
   "cell_type": "code",
   "execution_count": 12,
   "metadata": {},
   "outputs": [
    {
     "data": {
      "image/png": "[encoded data removed]",
      "text/plain": [
       "<Figure size 432x288 with 1 Axes>"
      ]
     },
     "metadata": {},
     "output_type": "display_data"
    }
   ],
   "source": [
    "from sklearn.metrics import roc_curve, auc\n",
    "\n",
    "decisions = clf.predict_proba(Xtest)\n",
    "\n",
    "# Compute ROC curve and area under the curve\n",
    "fpr, tpr, thresholds = roc_curve(Ytest, decisions)\n",
    "roc_auc = auc(fpr, tpr)\n",
    "plt.plot(fpr, tpr, lw=1, label='ROC (area = %0.2f)'%(roc_auc))\n",
    "\n",
    "plt.plot([0, 1], [0, 1], '--', color=(0.6, 0.6, 0.6), label='Luck')\n",
    "plt.xlim([-0.05, 1.05])\n",
    "plt.ylim([-0.05, 1.05])\n",
    "plt.xlabel('False Positive Rate')\n",
    "plt.ylabel('True Positive Rate')\n",
    "plt.title('Receiver operating characteristic')\n",
    "plt.legend(loc=\"lower right\")\n",
    "plt.grid()\n",
    "# plt.savefig(\"ROC_curve.png\")\n",
    "plt.show()"
   ]
  },
  {
   "cell_type": "code",
   "execution_count": 13,
   "metadata": {},
   "outputs": [
    {
     "data": {
      "image/png": "[encoded data removed]",
      "text/plain": [
       "<Figure size 432x288 with 1 Axes>"
      ]
     },
     "metadata": {},
     "output_type": "display_data"
    },
    {
     "data": {
      "image/png": "[encoded data removed]",
      "text/plain": [
       "<Figure size 432x288 with 1 Axes>"
      ]
     },
     "metadata": {},
     "output_type": "display_data"
    }
   ],
   "source": [
    "# summarize history for accuracy\n",
    "plt.plot(h.history['acc'])\n",
    "plt.plot(h.history['val_acc'])\n",
    "plt.title('model accuracy,random_state=5, epoch =300,batch_size =900, verbose=0.25')\n",
    "plt.ylabel('accuracy')\n",
    "plt.xlabel('epoch')\n",
    "plt.legend(['train', 'test'], loc='upper left')\n",
    "# plt.savefig('model_accuracy_rndmstate_6.png')\n",
    "plt.show()\n",
    "# summarize history for loss\n",
    "plt.plot(h.history['loss'])\n",
    "plt.plot(h.history['val_loss'])\n",
    "plt.title('model loss,random_state=5, epoch =300,batch_size =900, verbose=0.25')\n",
    "plt.ylabel('loss')\n",
    "plt.xlabel('epoch')\n",
    "plt.legend(['train', 'test'], loc='upper right')\n",
    "# plt.savefig('loss_rndmstate_6.png')\n",
    "plt.show()"
   ]
  },
  {
   "cell_type": "code",
   "execution_count": 14,
   "metadata": {},
   "outputs": [
    {
     "data": {
      "image/png": "[encoded data removed]",
      "text/plain": [
       "<Figure size 432x288 with 1 Axes>"
      ]
     },
     "metadata": {},
     "output_type": "display_data"
    }
   ],
   "source": [
    "plt.figure()                                     # new window\n",
    "matplotlib.rcParams.update({'font.size':14})     # set all font sizes\n",
    "tTest = clf.predict_proba(Xtest)\n",
    "# if hasattr(clf, \"decision_function\"):\n",
    "#     tTest = clf.decision_function(X_test)        # if available use decision_function\n",
    "# else:\n",
    "#     tTest = clf.predict_proba(X_test)[:,1]       # for e.g. MLP need to use predict_proba\n",
    "tBkg = tTest[Ytest==0]\n",
    "tSig = tTest[Ytest==1]\n",
    "nBins = 20\n",
    "tMin = np.floor(np.min(tTest))\n",
    "tMax = np.ceil(np.max(tTest))\n",
    "bins = np.linspace(tMin, tMax, nBins+1)\n",
    "# plt.title('Multilayer perceptron')\n",
    "plt.xlabel(' $DNN$', labelpad=3)\n",
    "plt.ylabel('$Probability density$', labelpad=40)\n",
    "n, bins, patches = plt.hist(tSig, bins=bins, density=True, histtype='step', fill=True, color ='dodgerblue' )\n",
    "n, bins, patches = plt.hist(tBkg, bins=bins, density=True, histtype='step', fill=True,color = 'red' ,alpha=0.5)\n",
    "# plt.savefig('output_TPrime_ttgg.png')\n",
    "plt.show()"
   ]
  },
  {
   "cell_type": "code",
   "execution_count": null,
   "metadata": {},
   "outputs": [],
   "source": []
  },
  {
   "cell_type": "code",
   "execution_count": null,
   "metadata": {},
   "outputs": [],
   "source": []
  },
  {
   "cell_type": "code",
   "execution_count": null,
   "metadata": {},
   "outputs": [],
   "source": []
  },
  {
   "cell_type": "code",
   "execution_count": null,
   "metadata": {},
   "outputs": [],
   "source": []
  },
  {
   "cell_type": "code",
   "execution_count": null,
   "metadata": {},
   "outputs": [],
   "source": []
  },
  {
   "cell_type": "code",
   "execution_count": null,
   "metadata": {},
   "outputs": [],
   "source": []
  },
  {
   "cell_type": "code",
   "execution_count": null,
   "metadata": {},
   "outputs": [],
   "source": []
  },
  {
   "cell_type": "code",
   "execution_count": null,
   "metadata": {},
   "outputs": [],
   "source": []
  },
  {
   "cell_type": "code",
   "execution_count": null,
   "metadata": {},
   "outputs": [],
   "source": []
  },
  {
   "cell_type": "code",
   "execution_count": null,
   "metadata": {},
   "outputs": [],
   "source": []
  },
  {
   "cell_type": "code",
   "execution_count": null,
   "metadata": {},
   "outputs": [],
   "source": []
  },
  {
   "cell_type": "code",
   "execution_count": null,
   "metadata": {},
   "outputs": [],
   "source": []
  },
  {
   "cell_type": "code",
   "execution_count": null,
   "metadata": {},
   "outputs": [],
   "source": []
  },
  {
   "cell_type": "code",
   "execution_count": null,
   "metadata": {},
   "outputs": [],
   "source": []
  },
  {
   "cell_type": "code",
   "execution_count": null,
   "metadata": {},
   "outputs": [],
   "source": []
  },
  {
   "cell_type": "code",
   "execution_count": null,
   "metadata": {},
   "outputs": [],
   "source": []
  },
  {
   "cell_type": "code",
   "execution_count": null,
   "metadata": {},
   "outputs": [],
   "source": []
  }
 ],
 "metadata": {
  "kernelspec": {
   "display_name": "Python 3",
   "language": "python",
   "name": "python3"
  },
  "language_info": {
   "codemirror_mode": {
    "name": "ipython",
    "version": 3
   },
   "file_extension": ".py",
   "mimetype": "text/x-python",
   "name": "python",
   "nbconvert_exporter": "python",
   "pygments_lexer": "ipython3",
   "version": "3.6.5"
  }
 },
 "nbformat": 4,
 "nbformat_minor": 2
}
