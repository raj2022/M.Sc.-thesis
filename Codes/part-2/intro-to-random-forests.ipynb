{
 "cells": [
  {
   "cell_type": "markdown",
   "id": "0af090e0-6c7a-4cbb-a4b6-6b32d286a2a5",
   "metadata": {},
   "source": [
    "# Lesson 1 - Introduction to random forests\n"
   ]
  },
  {
   "cell_type": "markdown",
   "id": "fe857d89-c4b8-4fd2-9162-96cc549a2be3",
   "metadata": {},
   "source": [
    "### Learning objectives"
   ]
  },
  {
   "cell_type": "markdown",
   "id": "20b7f208-f616-4827-834a-621d18a95fd0",
   "metadata": {},
   "source": [
    "\n",
    "* **bold text** Gain an introduction to the pandas library\n",
    "* Understand the main steps involved in training a machine learning model\n",
    "* Gain an introduction to scikit-learn's API\n",
    "* Understand the need to generate a training and validation set"
   ]
  },
  {
   "cell_type": "markdown",
   "id": "1435259d-e160-414d-a8bb-ce5ad8f27b92",
   "metadata": {},
   "source": [
    "* Chapters 2 & 3 of _Hands-On Machine Learning with Scikit-Learn and TensorFlow_ by Aurèlien Geron\n",
    "* Section VII of [_A high-bias, low-variance introduction to Machine Learning for physicists_](https://arxiv.org/abs/1803.08823) by P. Mehta et al.\n",
    "* [Searching for exotic particles in high-energy physics with deep learning](https://www.nature.com/articles/ncomms5308) by Baldi et al."
   ]
  },
  {
   "cell_type": "markdown",
   "id": "a13d6822-2230-4f94-9028-08c634f526b3",
   "metadata": {},
   "source": [
    "**bold text**## The data\n",
    "\n",
    "We will be analysing SUSY data from the [Searching for exotic particles in high-energy physics with deep learning](https://www.nature.com/articles/ncomms5308) article by Baldi et al. (2014). The dataset can be obtained from the [UCI Machine Learning repository](http://archive.ics.uci.edu/ml/datasets/SUSY#) and is described as follows:\n",
    "\n",
    "> The data has been produced using Monte Carlo simulations. The first 8 features are kinematic properties measured by the particle detectors in the accelerator. The last ten features are functions of the first 8 features; these are high-level features derived by physicists to help discriminate between the two classes. There is an interest in using deep learning methods to obviate the need for physicists to manually develop such features. Benchmark results using Bayesian Decision Trees from a standard physics package and 5-layer neural networks and the dropout algorithm are presented in the original paper. The last 500,000 examples are used as a test set.\n",
    "\n",
    "Framed as a supervised learning task, the goal is to train a model that can classify each event as either a SUSY signal or Standard Model background (see figure below).\n",
    "\n",
    "<div style=\"text-align: center\">\n",
    "<img src='images/susy.png' width='400'>\n",
    "   <p style=\"text-align: center;\"> <b>Figure reference:</b> https://www.nature.com/articles/ncomms5308 </p>\n",
    "</div>\n",
    "\n",
    "The dataset description also provides information on the features or kinematic variables associated with with each event:\n",
    "\n",
    "> The first column is the class label (1 for signal, 0 for background), followed by the 18 features (8 low-level features then 10 high-level features): lepton 1 pT, lepton 1 eta, lepton 1 phi, lepton 2 pT, lepton 2 eta, lepton 2 phi, missing energy magnitude, missing energy phi, MET_rel, axial MET, M_R, M_TR_2, R, MT2, S_R, M_Delta_R, dPhi_r_b, cos(theta_r1)."
   ]
  },
  {
   "cell_type": "code",
   "execution_count": 9,
   "id": "1d54931e-6e43-4317-9126-0846b91c4766",
   "metadata": {},
   "outputs": [
    {
     "name": "stdout",
     "output_type": "stream",
     "text": [
      "The autoreload extension is already loaded. To reload it, use:\n",
      "  %reload_ext autoreload\n"
     ]
    }
   ],
   "source": [
    "# reload  modules before executing user code\n",
    "%load_ext autoreload\n",
    "\n",
    "# reload all modules every time before every time before executing python code\n",
    "%autoreload 2\n",
    "\n",
    "# render plots in notebook\n",
    "%matplotlib inline"
   ]
  },
  {
   "cell_type": "code",
   "execution_count": 34,
   "id": "bf9f2262-51d5-46f4-bb56-3a93a8e6418a",
   "metadata": {},
   "outputs": [],
   "source": [
    "# uncomment this if running locally or on Google Colab\n",
    "# !pip install --upgrade hepml"
   ]
  },
  {
   "cell_type": "code",
   "execution_count": 15,
   "id": "12be4c31-83ee-469e-a92c-bb42e8740bf4",
   "metadata": {},
   "outputs": [],
   "source": [
    "# data wrangling\n",
    "import pandas as pd\n",
    "import numpy as np\n",
    "from pathlib import Path\n",
    "from hepml.core import display_large, download_dataset\n",
    "\n",
    "#data viz\n",
    "import matplotlib.pyplot as plt\n",
    "import seaborn as sns\n",
    "from sklearn.metrics import plot_roc_curve, plot_confusion_matrix\n",
    "\n",
    "sns.set(color_codes = True)\n",
    "sns.set_palette(sns.color_palette(\"muted\"))\n",
    "\n",
    "#ml magic\n",
    "from sklearn.model_selection import train_test_split\n",
    "from sklearn.metrics import accuracy_score, roc_auc_score\n",
    "from sklearn.ensemble import RandomForestClassifier"
   ]
  },
  {
   "cell_type": "markdown",
   "id": "89883e72-31a9-410a-ad50-9de673de98ef",
   "metadata": {},
   "source": [
    "**bold text**## Load the data"
   ]
  },
  {
   "cell_type": "markdown",
   "id": "60bf64a8-1f7a-4257-a412-3b7bb863ec5f",
   "metadata": {},
   "source": [
    "For simplicity, we have stored a copy of the data on Google Drive which \n",
    "\n",
    "*   List item\n",
    "*   List item\n",
    "\n",
    "can be fetched by running the following function:"
   ]
  },
  {
   "cell_type": "code",
   "execution_count": 17,
   "id": "4760c561-f0e6-4c8e-b05f-c0c63da77ae4",
   "metadata": {},
   "outputs": [
    {
     "name": "stdout",
     "output_type": "stream",
     "text": [
      "Download of susy.csv.gz dataset complete.\n"
     ]
    }
   ],
   "source": [
    "# this is a big file and can take a while to download\n",
    "download_dataset(\"susy.csv.gz\")"
   ]
  },
  {
   "cell_type": "markdown",
   "id": "80031861-da91-402e-8cd5-7b9c04a9ceaf",
   "metadata": {},
   "source": [
    "To load our dataset we need to tell pandas where to look for it. First, lets have a look at what we have in the `data/` directory:"
   ]
  },
  {
   "cell_type": "code",
   "execution_count": 18,
   "id": "19189847-fceb-48fc-b11f-d13b1061bf2f",
   "metadata": {},
   "outputs": [
    {
     "name": "stdout",
     "output_type": "stream",
     "text": [
      "FashionMNIST\t percent-bachelors-degrees-women-usa.csv  training_10k.csv\n",
      "Higgs_data.root  susy.csv.gz\n",
      "Mountains.csv\t titanic\n"
     ]
    }
   ],
   "source": [
    "DATA = Path(\"../data\")\n",
    "!ls {DATA}"
   ]
  },
  {
   "cell_type": "markdown",
   "id": "99186099-c340-4921-af69-209751a6b047",
   "metadata": {},
   "source": [
    "With pathlib it is a simple matter to define the filepath to the dataset, and since the file is in a (compressed) CSV format we can load it as a pandas.DataFrame as follows"
   ]
  },
  {
   "cell_type": "code",
   "execution_count": 19,
   "id": "c6ecf880-d4af-4f3b-860c-16dc2fd37c3a",
   "metadata": {},
   "outputs": [
    {
     "name": "stdout",
     "output_type": "stream",
     "text": [
      "CPU times: user 29.1 s, sys: 1 s, total: 30.1 s\n",
      "Wall time: 30.1 s\n"
     ]
    }
   ],
   "source": [
    "columns = [\n",
    "    \"signal\",\n",
    "    \"lepton 1 pT\",\n",
    "    \"lepton 1 eta\",\n",
    "    \"lepton 1 phi\",\n",
    "    \"lepton 2 pT\",\n",
    "    \"lepton 2 eta\",\n",
    "    \"lepton 2 phi\",\n",
    "    \"missing energy magnitude\",\n",
    "    \"missing energy phi\",\n",
    "    \"MET_rel\",\n",
    "    \"axial MET\",\n",
    "    \"M_R\",\n",
    "    \"M_TR_2\",\n",
    "    \"R\",\n",
    "    \"MT2\",\n",
    "    \"S_R\",\n",
    "    \"M_Delta_R\",\n",
    "    \"dPhi_r_b\",\n",
    "    \"cos(theta_r1)\",\n",
    "]\n",
    "\n",
    "# this can take a while to load ...\n",
    "%time susy = pd.read_csv(DATA / \"susy.csv.gz\", compression=\"gzip\", names=columns)"
   ]
  },
  {
   "cell_type": "markdown",
   "id": "87442d20-e681-4b70-8864-96fc47d57d15",
   "metadata": {},
   "source": [
    "Loading and saving large datasets like this one can be a major bottleneck in the exploratory phase of a machine learning project. Fortunately there are several _binary_ formats that can be used for storing data on disk, and [Feather](https://blog.rstudio.com/2016/03/29/feather/) is one of the fastest for I/O and memory usage (see [benchmark](https://towardsdatascience.com/the-best-format-to-save-pandas-data-414dca023e0d)). \n",
    "\n",
    "Thus one way to speed up our I/O cycles is to first save our `pandas.DataFrame` to disk in Feather format so we can reuse it in downstream tasks:"
   ]
  },
  {
   "cell_type": "code",
   "execution_count": 20,
   "id": "60aca8a2-5dd7-4c7e-b9dc-895d6733fa9e",
   "metadata": {},
   "outputs": [],
   "source": [
    "susy.to_feather(DATA / \"susy.feather\")"
   ]
  },
  {
   "cell_type": "code",
   "execution_count": 21,
   "id": "d86be739-ca94-44e6-80a2-a7b1088bb204",
   "metadata": {},
   "outputs": [
    {
     "name": "stdout",
     "output_type": "stream",
     "text": [
      "CPU times: user 813 ms, sys: 845 ms, total: 1.66 s\n",
      "Wall time: 418 ms\n"
     ]
    }
   ],
   "source": [
    "%time susy = pd.read_feather(DATA/'susy.feather')"
   ]
  },
  {
   "cell_type": "markdown",
   "id": "f3f1833f-ed03-4b8f-8b26-72dc20dbf0fd",
   "metadata": {},
   "source": [
    "That's about 100x speedup factor - not bad!"
   ]
  },
  {
   "cell_type": "markdown",
   "id": "5d4c4d1e-bf91-4ae3-b4f7-a559d0abd11e",
   "metadata": {},
   "source": [
    "*italicized text*> Warning: Although an excellent choice for most applications, Feather is not intended for long-term storage because the format may not be stable between versions. See https://blog.rstudio.com/2016/03/29/feather/"
   ]
  },
  {
   "cell_type": "markdown",
   "id": "59ecd71a-71a9-4084-891d-ab29b022aba8",
   "metadata": {},
   "source": [
    "[link text](https://)## Inspect the data"
   ]
  },
  {
   "cell_type": "markdown",
   "id": "e33a6fae-c5c1-4656-929d-bb8e01df9f76",
   "metadata": {},
   "source": [
    "### Preview the data"
   ]
  },
  {
   "cell_type": "markdown",
   "id": "d771ade5-946c-4ab2-a76f-d9171e54506a",
   "metadata": {},
   "source": [
    "This first thing you should do after creating a `pandas.DataFrame` is to inspect the first/last few rows to make sure there's no surprises in the data format that need to be dealt with. For example, one often finds metadata or aggregations at the end of CSV/Excel files, and this can cause problems if not handled correctly."
   ]
  },
  {
   "cell_type": "markdown",
   "id": "0bf2f399-09c6-4724-9726-01361785388e",
   "metadata": {},
   "source": [
    "The DataFrame.head method displays the first five rows of a pandas.DataFrame:\n",
    "\n"
   ]
  },
  {
   "cell_type": "code",
   "execution_count": 22,
   "id": "85235830-3ab2-4536-9d0f-c354b567a8ff",
   "metadata": {},
   "outputs": [
    {
     "data": {
      "text/html": [
       "<div>\n",
       "<style scoped>\n",
       "    .dataframe tbody tr th:only-of-type {\n",
       "        vertical-align: middle;\n",
       "    }\n",
       "\n",
       "    .dataframe tbody tr th {\n",
       "        vertical-align: top;\n",
       "    }\n",
       "\n",
       "    .dataframe thead th {\n",
       "        text-align: right;\n",
       "    }\n",
       "</style>\n",
       "<table border=\"1\" class=\"dataframe\">\n",
       "  <thead>\n",
       "    <tr style=\"text-align: right;\">\n",
       "      <th></th>\n",
       "      <th>signal</th>\n",
       "      <th>lepton 1 pT</th>\n",
       "      <th>lepton 1 eta</th>\n",
       "      <th>lepton 1 phi</th>\n",
       "      <th>lepton 2 pT</th>\n",
       "      <th>lepton 2 eta</th>\n",
       "      <th>lepton 2 phi</th>\n",
       "      <th>missing energy magnitude</th>\n",
       "      <th>missing energy phi</th>\n",
       "      <th>MET_rel</th>\n",
       "      <th>axial MET</th>\n",
       "      <th>M_R</th>\n",
       "      <th>M_TR_2</th>\n",
       "      <th>R</th>\n",
       "      <th>MT2</th>\n",
       "      <th>S_R</th>\n",
       "      <th>M_Delta_R</th>\n",
       "      <th>dPhi_r_b</th>\n",
       "      <th>cos(theta_r1)</th>\n",
       "    </tr>\n",
       "  </thead>\n",
       "  <tbody>\n",
       "    <tr>\n",
       "      <th>0</th>\n",
       "      <td>0.0</td>\n",
       "      <td>0.972861</td>\n",
       "      <td>0.653855</td>\n",
       "      <td>1.176225</td>\n",
       "      <td>1.157156</td>\n",
       "      <td>-1.739873</td>\n",
       "      <td>-0.874309</td>\n",
       "      <td>0.567765</td>\n",
       "      <td>-0.175000</td>\n",
       "      <td>0.810061</td>\n",
       "      <td>-0.252552</td>\n",
       "      <td>1.921887</td>\n",
       "      <td>0.889637</td>\n",
       "      <td>0.410772</td>\n",
       "      <td>1.145621</td>\n",
       "      <td>1.932632</td>\n",
       "      <td>0.994464</td>\n",
       "      <td>1.367815</td>\n",
       "      <td>0.040714</td>\n",
       "    </tr>\n",
       "    <tr>\n",
       "      <th>1</th>\n",
       "      <td>1.0</td>\n",
       "      <td>1.667973</td>\n",
       "      <td>0.064191</td>\n",
       "      <td>-1.225171</td>\n",
       "      <td>0.506102</td>\n",
       "      <td>-0.338939</td>\n",
       "      <td>1.672543</td>\n",
       "      <td>3.475464</td>\n",
       "      <td>-1.219136</td>\n",
       "      <td>0.012955</td>\n",
       "      <td>3.775174</td>\n",
       "      <td>1.045977</td>\n",
       "      <td>0.568051</td>\n",
       "      <td>0.481928</td>\n",
       "      <td>0.000000</td>\n",
       "      <td>0.448410</td>\n",
       "      <td>0.205356</td>\n",
       "      <td>1.321893</td>\n",
       "      <td>0.377584</td>\n",
       "    </tr>\n",
       "    <tr>\n",
       "      <th>2</th>\n",
       "      <td>1.0</td>\n",
       "      <td>0.444840</td>\n",
       "      <td>-0.134298</td>\n",
       "      <td>-0.709972</td>\n",
       "      <td>0.451719</td>\n",
       "      <td>-1.613871</td>\n",
       "      <td>-0.768661</td>\n",
       "      <td>1.219918</td>\n",
       "      <td>0.504026</td>\n",
       "      <td>1.831248</td>\n",
       "      <td>-0.431385</td>\n",
       "      <td>0.526283</td>\n",
       "      <td>0.941514</td>\n",
       "      <td>1.587535</td>\n",
       "      <td>2.024308</td>\n",
       "      <td>0.603498</td>\n",
       "      <td>1.562374</td>\n",
       "      <td>1.135454</td>\n",
       "      <td>0.180910</td>\n",
       "    </tr>\n",
       "    <tr>\n",
       "      <th>3</th>\n",
       "      <td>1.0</td>\n",
       "      <td>0.381256</td>\n",
       "      <td>-0.976145</td>\n",
       "      <td>0.693152</td>\n",
       "      <td>0.448959</td>\n",
       "      <td>0.891753</td>\n",
       "      <td>-0.677328</td>\n",
       "      <td>2.033060</td>\n",
       "      <td>1.533041</td>\n",
       "      <td>3.046260</td>\n",
       "      <td>-1.005285</td>\n",
       "      <td>0.569386</td>\n",
       "      <td>1.015211</td>\n",
       "      <td>1.582217</td>\n",
       "      <td>1.551914</td>\n",
       "      <td>0.761215</td>\n",
       "      <td>1.715464</td>\n",
       "      <td>1.492257</td>\n",
       "      <td>0.090719</td>\n",
       "    </tr>\n",
       "    <tr>\n",
       "      <th>4</th>\n",
       "      <td>1.0</td>\n",
       "      <td>1.309996</td>\n",
       "      <td>-0.690089</td>\n",
       "      <td>-0.676259</td>\n",
       "      <td>1.589283</td>\n",
       "      <td>-0.693326</td>\n",
       "      <td>0.622907</td>\n",
       "      <td>1.087562</td>\n",
       "      <td>-0.381742</td>\n",
       "      <td>0.589204</td>\n",
       "      <td>1.365479</td>\n",
       "      <td>1.179295</td>\n",
       "      <td>0.968218</td>\n",
       "      <td>0.728563</td>\n",
       "      <td>0.000000</td>\n",
       "      <td>1.083158</td>\n",
       "      <td>0.043429</td>\n",
       "      <td>1.154854</td>\n",
       "      <td>0.094859</td>\n",
       "    </tr>\n",
       "  </tbody>\n",
       "</table>\n",
       "</div>"
      ],
      "text/plain": [
       "   signal  lepton 1 pT  lepton 1 eta  ...  M_Delta_R  dPhi_r_b  cos(theta_r1)\n",
       "0     0.0     0.972861      0.653855  ...   0.994464  1.367815       0.040714\n",
       "1     1.0     1.667973      0.064191  ...   0.205356  1.321893       0.377584\n",
       "2     1.0     0.444840     -0.134298  ...   1.562374  1.135454       0.180910\n",
       "3     1.0     0.381256     -0.976145  ...   1.715464  1.492257       0.090719\n",
       "4     1.0     1.309996     -0.690089  ...   0.043429  1.154854       0.094859\n",
       "\n",
       "[5 rows x 19 columns]"
      ]
     },
     "execution_count": 22,
     "metadata": {},
     "output_type": "execute_result"
    }
   ],
   "source": [
    "susy.head()"
   ]
  },
  {
   "cell_type": "markdown",
   "id": "5d1ab12d-47cb-4626-b8b2-e747ee3eb287",
   "metadata": {},
   "source": [
    "If we want to see more rows, we just pass an integer argument to the method as follows:\n"
   ]
  },
  {
   "cell_type": "code",
   "execution_count": 25,
   "id": "286e33a2-41ab-4cc2-ae4e-33a34f1712af",
   "metadata": {},
   "outputs": [
    {
     "data": {
      "text/html": [
       "<div>\n",
       "<style scoped>\n",
       "    .dataframe tbody tr th:only-of-type {\n",
       "        vertical-align: middle;\n",
       "    }\n",
       "\n",
       "    .dataframe tbody tr th {\n",
       "        vertical-align: top;\n",
       "    }\n",
       "\n",
       "    .dataframe thead th {\n",
       "        text-align: right;\n",
       "    }\n",
       "</style>\n",
       "<table border=\"1\" class=\"dataframe\">\n",
       "  <thead>\n",
       "    <tr style=\"text-align: right;\">\n",
       "      <th></th>\n",
       "      <th>signal</th>\n",
       "      <th>lepton 1 pT</th>\n",
       "      <th>lepton 1 eta</th>\n",
       "      <th>lepton 1 phi</th>\n",
       "      <th>lepton 2 pT</th>\n",
       "      <th>lepton 2 eta</th>\n",
       "      <th>lepton 2 phi</th>\n",
       "      <th>missing energy magnitude</th>\n",
       "      <th>missing energy phi</th>\n",
       "      <th>MET_rel</th>\n",
       "      <th>axial MET</th>\n",
       "      <th>M_R</th>\n",
       "      <th>M_TR_2</th>\n",
       "      <th>R</th>\n",
       "      <th>MT2</th>\n",
       "      <th>S_R</th>\n",
       "      <th>M_Delta_R</th>\n",
       "      <th>dPhi_r_b</th>\n",
       "      <th>cos(theta_r1)</th>\n",
       "    </tr>\n",
       "  </thead>\n",
       "  <tbody>\n",
       "    <tr>\n",
       "      <th>0</th>\n",
       "      <td>0.0</td>\n",
       "      <td>0.972861</td>\n",
       "      <td>0.653855</td>\n",
       "      <td>1.176225</td>\n",
       "      <td>1.157156</td>\n",
       "      <td>-1.739873</td>\n",
       "      <td>-0.874309</td>\n",
       "      <td>0.567765</td>\n",
       "      <td>-0.175000</td>\n",
       "      <td>0.810061</td>\n",
       "      <td>-0.252552</td>\n",
       "      <td>1.921887</td>\n",
       "      <td>0.889637</td>\n",
       "      <td>0.410772</td>\n",
       "      <td>1.145621</td>\n",
       "      <td>1.932632</td>\n",
       "      <td>0.994464</td>\n",
       "      <td>1.367815</td>\n",
       "      <td>0.040714</td>\n",
       "    </tr>\n",
       "    <tr>\n",
       "      <th>1</th>\n",
       "      <td>1.0</td>\n",
       "      <td>1.667973</td>\n",
       "      <td>0.064191</td>\n",
       "      <td>-1.225171</td>\n",
       "      <td>0.506102</td>\n",
       "      <td>-0.338939</td>\n",
       "      <td>1.672543</td>\n",
       "      <td>3.475464</td>\n",
       "      <td>-1.219136</td>\n",
       "      <td>0.012955</td>\n",
       "      <td>3.775174</td>\n",
       "      <td>1.045977</td>\n",
       "      <td>0.568051</td>\n",
       "      <td>0.481928</td>\n",
       "      <td>0.000000</td>\n",
       "      <td>0.448410</td>\n",
       "      <td>0.205356</td>\n",
       "      <td>1.321893</td>\n",
       "      <td>0.377584</td>\n",
       "    </tr>\n",
       "    <tr>\n",
       "      <th>2</th>\n",
       "      <td>1.0</td>\n",
       "      <td>0.444840</td>\n",
       "      <td>-0.134298</td>\n",
       "      <td>-0.709972</td>\n",
       "      <td>0.451719</td>\n",
       "      <td>-1.613871</td>\n",
       "      <td>-0.768661</td>\n",
       "      <td>1.219918</td>\n",
       "      <td>0.504026</td>\n",
       "      <td>1.831248</td>\n",
       "      <td>-0.431385</td>\n",
       "      <td>0.526283</td>\n",
       "      <td>0.941514</td>\n",
       "      <td>1.587535</td>\n",
       "      <td>2.024308</td>\n",
       "      <td>0.603498</td>\n",
       "      <td>1.562374</td>\n",
       "      <td>1.135454</td>\n",
       "      <td>0.180910</td>\n",
       "    </tr>\n",
       "    <tr>\n",
       "      <th>3</th>\n",
       "      <td>1.0</td>\n",
       "      <td>0.381256</td>\n",
       "      <td>-0.976145</td>\n",
       "      <td>0.693152</td>\n",
       "      <td>0.448959</td>\n",
       "      <td>0.891753</td>\n",
       "      <td>-0.677328</td>\n",
       "      <td>2.033060</td>\n",
       "      <td>1.533041</td>\n",
       "      <td>3.046260</td>\n",
       "      <td>-1.005285</td>\n",
       "      <td>0.569386</td>\n",
       "      <td>1.015211</td>\n",
       "      <td>1.582217</td>\n",
       "      <td>1.551914</td>\n",
       "      <td>0.761215</td>\n",
       "      <td>1.715464</td>\n",
       "      <td>1.492257</td>\n",
       "      <td>0.090719</td>\n",
       "    </tr>\n",
       "    <tr>\n",
       "      <th>4</th>\n",
       "      <td>1.0</td>\n",
       "      <td>1.309996</td>\n",
       "      <td>-0.690089</td>\n",
       "      <td>-0.676259</td>\n",
       "      <td>1.589283</td>\n",
       "      <td>-0.693326</td>\n",
       "      <td>0.622907</td>\n",
       "      <td>1.087562</td>\n",
       "      <td>-0.381742</td>\n",
       "      <td>0.589204</td>\n",
       "      <td>1.365479</td>\n",
       "      <td>1.179295</td>\n",
       "      <td>0.968218</td>\n",
       "      <td>0.728563</td>\n",
       "      <td>0.000000</td>\n",
       "      <td>1.083158</td>\n",
       "      <td>0.043429</td>\n",
       "      <td>1.154854</td>\n",
       "      <td>0.094859</td>\n",
       "    </tr>\n",
       "    <tr>\n",
       "      <th>5</th>\n",
       "      <td>0.0</td>\n",
       "      <td>0.456398</td>\n",
       "      <td>1.099371</td>\n",
       "      <td>1.512453</td>\n",
       "      <td>0.751772</td>\n",
       "      <td>0.638967</td>\n",
       "      <td>-0.742216</td>\n",
       "      <td>0.322601</td>\n",
       "      <td>1.321054</td>\n",
       "      <td>0.169502</td>\n",
       "      <td>0.359941</td>\n",
       "      <td>0.489256</td>\n",
       "      <td>0.416168</td>\n",
       "      <td>0.754829</td>\n",
       "      <td>0.303750</td>\n",
       "      <td>0.461067</td>\n",
       "      <td>0.345541</td>\n",
       "      <td>0.733242</td>\n",
       "      <td>0.186044</td>\n",
       "    </tr>\n",
       "    <tr>\n",
       "      <th>6</th>\n",
       "      <td>0.0</td>\n",
       "      <td>0.437818</td>\n",
       "      <td>-1.119883</td>\n",
       "      <td>-1.336823</td>\n",
       "      <td>0.502320</td>\n",
       "      <td>-1.717515</td>\n",
       "      <td>1.017067</td>\n",
       "      <td>0.215619</td>\n",
       "      <td>-0.461200</td>\n",
       "      <td>0.323671</td>\n",
       "      <td>0.173626</td>\n",
       "      <td>0.411898</td>\n",
       "      <td>0.370525</td>\n",
       "      <td>0.798260</td>\n",
       "      <td>0.671369</td>\n",
       "      <td>0.385910</td>\n",
       "      <td>0.515522</td>\n",
       "      <td>0.479110</td>\n",
       "      <td>0.029058</td>\n",
       "    </tr>\n",
       "    <tr>\n",
       "      <th>7</th>\n",
       "      <td>0.0</td>\n",
       "      <td>0.571656</td>\n",
       "      <td>0.205696</td>\n",
       "      <td>0.425950</td>\n",
       "      <td>0.578514</td>\n",
       "      <td>0.927399</td>\n",
       "      <td>-1.101478</td>\n",
       "      <td>0.116555</td>\n",
       "      <td>1.549753</td>\n",
       "      <td>0.174421</td>\n",
       "      <td>0.223450</td>\n",
       "      <td>0.523164</td>\n",
       "      <td>0.289889</td>\n",
       "      <td>0.491710</td>\n",
       "      <td>0.334593</td>\n",
       "      <td>0.514246</td>\n",
       "      <td>0.268207</td>\n",
       "      <td>0.315795</td>\n",
       "      <td>0.125728</td>\n",
       "    </tr>\n",
       "    <tr>\n",
       "      <th>8</th>\n",
       "      <td>1.0</td>\n",
       "      <td>2.112812</td>\n",
       "      <td>0.742983</td>\n",
       "      <td>-0.330539</td>\n",
       "      <td>0.805253</td>\n",
       "      <td>-0.028887</td>\n",
       "      <td>-1.446679</td>\n",
       "      <td>2.299946</td>\n",
       "      <td>1.450429</td>\n",
       "      <td>2.989110</td>\n",
       "      <td>-1.894770</td>\n",
       "      <td>1.445125</td>\n",
       "      <td>2.548166</td>\n",
       "      <td>1.564721</td>\n",
       "      <td>2.393632</td>\n",
       "      <td>1.554566</td>\n",
       "      <td>2.148468</td>\n",
       "      <td>1.179117</td>\n",
       "      <td>0.688057</td>\n",
       "    </tr>\n",
       "    <tr>\n",
       "      <th>9</th>\n",
       "      <td>0.0</td>\n",
       "      <td>1.001869</td>\n",
       "      <td>-0.471788</td>\n",
       "      <td>0.555614</td>\n",
       "      <td>1.233368</td>\n",
       "      <td>1.255548</td>\n",
       "      <td>-1.052491</td>\n",
       "      <td>0.437615</td>\n",
       "      <td>-1.333052</td>\n",
       "      <td>0.326858</td>\n",
       "      <td>-0.111678</td>\n",
       "      <td>1.435708</td>\n",
       "      <td>0.755201</td>\n",
       "      <td>0.466779</td>\n",
       "      <td>0.454541</td>\n",
       "      <td>1.446331</td>\n",
       "      <td>0.592259</td>\n",
       "      <td>1.325197</td>\n",
       "      <td>0.083014</td>\n",
       "    </tr>\n",
       "  </tbody>\n",
       "</table>\n",
       "</div>"
      ],
      "text/plain": [
       "   signal  lepton 1 pT  lepton 1 eta  ...  M_Delta_R  dPhi_r_b  cos(theta_r1)\n",
       "0     0.0     0.972861      0.653855  ...   0.994464  1.367815       0.040714\n",
       "1     1.0     1.667973      0.064191  ...   0.205356  1.321893       0.377584\n",
       "2     1.0     0.444840     -0.134298  ...   1.562374  1.135454       0.180910\n",
       "3     1.0     0.381256     -0.976145  ...   1.715464  1.492257       0.090719\n",
       "4     1.0     1.309996     -0.690089  ...   0.043429  1.154854       0.094859\n",
       "5     0.0     0.456398      1.099371  ...   0.345541  0.733242       0.186044\n",
       "6     0.0     0.437818     -1.119883  ...   0.515522  0.479110       0.029058\n",
       "7     0.0     0.571656      0.205696  ...   0.268207  0.315795       0.125728\n",
       "8     1.0     2.112812      0.742983  ...   2.148468  1.179117       0.688057\n",
       "9     0.0     1.001869     -0.471788  ...   0.592259  1.325197       0.083014\n",
       "\n",
       "[10 rows x 19 columns]"
      ]
     },
     "execution_count": 25,
     "metadata": {},
     "output_type": "execute_result"
    }
   ],
   "source": [
    "susy.head(10)"
   ]
  },
  {
   "cell_type": "markdown",
   "id": "2501ecf3-5f7e-4abb-93bc-902a1521b877",
   "metadata": {},
   "source": [
    "Similar to DataFrame.head, the DataFrame.tail method returns the last five rows of a pandas.DataFrame:\n",
    "\n"
   ]
  },
  {
   "cell_type": "code",
   "execution_count": 26,
   "id": "9e8355a7-f09c-47d6-8064-3358485c5c39",
   "metadata": {},
   "outputs": [
    {
     "data": {
      "text/html": [
       "<div>\n",
       "<style scoped>\n",
       "    .dataframe tbody tr th:only-of-type {\n",
       "        vertical-align: middle;\n",
       "    }\n",
       "\n",
       "    .dataframe tbody tr th {\n",
       "        vertical-align: top;\n",
       "    }\n",
       "\n",
       "    .dataframe thead th {\n",
       "        text-align: right;\n",
       "    }\n",
       "</style>\n",
       "<table border=\"1\" class=\"dataframe\">\n",
       "  <thead>\n",
       "    <tr style=\"text-align: right;\">\n",
       "      <th></th>\n",
       "      <th>signal</th>\n",
       "      <th>lepton 1 pT</th>\n",
       "      <th>lepton 1 eta</th>\n",
       "      <th>lepton 1 phi</th>\n",
       "      <th>lepton 2 pT</th>\n",
       "      <th>lepton 2 eta</th>\n",
       "      <th>lepton 2 phi</th>\n",
       "      <th>missing energy magnitude</th>\n",
       "      <th>missing energy phi</th>\n",
       "      <th>MET_rel</th>\n",
       "      <th>axial MET</th>\n",
       "      <th>M_R</th>\n",
       "      <th>M_TR_2</th>\n",
       "      <th>R</th>\n",
       "      <th>MT2</th>\n",
       "      <th>S_R</th>\n",
       "      <th>M_Delta_R</th>\n",
       "      <th>dPhi_r_b</th>\n",
       "      <th>cos(theta_r1)</th>\n",
       "    </tr>\n",
       "  </thead>\n",
       "  <tbody>\n",
       "    <tr>\n",
       "      <th>4999995</th>\n",
       "      <td>1.0</td>\n",
       "      <td>0.853325</td>\n",
       "      <td>-0.961783</td>\n",
       "      <td>-1.487277</td>\n",
       "      <td>0.678190</td>\n",
       "      <td>0.493580</td>\n",
       "      <td>1.647969</td>\n",
       "      <td>1.843867</td>\n",
       "      <td>0.276954</td>\n",
       "      <td>1.025105</td>\n",
       "      <td>-1.486535</td>\n",
       "      <td>0.892879</td>\n",
       "      <td>1.684429</td>\n",
       "      <td>1.674084</td>\n",
       "      <td>3.366298</td>\n",
       "      <td>1.046707</td>\n",
       "      <td>2.646649</td>\n",
       "      <td>1.389226</td>\n",
       "      <td>0.364599</td>\n",
       "    </tr>\n",
       "    <tr>\n",
       "      <th>4999996</th>\n",
       "      <td>0.0</td>\n",
       "      <td>0.951581</td>\n",
       "      <td>0.139370</td>\n",
       "      <td>1.436884</td>\n",
       "      <td>0.880440</td>\n",
       "      <td>-0.351948</td>\n",
       "      <td>-0.740852</td>\n",
       "      <td>0.290863</td>\n",
       "      <td>-0.732360</td>\n",
       "      <td>0.001360</td>\n",
       "      <td>0.257738</td>\n",
       "      <td>0.802871</td>\n",
       "      <td>0.545319</td>\n",
       "      <td>0.602730</td>\n",
       "      <td>0.002998</td>\n",
       "      <td>0.748959</td>\n",
       "      <td>0.401166</td>\n",
       "      <td>0.443471</td>\n",
       "      <td>0.239953</td>\n",
       "    </tr>\n",
       "    <tr>\n",
       "      <th>4999997</th>\n",
       "      <td>0.0</td>\n",
       "      <td>0.840389</td>\n",
       "      <td>1.419162</td>\n",
       "      <td>-1.218766</td>\n",
       "      <td>1.195631</td>\n",
       "      <td>1.695645</td>\n",
       "      <td>0.663756</td>\n",
       "      <td>0.490888</td>\n",
       "      <td>-0.509186</td>\n",
       "      <td>0.704289</td>\n",
       "      <td>0.045744</td>\n",
       "      <td>0.825015</td>\n",
       "      <td>0.723530</td>\n",
       "      <td>0.778236</td>\n",
       "      <td>0.752942</td>\n",
       "      <td>0.838953</td>\n",
       "      <td>0.614048</td>\n",
       "      <td>1.210595</td>\n",
       "      <td>0.026692</td>\n",
       "    </tr>\n",
       "    <tr>\n",
       "      <th>4999998</th>\n",
       "      <td>1.0</td>\n",
       "      <td>1.784218</td>\n",
       "      <td>-0.833565</td>\n",
       "      <td>-0.560091</td>\n",
       "      <td>0.953342</td>\n",
       "      <td>-0.688969</td>\n",
       "      <td>-1.428233</td>\n",
       "      <td>2.660703</td>\n",
       "      <td>-0.861344</td>\n",
       "      <td>2.116892</td>\n",
       "      <td>2.906151</td>\n",
       "      <td>1.232334</td>\n",
       "      <td>0.952444</td>\n",
       "      <td>0.685846</td>\n",
       "      <td>0.000000</td>\n",
       "      <td>0.781874</td>\n",
       "      <td>0.676003</td>\n",
       "      <td>1.197807</td>\n",
       "      <td>0.093689</td>\n",
       "    </tr>\n",
       "    <tr>\n",
       "      <th>4999999</th>\n",
       "      <td>0.0</td>\n",
       "      <td>0.761500</td>\n",
       "      <td>0.680454</td>\n",
       "      <td>-1.186213</td>\n",
       "      <td>1.043521</td>\n",
       "      <td>-0.316755</td>\n",
       "      <td>0.246879</td>\n",
       "      <td>1.120280</td>\n",
       "      <td>0.998479</td>\n",
       "      <td>1.640881</td>\n",
       "      <td>-0.797688</td>\n",
       "      <td>0.854212</td>\n",
       "      <td>1.121858</td>\n",
       "      <td>1.165438</td>\n",
       "      <td>1.498351</td>\n",
       "      <td>0.931580</td>\n",
       "      <td>1.293524</td>\n",
       "      <td>1.539167</td>\n",
       "      <td>0.187496</td>\n",
       "    </tr>\n",
       "  </tbody>\n",
       "</table>\n",
       "</div>"
      ],
      "text/plain": [
       "         signal  lepton 1 pT  lepton 1 eta  ...  M_Delta_R  dPhi_r_b  cos(theta_r1)\n",
       "4999995     1.0     0.853325     -0.961783  ...   2.646649  1.389226       0.364599\n",
       "4999996     0.0     0.951581      0.139370  ...   0.401166  0.443471       0.239953\n",
       "4999997     0.0     0.840389      1.419162  ...   0.614048  1.210595       0.026692\n",
       "4999998     1.0     1.784218     -0.833565  ...   0.676003  1.197807       0.093689\n",
       "4999999     0.0     0.761500      0.680454  ...   1.293524  1.539167       0.187496\n",
       "\n",
       "[5 rows x 19 columns]"
      ]
     },
     "execution_count": 26,
     "metadata": {},
     "output_type": "execute_result"
    }
   ],
   "source": [
    "susy.tail()"
   ]
  },
  {
   "cell_type": "markdown",
   "id": "ac4f1b3a-e669-4603-8c85-1df30a163009",
   "metadata": {},
   "source": [
    "Whenever we have a new dataset it is handy to begin by getting an idea of how large the pandas.DataFrame is. This can be done with either the len or DataFrame.shape methods:"
   ]
  },
  {
   "cell_type": "code",
   "execution_count": 27,
   "id": "b4cea25c-8d1d-436f-b3f3-0b8e079a4ad1",
   "metadata": {},
   "outputs": [
    {
     "data": {
      "text/plain": [
       "5000000"
      ]
     },
     "execution_count": 27,
     "metadata": {},
     "output_type": "execute_result"
    }
   ],
   "source": [
    "# get number of rows\n",
    "len(susy)"
   ]
  },
  {
   "cell_type": "code",
   "execution_count": 28,
   "id": "dd1812d3-f713-48db-a1e9-f70ce6667c4d",
   "metadata": {},
   "outputs": [
    {
     "data": {
      "text/plain": [
       "(5000000, 19)"
      ]
     },
     "execution_count": 28,
     "metadata": {},
     "output_type": "execute_result"
    }
   ],
   "source": [
    "# get tuples of (n_rows, n_columns)\n",
    "susy.shape"
   ]
  },
  {
   "cell_type": "markdown",
   "id": "96f1ad5e-3265-45fa-87d8-7395b5ed731d",
   "metadata": {},
   "source": [
    "The DataFrame.info method is useful to get a quick description of the data, in particular the total number of rows, and each column's type and number of non-null values.\n",
    "\n"
   ]
  },
  {
   "cell_type": "code",
   "execution_count": 29,
   "id": "4f995eb3-b1d3-4c58-9218-f6c737c1b912",
   "metadata": {},
   "outputs": [
    {
     "name": "stdout",
     "output_type": "stream",
     "text": [
      "<class 'pandas.core.frame.DataFrame'>\n",
      "RangeIndex: 5000000 entries, 0 to 4999999\n",
      "Data columns (total 19 columns):\n",
      " #   Column                    Dtype  \n",
      "---  ------                    -----  \n",
      " 0   signal                    float64\n",
      " 1   lepton 1 pT               float64\n",
      " 2   lepton 1 eta              float64\n",
      " 3   lepton 1 phi              float64\n",
      " 4   lepton 2 pT               float64\n",
      " 5   lepton 2 eta              float64\n",
      " 6   lepton 2 phi              float64\n",
      " 7   missing energy magnitude  float64\n",
      " 8   missing energy phi        float64\n",
      " 9   MET_rel                   float64\n",
      " 10  axial MET                 float64\n",
      " 11  M_R                       float64\n",
      " 12  M_TR_2                    float64\n",
      " 13  R                         float64\n",
      " 14  MT2                       float64\n",
      " 15  S_R                       float64\n",
      " 16  M_Delta_R                 float64\n",
      " 17  dPhi_r_b                  float64\n",
      " 18  cos(theta_r1)             float64\n",
      "dtypes: float64(19)\n",
      "memory usage: 724.8 MB\n"
     ]
    }
   ],
   "source": [
    "susy.info()"
   ]
  },
  {
   "cell_type": "markdown",
   "id": "f8f33b91-7794-444c-b073-f5b97a9e6318",
   "metadata": {},
   "source": [
    "*Luckily* for us, it looks like we're dealing with purely numeric data types and there's no missing values 🥳🥳🥳! Let's verify the latter is indeed true:"
   ]
  },
  {
   "cell_type": "code",
   "execution_count": 30,
   "id": "3992b2e1-268a-41b1-97ef-4c483adf4913",
   "metadata": {},
   "outputs": [],
   "source": [
    "assert susy.isnull().sum().sum() == 0"
   ]
  },
  {
   "cell_type": "markdown",
   "id": "ae24a26f-5a8c-4faa-8d02-4c4098e09786",
   "metadata": {},
   "source": [
    "[link text](https://)## A first look a data visualisation"
   ]
  },
  {
   "cell_type": "markdown",
   "id": "b98aedd8-6bd0-4175-b216-5dbec934b746",
   "metadata": {},
   "source": [
    "\n",
    "Another quick way to get a feel for the type of numeric data that you are dealing with is to plot one or more of the following:\n",
    "\n",
    "* **Histograms:** shows the number of instances (on the vertical axis) that have a given value range (on the horizontal axis). Useful for understanding the _shape_ of a single variable.\n",
    "* **Count plots:** shows the counts of observations in each categorical bin using bars. A count plot can be thought of as a histogram across a categorical, instead of quantitative, variable.\n",
    "\n",
    "To create these plots we will use the [seaborn](https://seaborn.pydata.org/) data visualisation library. In the same way that `pd` is the accepted alias for pandas, one uses `sns` as the alias for seaborn.\n"
   ]
  },
  {
   "cell_type": "markdown",
   "id": "f1c9d804-70ba-4a7e-b095-3260badbf2e6",
   "metadata": {},
   "source": [
    "### Histograms"
   ]
  },
  {
   "cell_type": "markdown",
   "id": "97e7b5fe-352a-4623-a725-94971ef7d98d",
   "metadata": {},
   "source": [
    "Histograms are one of the most simple, yet powerful types of data visualisation. They can quickly tell us which values are most frequent, whether there are outliers and more. To create a histogram in seaborn, we can use the `seaborn.distplot` method:"
   ]
  },
  {
   "cell_type": "code",
   "execution_count": 33,
   "id": "80a38f4c-9e2d-44a9-a511-f0f73dcdb59c",
   "metadata": {},
   "outputs": [
    {
     "data": {
      "text/plain": [
       "<AxesSubplot:xlabel='axial MET', ylabel='Count'>"
      ]
     },
     "execution_count": 33,
     "metadata": {},
     "output_type": "execute_result"
    },
    {
     "data": {
      "image/png": "[encoded data removed]",
      "text/plain": [
       "<Figure size 432x288 with 1 Axes>"
      ]
     },
     "metadata": {},
     "output_type": "display_data"
    }
   ],
   "source": [
    "sns.histplot(susy.query(\"signal == 1\")[\"axial MET\"], kde= True)"
   ]
  },
  {
   "cell_type": "code",
   "execution_count": 40,
   "id": "bb242132-e066-45e1-bd9d-cc306f6df378",
   "metadata": {},
   "outputs": [
    {
     "data": {
      "text/plain": [
       "<AxesSubplot:xlabel='axial MET', ylabel='Count'>"
      ]
     },
     "execution_count": 40,
     "metadata": {},
     "output_type": "execute_result"
    },
    {
     "data": {
      "image/png": "[encoded data removed]",
      "text/plain": [
       "<Figure size 432x288 with 1 Axes>"
      ]
     },
     "metadata": {},
     "output_type": "display_data"
    }
   ],
   "source": [
    "sns.histplot(susy.query(\"signal == 1\")[\"axial MET\"], kde= False, color = 'r')\n",
    "sns.histplot(susy.query(\"signal == 0\")[\"axial MET\"], kde= False)"
   ]
  },
  {
   "cell_type": "code",
   "execution_count": 43,
   "id": "88249d0e-d7ce-4837-ab74-2d275ddc369e",
   "metadata": {},
   "outputs": [
    {
     "data": {
      "text/plain": [
       "<AxesSubplot:ylabel='Frequency'>"
      ]
     },
     "execution_count": 43,
     "metadata": {},
     "output_type": "execute_result"
    },
    {
     "data": {
      "image/png": "[encoded data removed]",
      "text/plain": [
       "<Figure size 432x288 with 1 Axes>"
      ]
     },
     "metadata": {},
     "output_type": "display_data"
    }
   ],
   "source": [
    "susy['axial MET'].plot.hist(bins=100)"
   ]
  },
  {
   "cell_type": "code",
   "execution_count": 44,
   "id": "85f09699-432a-4904-855e-782c40adfbad",
   "metadata": {},
   "outputs": [
    {
     "name": "stderr",
     "output_type": "stream",
     "text": [
      "/home/sraj/anaconda3/lib/python3.9/site-packages/seaborn/distributions.py:2619: FutureWarning: `distplot` is a deprecated function and will be removed in a future version. Please adapt your code to use either `displot` (a figure-level function with similar flexibility) or `histplot` (an axes-level function for histograms).\n",
      "  warnings.warn(msg, FutureWarning)\n",
      "/home/sraj/anaconda3/lib/python3.9/site-packages/seaborn/distributions.py:2619: FutureWarning: `distplot` is a deprecated function and will be removed in a future version. Please adapt your code to use either `displot` (a figure-level function with similar flexibility) or `histplot` (an axes-level function for histograms).\n",
      "  warnings.warn(msg, FutureWarning)\n"
     ]
    },
    {
     "data": {
      "image/png": "[encoded data removed]",
      "text/plain": [
       "<Figure size 432x288 with 1 Axes>"
      ]
     },
     "metadata": {},
     "output_type": "display_data"
    }
   ],
   "source": [
    "sns.distplot(susy.query(\"signal == 1\")[\"axial MET\"], kde=False)\n",
    "sns.distplot(susy.query(\"signal == 0\")[\"axial MET\"], kde=False)\n",
    "plt.show()"
   ]
  },
  {
   "cell_type": "markdown",
   "id": "e212a8ab-6f5b-44f6-a26c-227b7889bdb1",
   "metadata": {},
   "source": [
    "Doing this manually for each feature of interest is tiresome, so let's write a simple function that generalises the process:"
   ]
  },
  {
   "cell_type": "code",
   "execution_count": 51,
   "id": "664f4573-4b93-4b3f-8367-eb8d9d89d71d",
   "metadata": {},
   "outputs": [],
   "source": [
    "def plot_histogram(feature_name: str, df: pd.DataFrame):\n",
    "    sns.distplot(df.query(\"signal == 1\")[feature_name], label=\"Signal\", kde=False)\n",
    "    sns.distplot(df.query(\"signal == 0\")[feature_name], label=\"Background\", kde=False)\n",
    "    plt.legend(bbox_to_anchor=(1.01, 1), loc=\"upper left\")\n",
    "    plt.show()"
   ]
  },
  {
   "cell_type": "code",
   "execution_count": 52,
   "id": "7d1ff441-b56e-4dc3-b6ca-bff8a7c28bfe",
   "metadata": {},
   "outputs": [
    {
     "name": "stderr",
     "output_type": "stream",
     "text": [
      "/home/sraj/anaconda3/lib/python3.9/site-packages/seaborn/distributions.py:2619: FutureWarning: `distplot` is a deprecated function and will be removed in a future version. Please adapt your code to use either `displot` (a figure-level function with similar flexibility) or `histplot` (an axes-level function for histograms).\n",
      "  warnings.warn(msg, FutureWarning)\n"
     ]
    },
    {
     "data": {
      "image/png": "[encoded data removed]",
      "text/plain": [
       "<Figure size 432x288 with 1 Axes>"
      ]
     },
     "metadata": {},
     "output_type": "display_data"
    }
   ],
   "source": [
    "plot_histogram(\"lepton 1 pT\", susy)"
   ]
  },
  {
   "cell_type": "code",
   "execution_count": 53,
   "id": "b66d1aa4-0485-4ca7-a1d7-b0a92f9fabd1",
   "metadata": {},
   "outputs": [
    {
     "name": "stderr",
     "output_type": "stream",
     "text": [
      "/home/sraj/anaconda3/lib/python3.9/site-packages/seaborn/distributions.py:2619: FutureWarning: `distplot` is a deprecated function and will be removed in a future version. Please adapt your code to use either `displot` (a figure-level function with similar flexibility) or `histplot` (an axes-level function for histograms).\n",
      "  warnings.warn(msg, FutureWarning)\n"
     ]
    },
    {
     "data": {
      "image/png": "[encoded data removed]",
      "text/plain": [
       "<Figure size 432x288 with 1 Axes>"
      ]
     },
     "metadata": {},
     "output_type": "display_data"
    }
   ],
   "source": [
    "plot_histogram(\"MET_rel\", susy)"
   ]
  },
  {
   "cell_type": "markdown",
   "id": "fd4b8015-fa3c-4b2a-8280-efec7134eae6",
   "metadata": {},
   "source": [
    "> Note: In the plots above, we see that we're dealing with a mix of normal and log-normal distributions. For some machine learning algorithms (e.g. Logistic Regression), these long-tailed distributions may require additional transformations in order to not violate the underlying statistical assumptions. Fortunately for us, Random Forests are flexible enough that we do not need to worry about this!"
   ]
  },
  {
   "cell_type": "markdown",
   "id": "e11ace6a-358c-4cbb-b348-7ed906eb82bc",
   "metadata": {},
   "source": [
    "**bold text**### Count plots"
   ]
  },
  {
   "cell_type": "markdown",
   "id": "13e21520-5d0a-4ec2-91a8-f34d3120ca2f",
   "metadata": {},
   "source": [
    "Count plots are handy when you have a categorical feature like `signal` and you want to quickly see the frequencies per category: "
   ]
  },
  {
   "cell_type": "code",
   "execution_count": 56,
   "id": "23afc352-f315-4006-a5d8-b9b1856ef720",
   "metadata": {},
   "outputs": [
    {
     "data": {
      "image/png": "[encoded data removed]",
      "text/plain": [
       "<Figure size 432x288 with 1 Axes>"
      ]
     },
     "metadata": {},
     "output_type": "display_data"
    }
   ],
   "source": [
    "sns.countplot(x =\"signal\", data= susy)\n",
    "plt.show()"
   ]
  },
  {
   "cell_type": "code",
   "execution_count": 57,
   "id": "43a5967f-53af-4ba6-aae4-3aba7af02cee",
   "metadata": {},
   "outputs": [
    {
     "data": {
      "text/plain": [
       "0.0    0.542435\n",
       "1.0    0.457565\n",
       "Name: signal, dtype: float64"
      ]
     },
     "execution_count": 57,
     "metadata": {},
     "output_type": "execute_result"
    }
   ],
   "source": [
    "susy[\"signal\"].value_counts(normalize=True)"
   ]
  },
  {
   "cell_type": "markdown",
   "id": "90a22100-16dd-4feb-b1df-3591c3d1d510",
   "metadata": {},
   "source": [
    "From the plot and numbers we see that the \"signal\" and \"background\" classes are nearly balanced, so if we built a dumb classifier that just classifies every single event as \"background\", then we would be right about 54.2% of the time. Clearly our goal is to do much better than this!"
   ]
  },
  {
   "cell_type": "markdown",
   "id": "91372320-1dc7-4857-b0d4-505ef47a4139",
   "metadata": {},
   "source": [
    "## Create a test set"
   ]
  },
  {
   "cell_type": "markdown",
   "id": "d8ba08ec-68e2-4fb4-845e-aa7080f85add",
   "metadata": {},
   "source": [
    "Before diving into the model-building phase, let's create a test set to limit ourselves from the [data snooping bias](https://web.ma.utexas.edu/users/mks/statmistakes/datasnooping.html). According to the dataset [description](http://archive.ics.uci.edu/ml/datasets/SUSY#) the last 500,000 rows are used as the test set in the original article, so let's use the same set here:"
   ]
  },
  {
   "cell_type": "code",
   "execution_count": 61,
   "id": "98e161dd-c84e-4efd-837f-58bbf2f1182c",
   "metadata": {},
   "outputs": [],
   "source": [
    "susy_train = susy.copy().iloc[:4500000]\n",
    "susy_test = susy.copy().iloc[-500000:]"
   ]
  },
  {
   "cell_type": "code",
   "execution_count": 62,
   "id": "09824390-4fa3-4b96-9e95-ff4768d91908",
   "metadata": {},
   "outputs": [],
   "source": [
    "# sanity check on number of rows\n",
    "assert len(susy_train) == 4_500_000\n",
    "assert len(susy_test) == 500_000"
   ]
  },
  {
   "cell_type": "markdown",
   "id": "03b7dbd3-6a7a-4c03-a5d3-aa8910abea5b",
   "metadata": {},
   "source": [
    "Let's also save these files to disk for later use:"
   ]
  },
  {
   "cell_type": "code",
   "execution_count": 63,
   "id": "7f8f76e7-6ef3-4af4-974f-546ee89ae502",
   "metadata": {},
   "outputs": [],
   "source": [
    "susy_train.to_feather(DATA / \"susy_train.feather\")\n",
    "# feather requires a default pandas.DataFrame index\n",
    "susy_test.reset_index(drop=True).to_feather(DATA / \"susy_test.feather\")"
   ]
  },
  {
   "cell_type": "markdown",
   "id": "a9af2bd0-6254-4467-8d4c-2fb26ffaf91d",
   "metadata": {},
   "source": [
    "## Speeding things up"
   ]
  },
  {
   "cell_type": "markdown",
   "id": "3c6a28ce-c516-485c-9f8d-f2ec55774b37",
   "metadata": {},
   "source": [
    "With 4.5 million events in our dataset, it will be time-consuming to train our models. One way to speed up the rate of iteration, is to select a random sample of 100,000 events to work with:"
   ]
  },
  {
   "cell_type": "code",
   "execution_count": 64,
   "id": "f81249fd-dcdf-43cd-889d-35ab91b4495c",
   "metadata": {},
   "outputs": [],
   "source": [
    "susy_sample = susy_train.sample(n=100000, random_state=42)"
   ]
  },
  {
   "cell_type": "markdown",
   "id": "c08203e6-0624-423c-a600-02f9b7f531ca",
   "metadata": {},
   "source": [
    "While we are at it, let's create three `pandas.DataFrame` objects, one for:\n",
    "\n",
    "* low-level features: these are direct measurements of final state particles, in this case the pT , pseudo-rapidity η, and azimuthal angle φ of two leptons in the event and the amount of missing transverse momentum (MET) together with its azimuthal angle.\n",
    "* high-level features: these are higher order functions of the first 8 features and derived by physicists to help discriminate between the two classes. These high-level features can be thought of as the physicists’ attempt to use non-linear functions to classify signal and background events, having been developed with formidable theoretical effort.\n",
    "* all features: the full set of 18 input features"
   ]
  },
  {
   "cell_type": "code",
   "execution_count": 65,
   "id": "7120cb68-909f-4bee-9ef0-f38db19a14ff",
   "metadata": {},
   "outputs": [],
   "source": [
    "low_features = [\n",
    "    \"signal\",\n",
    "    \"lepton 1 pT\",\n",
    "    \"lepton 1 eta\",\n",
    "    \"lepton 1 phi\",\n",
    "    \"lepton 2 pT\",\n",
    "    \"lepton 2 eta\",\n",
    "    \"lepton 2 phi\",\n",
    "    \"missing energy magnitude\",\n",
    "    \"missing energy phi\",\n",
    "]\n",
    "\n",
    "high_features = [\n",
    "    \"signal\",\n",
    "    \"MET_rel\",\n",
    "    \"axial MET\",\n",
    "    \"M_R\",\n",
    "    \"M_TR_2\",\n",
    "    \"R\",\n",
    "    \"MT2\",\n",
    "    \"S_R\",\n",
    "    \"M_Delta_R\",\n",
    "    \"dPhi_r_b\",\n",
    "    \"cos(theta_r1)\",\n",
    "]\n",
    "\n",
    "susy_low = susy_sample[low_features].copy()\n",
    "susy_high = susy_sample[high_features].copy()\n",
    "susy_all = susy_sample.copy()"
   ]
  },
  {
   "cell_type": "markdown",
   "id": "67cf6cbf-1ba6-4f9b-8787-ae2c72d999b9",
   "metadata": {},
   "source": [
    "> Tip: whenever you use indexing to create a subset of a `pandas.DataFrame`, it is good practice to use the `DataFrame.copy` method to make a copy of the original data. The reason for this is due to the way in which pandas distinguishes a \"view\" and \"copy\" of a `pandas.DataFrame`, and not forcing pandas to make a copy can have unintended side-effects in downstream analysis. For an in-depth discussion see https://www.dataquest.io/blog/settingwithcopywarning/"
   ]
  },
  {
   "cell_type": "markdown",
   "id": "a7a23b5f-5b13-46fd-b52e-b9cd140d9b40",
   "metadata": {},
   "source": [
    "## Introducing scikit-learn"
   ]
  },
  {
   "cell_type": "markdown",
   "id": "0990b220-69e5-4b62-ab39-64c693fc2457",
   "metadata": {},
   "source": [
    "Now that we've checked that the training data is clean and free from obvious anomalies, it's time to train our model! To do so, we will make use of the scikit-learn library.\n",
    "\n",
    "scikit-learn is one of the best known Python libraries for machine learning and provides efficient implementations of a large number of common algorithms. It has a uniform _Estimator API_ as well as excellent online documentation. The main benefit of its API is that once you understand the basic use and syntax of scikit-learn for one type of model, switching to a new model or algorithm is very easy.\n",
    "\n",
    "**Basics of the API**\n",
    "\n",
    "The most common steps one takes when building a model in scikit-learn are:\n",
    "1. Choose a class of model by importing the appropriate estimator class from scikit-learn.\n",
    "2. Choose model _hyperparameters_ by instantiating this class with the desired values.\n",
    "3. Arrange data into a feature matrix and target vector (see discussion below).\n",
    "4. Fit the model to your data by calling the `fit()` method.\n",
    "5. Evaluate the predictions of the model:\n",
    "    * For supervised learning we typically predict _labels_ for new data using the `predict()` method.\n",
    "    * For unsupervised learning, we often transform or infer properties of the data using the `transform()` or `predict()` methods.\n",
    "    \n",
    "Let's go through each of these steps to build a Random Forest regressor to predict California housing prices."
   ]
  },
  {
   "cell_type": "markdown",
   "id": "f08a3ad7-80b2-4ca6-8cf3-1d4f40550805",
   "metadata": {},
   "source": [
    "### Choose a model"
   ]
  },
  {
   "cell_type": "markdown",
   "id": "bb725d32-994e-4a80-966c-ee2759a9d1b0",
   "metadata": {},
   "source": [
    "In scikit-learn, every class of model is represented by a Python class. We want a Random Forest classifier, so looking at the online [docs](https://scikit-learn.org/stable/modules/generated/sklearn.ensemble.RandomForestClassifier.html#sklearn.ensemble.RandomForestClassifier) we should import the `RandomForestClasifier`:"
   ]
  },
  {
   "cell_type": "code",
   "execution_count": 66,
   "id": "d434ab84-83cf-47a3-9686-c44a3515b26e",
   "metadata": {},
   "outputs": [],
   "source": [
    "from sklearn.ensemble import RandomForestClassifier"
   ]
  },
  {
   "cell_type": "markdown",
   "id": "0c7e66b9-939f-455f-9771-6b48f0a176e4",
   "metadata": {},
   "source": [
    "### Choose hyperparameters"
   ]
  },
  {
   "cell_type": "markdown",
   "id": "0466b537-97d5-479d-9a94-590cc1f605db",
   "metadata": {},
   "source": [
    "Once we have chosen our model class, there are still some options open to us:\n",
    "\n",
    "* What is the maximum depth of the tree? The default is `None` which means the nodes are expanded until all leaves are pure.\n",
    "* Other parameters can be found in the [docs](https://scikit-learn.org/stable/modules/generated/sklearn.tree.DecisionTreeClassifier.html#sklearn.tree.DecisionTreeClassifier), but for now we take a simple model with just 20 trees.\n",
    "\n",
    "The above choices are often referred to as _hyperparameters_ or parameters that must be set before the model is fit to the data. We can instantiate the `RandomForestClassifier` class and specify the desired hyperparameters as follows:"
   ]
  },
  {
   "cell_type": "code",
   "execution_count": 67,
   "id": "2c1d60a3-97c0-4993-81e4-38bebce10c8c",
   "metadata": {},
   "outputs": [],
   "source": [
    "model = RandomForestClassifier(n_estimators=10, n_jobs=-1)"
   ]
  },
  {
   "cell_type": "markdown",
   "id": "fe959fed-9a5a-4416-afc9-d1c39a151272",
   "metadata": {},
   "source": [
    "### Arrange data into a feature matrix and target vector"
   ]
  },
  {
   "cell_type": "markdown",
   "id": "5d033aa9-4f48-4541-bb26-1c1302a4b996",
   "metadata": {},
   "source": [
    "scikit-learn requires that the data be arranged into a two-dimensional feature matrix and a one-dimensional target array. By convention: \n",
    "\n",
    "* The feature matrix is often stored in a variable called `X`. This matrix is typically two-dimensional with shape `[n_samples, n_features]`, where `n_samples` refers to the number of rows (i.e. events in our case) and `n_features` refers to all columns except `signal` which is our target.\n",
    "* The target or label array is usually denoted by `y`."
   ]
  },
  {
   "cell_type": "code",
   "execution_count": 68,
   "id": "bd402475-d363-4029-ba76-4bcbb66bb428",
   "metadata": {},
   "outputs": [],
   "source": [
    "X = susy_all.drop(\"signal\", axis=1)\n",
    "y = susy_all[\"signal\"]"
   ]
  },
  {
   "cell_type": "markdown",
   "id": "a59191c6-7018-41bc-9dba-2c5a9ad5335b",
   "metadata": {},
   "source": [
    "### Fit the model to your data"
   ]
  },
  {
   "cell_type": "markdown",
   "id": "abee0796-812c-4e52-bf39-707b3ab50e05",
   "metadata": {},
   "source": [
    "Now it is time to apply our model to data! This can be done with the `fit()` method:"
   ]
  },
  {
   "cell_type": "code",
   "execution_count": 69,
   "id": "a11f019f-5ec0-4c66-937e-4bd99bcf7d56",
   "metadata": {},
   "outputs": [
    {
     "name": "stdout",
     "output_type": "stream",
     "text": [
      "CPU times: user 6.11 s, sys: 54.2 ms, total: 6.16 s\n",
      "Wall time: 1.45 s\n"
     ]
    },
    {
     "data": {
      "text/plain": [
       "RandomForestClassifier(n_estimators=10, n_jobs=-1)"
      ]
     },
     "execution_count": 69,
     "metadata": {},
     "output_type": "execute_result"
    }
   ],
   "source": [
    "%time model.fit(X, y)"
   ]
  },
  {
   "cell_type": "markdown",
   "id": "024535cc-6a8c-46e9-9b1f-577caf8479d4",
   "metadata": {},
   "source": [
    "### Evaluate the predictions"
   ]
  },
  {
   "cell_type": "markdown",
   "id": "5a5fa935-ab70-454e-9495-4523f29fef01",
   "metadata": {},
   "source": [
    "The final step is to generate predictions and evaluate them against some performance metric, e.g. accuracy:"
   ]
  },
  {
   "cell_type": "code",
   "execution_count": 70,
   "id": "dda2e991-9b88-48a8-b2dd-e4cafab8e79f",
   "metadata": {},
   "outputs": [
    {
     "data": {
      "text/plain": [
       "0.98453"
      ]
     },
     "execution_count": 70,
     "metadata": {},
     "output_type": "execute_result"
    }
   ],
   "source": [
    "preds = model.predict(X)\n",
    "accuracy_score(y, preds)"
   ]
  },
  {
   "cell_type": "markdown",
   "id": "fcba9ebd-bddf-47b7-bbcd-3db502447a48",
   "metadata": {},
   "source": [
    "<div style=\"text-align: center\">\n",
    "<img src='images/wat.jpeg'>\n",
    "</div>\n",
    "\n",
    "Wait, wat!? How can the Random Forest model have almost no error at all? Is this a perfect model? Of course it is much more likely that the model has badly overfit the data. To be sure we need to use part of the training set for training and part for model validation."
   ]
  },
  {
   "cell_type": "markdown",
   "id": "388571b2-7d80-4884-940b-ef323fb96c40",
   "metadata": {},
   "source": [
    "> Warning: Evaluating our model's predictions on the same data it was trained on is almost always a recipe for disaster! Why? The problem is that the model may memorise the structure of the data it sees and fail to provide good predictions when shown new data."
   ]
  },
  {
   "cell_type": "markdown",
   "id": "56ecb203-07c9-4fcb-87c3-590021bf0d98",
   "metadata": {},
   "source": [
    "## Better evaluation using training and validation splits"
   ]
  },
  {
   "cell_type": "markdown",
   "id": "6e64ea0e-a5b4-4b25-875b-6b732e0d5310",
   "metadata": {},
   "source": [
    "One way to measure how well a model will generalise to new cases is to split your data into two sets: the _**training set**_ and the _**validation set**_. As these names imply, you train your model using the training set and validate it using the validation set. The error rate on new cases is called the _**generalisation error**_ and by evaluating your model on the validation set, you get an estimation of this error.\n",
    "\n",
    "Creating a validation set is theoretically quite simple: just pick some instances randomly and set them aside (we set the random number generator's seed `random_state` so that is always generates the same shuffled indices):"
   ]
  },
  {
   "cell_type": "code",
   "execution_count": 71,
   "id": "4044c1e9-1278-4342-b8f2-8b3da603ac3b",
   "metadata": {},
   "outputs": [
    {
     "name": "stdout",
     "output_type": "stream",
     "text": [
      "Dataset split: 80000 train rows + 20000 valid rows\n"
     ]
    }
   ],
   "source": [
    "X_train, X_valid, y_train, y_valid = train_test_split(X, y, test_size=0.2, random_state=42)\n",
    "\n",
    "print(f\"Dataset split: {len(X_train)} train rows + {len(X_valid)} valid rows\")"
   ]
  },
  {
   "cell_type": "markdown",
   "id": "e07776ca-f04d-4322-aacd-90a03ef338c6",
   "metadata": {},
   "source": [
    "## Baseline model"
   ]
  },
  {
   "cell_type": "markdown",
   "id": "7f26004c-76fe-4b21-9bba-914ced184ffc",
   "metadata": {},
   "source": [
    "With these two datasets, we first fit on the training set and evaluate the prediction on the validation one. To simplify the evaluation of our models, let's write a simple function to keep track of the scores:"
   ]
  },
  {
   "cell_type": "code",
   "execution_count": 72,
   "id": "09b29d4c-13ea-4466-b47f-0a1216ec64b1",
   "metadata": {},
   "outputs": [],
   "source": [
    "def print_scores(fitted_model):\n",
    "    res = {\n",
    "        \"Accuracy on train:\": accuracy_score(fitted_model.predict(X_train), y_train),\n",
    "        \"ROC AUC on train:\": roc_auc_score(\n",
    "            y_train, fitted_model.predict_proba(X_train)[:, 1]\n",
    "        ),\n",
    "        \"Accuracy on valid:\": accuracy_score(fitted_model.predict(X_valid), y_valid),\n",
    "        \"ROC AUC on valid:\": roc_auc_score(\n",
    "            y_valid, fitted_model.predict_proba(X_valid)[:, 1]\n",
    "        ),\n",
    "    }\n",
    "    if hasattr(fitted_model, \"oob_score_\"):\n",
    "        res[\"OOB accuracy:\"] = fitted_model.oob_score_\n",
    "\n",
    "    for k, v in res.items():\n",
    "        print(k, round(v, 3))"
   ]
  },
  {
   "cell_type": "code",
   "execution_count": 73,
   "id": "5f065cc5-b97a-432d-9463-cc9d853f939c",
   "metadata": {},
   "outputs": [
    {
     "data": {
      "text/plain": [
       "RandomForestClassifier(n_estimators=10, n_jobs=-1, random_state=42)"
      ]
     },
     "execution_count": 73,
     "metadata": {},
     "output_type": "execute_result"
    }
   ],
   "source": [
    "model = RandomForestClassifier(n_estimators=10, n_jobs=-1, random_state=42)\n",
    "model.fit(X_train, y_train)"
   ]
  },
  {
   "cell_type": "code",
   "execution_count": 74,
   "id": "c2c6939d-0e77-4026-9655-e74a47744135",
   "metadata": {},
   "outputs": [
    {
     "name": "stdout",
     "output_type": "stream",
     "text": [
      "Accuracy on train: 0.985\n",
      "ROC AUC on train: 0.999\n",
      "Accuracy on valid: 0.782\n",
      "ROC AUC on valid: 0.84\n"
     ]
    }
   ],
   "source": [
    "print_scores(model)"
   ]
  },
  {
   "cell_type": "markdown",
   "id": "54c96fb7-5175-4f1c-bd3d-669abb1e0ca7",
   "metadata": {},
   "source": [
    "## ROC curves and AUC\n",
    "Note that in addition to accuracy, we also show a second value, the _**Area Under the ROC Curve**_ (AUC). The AUC is a good summary statistic of the predictiveness of a binary classifier. It varies from zero to one, and a value of 0.5 corresponds to randomness (the classifier cannot distinguish at all between \"signal\" and \"background\"), while a value of 1.0 means that it is perfect.\n",
    "\n",
    "The \"ROC\" refers to the Receiver Operating Characteristic curve which plots the _true positive rate_ \n",
    "\n",
    "$$ \\mathrm{TPR} = \\frac{\\mathrm{TP}}{\\mathrm{TP} + \\mathrm{FP}} \\,, \\qquad \\mathrm{TP\\, (FP)}  = \\mathrm{number\\, of\\, true\\, (false) \\,positives}\\,,$$\n",
    "\n",
    "against the _false positive rate_ FPR, where the FPR is the ratio of negative instances that are incorrectly classified as positive. In general there is a tradeoff between these two quantities: the higher the TPR, the more false positives (FPR) the classifier produces."
   ]
  },
  {
   "cell_type": "markdown",
   "id": "39c6c24b-0cb5-4e24-886f-c06601d36030",
   "metadata": {},
   "source": [
    "For our analysis, these ROC curves effectively plot signal efficiency versus background rejection at various thresholds of some discriminating variable. Here that variable will be the output signal probability of our Random Forest model. Let's write a simple function to visualise these outputs:"
   ]
  },
  {
   "cell_type": "code",
   "execution_count": 76,
   "id": "2c2f0656-ed0b-44bd-8652-8a6a20f7cfd9",
   "metadata": {},
   "outputs": [],
   "source": [
    "def plot_signal_vs_background(fitted_model):\n",
    "    valid_probs = model.predict_proba(X_valid)\n",
    "    df = pd.DataFrame({\"probability\": valid_probs[:, 1]})\n",
    "    df[\"signal\"] = y_valid.values\n",
    "    sns.distplot(\n",
    "        df.query(\"signal == 1\")[\"probability\"],\n",
    "        kde=False,\n",
    "        bins=np.linspace(0, 1, 10),\n",
    "        label=\"Signal\",\n",
    "    )\n",
    "    sns.distplot(\n",
    "        df.query(\"signal == 0\")[\"probability\"],\n",
    "        kde=False,\n",
    "        bins=np.linspace(0, 1, 10),\n",
    "        label=\"Background\",\n",
    "    )\n",
    "    plt.legend(bbox_to_anchor=(1.01, 1), loc=\"upper left\")\n",
    "    plt.show()"
   ]
  },
  {
   "cell_type": "code",
   "execution_count": 77,
   "id": "e09bec62-fbaa-407e-9ea5-f8a394fdb9bc",
   "metadata": {},
   "outputs": [
    {
     "name": "stderr",
     "output_type": "stream",
     "text": [
      "/home/sraj/anaconda3/lib/python3.9/site-packages/seaborn/distributions.py:2619: FutureWarning: `distplot` is a deprecated function and will be removed in a future version. Please adapt your code to use either `displot` (a figure-level function with similar flexibility) or `histplot` (an axes-level function for histograms).\n",
      "  warnings.warn(msg, FutureWarning)\n"
     ]
    },
    {
     "data": {
      "image/png": "[encoded data removed]",
      "text/plain": [
       "<Figure size 432x288 with 1 Axes>"
      ]
     },
     "metadata": {},
     "output_type": "display_data"
    }
   ],
   "source": [
    "plot_signal_vs_background(model)"
   ]
  },
  {
   "cell_type": "markdown",
   "id": "e433fbe8-8f95-4729-bf28-e8883b6188aa",
   "metadata": {},
   "source": [
    "We see that although the model assigns high (low) probabilities to the signal (background) events, a fair amount of the signal events overlap with background ones. Another way to see this is to look at the $p_T$ distributions of two highest $p_T$ leptons:"
   ]
  },
  {
   "cell_type": "code",
   "execution_count": 78,
   "id": "a1f567f3-adce-473e-8f6f-7fb488c3a9e2",
   "metadata": {},
   "outputs": [
    {
     "data": {
      "image/png": "[encoded data removed]",
      "text/plain": [
       "<Figure size 864x432 with 2 Axes>"
      ]
     },
     "metadata": {},
     "output_type": "display_data"
    }
   ],
   "source": [
    "# use plt.subplots() to create multiple plots\n",
    "fig, (ax0, ax1) = plt.subplots(nrows=1, ncols=2, sharey=True, figsize=(12, 6))\n",
    "# put one plot on axis ax0\n",
    "sns.scatterplot(\n",
    "    x=\"lepton 1 pT\",\n",
    "    y=\"lepton 2 pT\",\n",
    "    data=susy.query(\"signal == 0\"),\n",
    "    ax=ax0,\n",
    "    color=\"darkorange\",\n",
    "    label=\"Background\",\n",
    ")\n",
    "# put second plot on axis ax1\n",
    "sns.scatterplot(\n",
    "    x=\"lepton 1 pT\",\n",
    "    y=\"lepton 2 pT\",\n",
    "    data=susy.query(\"signal == 1\"),\n",
    "    ax=ax1,\n",
    "    color=\"b\",\n",
    "    label=\"Signal\",\n",
    ")\n",
    "# tight_layout() fixes spacing between plots\n",
    "fig.tight_layout()"
   ]
  },
  {
   "cell_type": "markdown",
   "id": "d3a581b3-41ea-4b00-a18a-9139dbd4c0a5",
   "metadata": {},
   "source": [
    "These plots show that instead of fixing a single threshold to evaluate our classifier, we should scan across various thresholds as in the ROC curve. In scikit-learn we can visualise the ROC curve of an estimator using the plotting API:"
   ]
  },
  {
   "cell_type": "code",
   "execution_count": 79,
   "id": "895e2525-b208-424f-bce6-f7f20055f6bb",
   "metadata": {},
   "outputs": [
    {
     "data": {
      "image/png": "[encoded data removed]",
      "text/plain": [
       "<Figure size 432x288 with 1 Axes>"
      ]
     },
     "metadata": {},
     "output_type": "display_data"
    }
   ],
   "source": [
    "plot_roc_curve(model, X_valid, y_valid)\n",
    "plt.show()"
   ]
  },
  {
   "cell_type": "markdown",
   "id": "ca878324-72e6-4b4c-accc-f2fa1fd3e54f",
   "metadata": {},
   "source": [
    "Looking at the scores in the original SUSY article, we see that our super simple model does not perform too badly - with an AUC of around 0.84 it falls short of the benchmark models by around 3-5% with the \"complete\" features. In the coming lessons we will explore techniques to improve upon this!"
   ]
  },
  {
   "cell_type": "markdown",
   "id": "6728ea3d-80f5-480a-8fe2-891262ba8dbf",
   "metadata": {},
   "source": [
    "<div style=\"text-align: center\">\n",
    "<img src='images/susy_benchmark.png'>\n",
    "   <p style=\"text-align: center;\"> <b>Figure reference:</b> https://www.nature.com/articles/ncomms5308 </p>\n",
    "</div>"
   ]
  },
  {
   "cell_type": "code",
   "execution_count": null,
   "id": "6890a4c8-9167-47c4-9308-9c4d47ae8b1d",
   "metadata": {},
   "outputs": [],
   "source": []
  },
  {
   "cell_type": "code",
   "execution_count": null,
   "id": "60eeb0d5-9d7d-4f10-8e96-1e3ad299152f",
   "metadata": {},
   "outputs": [],
   "source": []
  }
 ],
 "metadata": {
  "kernelspec": {
   "display_name": "Python 3 (ipykernel)",
   "language": "python",
   "name": "python3"
  },
  "language_info": {
   "codemirror_mode": {
    "name": "ipython",
    "version": 3
   },
   "file_extension": ".py",
   "mimetype": "text/x-python",
   "name": "python",
   "nbconvert_exporter": "python",
   "pygments_lexer": "ipython3",
   "version": "3.9.7"
  }
 },
 "nbformat": 4,
 "nbformat_minor": 5
}
