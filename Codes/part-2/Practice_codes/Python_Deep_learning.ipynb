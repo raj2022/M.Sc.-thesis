{
 "cells": [
  {
   "cell_type": "markdown",
   "id": "3aa9c166",
   "metadata": {},
   "source": [
    "# Introduction to Deep Learning with Keras\n"
   ]
  },
  {
   "cell_type": "markdown",
   "id": "2050844c",
   "metadata": {},
   "source": [
    "\n",
    "# Workshop on Machine Learning in -tagging.\n"
   ]
  },
  {
   "cell_type": "markdown",
   "id": "e8c65c6c",
   "metadata": {},
   "source": [
    "Outline for Today\n",
    "1. Navigating the zoo of deep learning libraries — why Keras?\n",
    "2. The right level of abstraction, FP\n",
    "3. Constructing models with the functional API\n",
    "4. Useful guidance for setting up an experiment"
   ]
  },
  {
   "cell_type": "code",
   "execution_count": 2,
   "id": "6484f865",
   "metadata": {},
   "outputs": [
    {
     "name": "stdout",
     "output_type": "stream",
     "text": [
      "Downloading data from https://storage.googleapis.com/tensorflow/tf-keras-datasets/boston_housing.npz\n",
      "57344/57026 [==============================] - 0s 1us/step\n",
      "65536/57026 [==================================] - 0s 1us/step\n"
     ]
    }
   ],
   "source": [
    "from keras.datasets.boston_housing import load_data\n",
    "(X_train, y_train), (X_test, y_test) = load_data()\n"
   ]
  },
  {
   "cell_type": "code",
   "execution_count": 3,
   "id": "f0a3094b",
   "metadata": {},
   "outputs": [
    {
     "data": {
      "text/plain": [
       "(102, 13)"
      ]
     },
     "execution_count": 3,
     "metadata": {},
     "output_type": "execute_result"
    }
   ],
   "source": [
    "X_test.shape\n"
   ]
  },
  {
   "cell_type": "code",
   "execution_count": 4,
   "id": "e3bf4678",
   "metadata": {},
   "outputs": [
    {
     "data": {
      "text/plain": [
       "(102,)"
      ]
     },
     "execution_count": 4,
     "metadata": {},
     "output_type": "execute_result"
    }
   ],
   "source": [
    "y_test.shape\n"
   ]
  },
  {
   "cell_type": "markdown",
   "id": "0243cf21",
   "metadata": {},
   "source": [
    "# Building a DNN in Keras"
   ]
  },
  {
   "cell_type": "markdown",
   "id": "a4825ced",
   "metadata": {},
   "source": [
    "A supervised neural network, at it's core, consists of three components.\n",
    "\n",
    "A computation graph, i.e., the network itself with all of it's layers\n",
    "A loss function to penalize a problem dependent notion of incorrectness\n",
    "mean squared error, mean absolute error, huber\n",
    "cross entropy, KL-divergence\n",
    "An optimizer, or a way to learn the parameters of your model with respect to a loss\n",
    "Adam, Adagrad, RMSProp, Adadelta, Vanilla SGD, etc.\n",
    "Ability to anneal\n",
    "Let's start from the canonical version of a DNN, a simple multilayer perceptron-like architecture. Building this structure, i.e., a linear sequence of non-linear transforms, is very easy in Keras.\n",
    "\n",
    "Let's make a network that reads in the 13 inputs from the Boston Housing dataset, has two hidden layers, and one linear output. We'll think about layers as mathematical functions using the Keras functional API."
   ]
  },
  {
   "cell_type": "code",
   "execution_count": 6,
   "id": "2dc2232f",
   "metadata": {},
   "outputs": [],
   "source": [
    "from keras.layers import Dense, Input, Activation\n",
    "from keras.models import Model\n",
    "from keras.utils.vis_utils import plot_model\n"
   ]
  },
  {
   "cell_type": "code",
   "execution_count": 7,
   "id": "2e9b79cb",
   "metadata": {},
   "outputs": [],
   "source": [
    "from matplotlib import pyplot as plt\n",
    "%matplotlib inline"
   ]
  },
  {
   "cell_type": "code",
   "execution_count": 9,
   "id": "eb6f4759",
   "metadata": {},
   "outputs": [],
   "source": [
    "# we define the input shape (i.e., how many input features) **without** the batch size\n",
    "x = Input(shape=(13, ))\n",
    "\n",
    "# all Keras Ops look like z = f(z) (like functional programming)\n",
    "h = Dense(20)(x)\n",
    "h = Activation('relu')(h)\n",
    "\n",
    "h = Dense(20)(h)\n",
    "h = Activation('relu')(h)\n",
    "\n",
    "# our output is a single number, the house price.\n",
    "y = Dense(1)(h)\n",
    "\n",
    "# A model is a conta\n",
    "net = Model(x, y)"
   ]
  },
  {
   "cell_type": "code",
   "execution_count": 12,
   "id": "256f0c55",
   "metadata": {},
   "outputs": [
    {
     "name": "stdout",
     "output_type": "stream",
     "text": [
      "('You must install pydot (`pip install pydot`) and install graphviz (see instructions at https://graphviz.gitlab.io/download/) ', 'for plot_model/model_to_dot to work.')\n"
     ]
    }
   ],
   "source": [
    "plot_model(net, to_file='basic.png')\n"
   ]
  },
  {
   "cell_type": "code",
   "execution_count": 11,
   "id": "d1b4613a",
   "metadata": {},
   "outputs": [
    {
     "name": "stdout",
     "output_type": "stream",
     "text": [
      "Collecting pydot\n",
      "  Downloading pydot-1.4.2-py2.py3-none-any.whl (21 kB)\n",
      "Requirement already satisfied: pyparsing>=2.1.4 in /home/sraj/anaconda3/lib/python3.8/site-packages (from pydot) (2.4.7)\n",
      "Installing collected packages: pydot\n",
      "Successfully installed pydot-1.4.2\n",
      "Note: you may need to restart the kernel to use updated packages.\n"
     ]
    }
   ],
   "source": [
    "pip install pydot"
   ]
  },
  {
   "cell_type": "markdown",
   "id": "fd1c1223",
   "metadata": {},
   "source": [
    "To make this neural net useful, we need to compile it into a DAG (directed, acyclic graph). This is the declarative approach to deep learning. This compilation takes all of your ops, your loss, and your model, and constructs all of the operations to do gradient updates.\n",
    "\n",
    "Let's use the Adam [arXiv/1412.6980] optimizer with a mean squared error loss function, i.e., \n"
   ]
  },
  {
   "cell_type": "code",
   "execution_count": 13,
   "id": "fa7d7f10",
   "metadata": {},
   "outputs": [],
   "source": [
    "net.compile(optimizer='adam', loss='mse')\n"
   ]
  },
  {
   "cell_type": "markdown",
   "id": "96c39aad",
   "metadata": {},
   "source": [
    "Now, you're going to want to fit the model to your data. This is made very easy by the .fit member function of a model object. We might want to leave out a subset of our data, say 20%, for validation.\n",
    "\n",
    "In addition, we might want to save a network and impose an ability to stop when a validation loss stops decreasing. Keras introduces this with callbacks."
   ]
  },
  {
   "cell_type": "code",
   "execution_count": 14,
   "id": "81b30005",
   "metadata": {},
   "outputs": [],
   "source": [
    "from keras.callbacks import ModelCheckpoint, EarlyStopping"
   ]
  },
  {
   "cell_type": "code",
   "execution_count": 15,
   "id": "ecb463d8",
   "metadata": {},
   "outputs": [],
   "source": [
    "callbacks = [\n",
    "    # if we don't have a decrease of the loss for 10 epochs, terminate training.\n",
    "    EarlyStopping(verbose=True, patience=10, monitor='val_loss'), \n",
    "    # Always make sure that we're saving the model weights with the best val loss.\n",
    "    ModelCheckpoint('model.h5', monitor='val_loss', verbose=True, save_best_only=True)]"
   ]
  },
  {
   "cell_type": "code",
   "execution_count": 16,
   "id": "cc319dc5",
   "metadata": {},
   "outputs": [
    {
     "name": "stdout",
     "output_type": "stream",
     "text": [
      "Epoch 1/60\n",
      "\n",
      "Epoch 00001: val_loss improved from inf to 1548.45154, saving model to model.h5\n",
      "11/11 - 1s - loss: 4590.8374 - val_loss: 1548.4515 - 995ms/epoch - 90ms/step\n",
      "Epoch 2/60\n",
      "\n",
      "Epoch 00002: val_loss improved from 1548.45154 to 359.23688, saving model to model.h5\n",
      "11/11 - 0s - loss: 1092.5748 - val_loss: 359.2369 - 36ms/epoch - 3ms/step\n",
      "Epoch 3/60\n",
      "\n",
      "Epoch 00003: val_loss improved from 359.23688 to 211.67174, saving model to model.h5\n",
      "11/11 - 0s - loss: 399.2033 - val_loss: 211.6717 - 37ms/epoch - 3ms/step\n",
      "Epoch 4/60\n",
      "\n",
      "Epoch 00004: val_loss improved from 211.67174 to 123.93632, saving model to model.h5\n",
      "11/11 - 0s - loss: 230.1649 - val_loss: 123.9363 - 47ms/epoch - 4ms/step\n",
      "Epoch 5/60\n",
      "\n",
      "Epoch 00005: val_loss improved from 123.93632 to 103.66457, saving model to model.h5\n",
      "11/11 - 0s - loss: 164.7570 - val_loss: 103.6646 - 44ms/epoch - 4ms/step\n",
      "Epoch 6/60\n",
      "\n",
      "Epoch 00006: val_loss improved from 103.66457 to 90.10807, saving model to model.h5\n",
      "11/11 - 0s - loss: 130.5685 - val_loss: 90.1081 - 40ms/epoch - 4ms/step\n",
      "Epoch 7/60\n",
      "\n",
      "Epoch 00007: val_loss improved from 90.10807 to 80.60356, saving model to model.h5\n",
      "11/11 - 0s - loss: 109.7250 - val_loss: 80.6036 - 62ms/epoch - 6ms/step\n",
      "Epoch 8/60\n",
      "\n",
      "Epoch 00008: val_loss improved from 80.60356 to 76.07992, saving model to model.h5\n",
      "11/11 - 0s - loss: 93.4425 - val_loss: 76.0799 - 54ms/epoch - 5ms/step\n",
      "Epoch 9/60\n",
      "\n",
      "Epoch 00009: val_loss improved from 76.07992 to 72.61452, saving model to model.h5\n",
      "11/11 - 0s - loss: 84.9889 - val_loss: 72.6145 - 43ms/epoch - 4ms/step\n",
      "Epoch 10/60\n",
      "\n",
      "Epoch 00010: val_loss improved from 72.61452 to 70.86739, saving model to model.h5\n",
      "11/11 - 0s - loss: 77.5179 - val_loss: 70.8674 - 45ms/epoch - 4ms/step\n",
      "Epoch 11/60\n",
      "\n",
      "Epoch 00011: val_loss improved from 70.86739 to 69.30410, saving model to model.h5\n",
      "11/11 - 0s - loss: 73.3383 - val_loss: 69.3041 - 39ms/epoch - 4ms/step\n",
      "Epoch 12/60\n",
      "\n",
      "Epoch 00012: val_loss improved from 69.30410 to 68.76396, saving model to model.h5\n",
      "11/11 - 0s - loss: 70.8478 - val_loss: 68.7640 - 44ms/epoch - 4ms/step\n",
      "Epoch 13/60\n",
      "\n",
      "Epoch 00013: val_loss did not improve from 68.76396\n",
      "11/11 - 0s - loss: 68.1676 - val_loss: 68.8731 - 31ms/epoch - 3ms/step\n",
      "Epoch 14/60\n",
      "\n",
      "Epoch 00014: val_loss improved from 68.76396 to 66.81857, saving model to model.h5\n",
      "11/11 - 0s - loss: 66.3988 - val_loss: 66.8186 - 44ms/epoch - 4ms/step\n",
      "Epoch 15/60\n",
      "\n",
      "Epoch 00015: val_loss improved from 66.81857 to 66.52633, saving model to model.h5\n",
      "11/11 - 0s - loss: 65.0258 - val_loss: 66.5263 - 59ms/epoch - 5ms/step\n",
      "Epoch 16/60\n",
      "\n",
      "Epoch 00016: val_loss improved from 66.52633 to 66.36082, saving model to model.h5\n",
      "11/11 - 0s - loss: 63.7727 - val_loss: 66.3608 - 49ms/epoch - 4ms/step\n",
      "Epoch 17/60\n",
      "\n",
      "Epoch 00017: val_loss did not improve from 66.36082\n",
      "11/11 - 0s - loss: 63.0115 - val_loss: 66.7295 - 35ms/epoch - 3ms/step\n",
      "Epoch 18/60\n",
      "\n",
      "Epoch 00018: val_loss improved from 66.36082 to 64.96206, saving model to model.h5\n",
      "11/11 - 0s - loss: 62.8032 - val_loss: 64.9621 - 39ms/epoch - 4ms/step\n",
      "Epoch 19/60\n",
      "\n",
      "Epoch 00019: val_loss improved from 64.96206 to 64.74641, saving model to model.h5\n",
      "11/11 - 0s - loss: 61.6876 - val_loss: 64.7464 - 43ms/epoch - 4ms/step\n",
      "Epoch 20/60\n",
      "\n",
      "Epoch 00020: val_loss improved from 64.74641 to 63.82230, saving model to model.h5\n",
      "11/11 - 0s - loss: 59.8620 - val_loss: 63.8223 - 46ms/epoch - 4ms/step\n",
      "Epoch 21/60\n",
      "\n",
      "Epoch 00021: val_loss improved from 63.82230 to 62.95761, saving model to model.h5\n",
      "11/11 - 0s - loss: 58.8999 - val_loss: 62.9576 - 47ms/epoch - 4ms/step\n",
      "Epoch 22/60\n",
      "\n",
      "Epoch 00022: val_loss did not improve from 62.95761\n",
      "11/11 - 0s - loss: 58.6808 - val_loss: 63.1393 - 30ms/epoch - 3ms/step\n",
      "Epoch 23/60\n",
      "\n",
      "Epoch 00023: val_loss improved from 62.95761 to 62.27544, saving model to model.h5\n",
      "11/11 - 0s - loss: 58.7134 - val_loss: 62.2754 - 43ms/epoch - 4ms/step\n",
      "Epoch 24/60\n",
      "\n",
      "Epoch 00024: val_loss improved from 62.27544 to 61.76701, saving model to model.h5\n",
      "11/11 - 0s - loss: 57.4537 - val_loss: 61.7670 - 57ms/epoch - 5ms/step\n",
      "Epoch 25/60\n",
      "\n",
      "Epoch 00025: val_loss improved from 61.76701 to 61.13292, saving model to model.h5\n",
      "11/11 - 0s - loss: 59.2299 - val_loss: 61.1329 - 41ms/epoch - 4ms/step\n",
      "Epoch 26/60\n",
      "\n",
      "Epoch 00026: val_loss did not improve from 61.13292\n",
      "11/11 - 0s - loss: 56.4764 - val_loss: 61.8929 - 28ms/epoch - 3ms/step\n",
      "Epoch 27/60\n",
      "\n",
      "Epoch 00027: val_loss improved from 61.13292 to 60.63449, saving model to model.h5\n",
      "11/11 - 0s - loss: 55.5908 - val_loss: 60.6345 - 41ms/epoch - 4ms/step\n",
      "Epoch 28/60\n",
      "\n",
      "Epoch 00028: val_loss did not improve from 60.63449\n",
      "11/11 - 0s - loss: 55.0544 - val_loss: 62.0014 - 23ms/epoch - 2ms/step\n",
      "Epoch 29/60\n",
      "\n",
      "Epoch 00029: val_loss improved from 60.63449 to 60.42791, saving model to model.h5\n",
      "11/11 - 0s - loss: 55.4841 - val_loss: 60.4279 - 42ms/epoch - 4ms/step\n",
      "Epoch 30/60\n",
      "\n",
      "Epoch 00030: val_loss improved from 60.42791 to 59.47559, saving model to model.h5\n",
      "11/11 - 0s - loss: 53.9079 - val_loss: 59.4756 - 46ms/epoch - 4ms/step\n",
      "Epoch 31/60\n",
      "\n",
      "Epoch 00031: val_loss did not improve from 59.47559\n",
      "11/11 - 0s - loss: 53.5104 - val_loss: 60.8782 - 23ms/epoch - 2ms/step\n",
      "Epoch 32/60\n",
      "\n",
      "Epoch 00032: val_loss did not improve from 59.47559\n",
      "11/11 - 0s - loss: 55.0334 - val_loss: 59.5069 - 24ms/epoch - 2ms/step\n",
      "Epoch 33/60\n",
      "\n",
      "Epoch 00033: val_loss did not improve from 59.47559\n",
      "11/11 - 0s - loss: 53.1863 - val_loss: 59.8671 - 30ms/epoch - 3ms/step\n",
      "Epoch 34/60\n",
      "\n",
      "Epoch 00034: val_loss did not improve from 59.47559\n",
      "11/11 - 0s - loss: 52.3164 - val_loss: 59.8940 - 28ms/epoch - 3ms/step\n",
      "Epoch 35/60\n",
      "\n",
      "Epoch 00035: val_loss improved from 59.47559 to 59.46112, saving model to model.h5\n",
      "11/11 - 0s - loss: 52.2319 - val_loss: 59.4611 - 44ms/epoch - 4ms/step\n",
      "Epoch 36/60\n",
      "\n",
      "Epoch 00036: val_loss improved from 59.46112 to 59.40273, saving model to model.h5\n",
      "11/11 - 0s - loss: 51.9329 - val_loss: 59.4027 - 38ms/epoch - 3ms/step\n",
      "Epoch 37/60\n",
      "\n",
      "Epoch 00037: val_loss improved from 59.40273 to 58.89488, saving model to model.h5\n",
      "11/11 - 0s - loss: 51.4858 - val_loss: 58.8949 - 47ms/epoch - 4ms/step\n",
      "Epoch 38/60\n",
      "\n",
      "Epoch 00038: val_loss did not improve from 58.89488\n",
      "11/11 - 0s - loss: 51.0415 - val_loss: 59.1214 - 33ms/epoch - 3ms/step\n",
      "Epoch 39/60\n",
      "\n",
      "Epoch 00039: val_loss improved from 58.89488 to 57.70507, saving model to model.h5\n",
      "11/11 - 0s - loss: 51.3653 - val_loss: 57.7051 - 47ms/epoch - 4ms/step\n",
      "Epoch 40/60\n",
      "\n",
      "Epoch 00040: val_loss did not improve from 57.70507\n",
      "11/11 - 0s - loss: 50.3275 - val_loss: 58.9981 - 30ms/epoch - 3ms/step\n",
      "Epoch 41/60\n",
      "\n",
      "Epoch 00041: val_loss did not improve from 57.70507\n",
      "11/11 - 0s - loss: 50.1148 - val_loss: 57.9010 - 25ms/epoch - 2ms/step\n",
      "Epoch 42/60\n",
      "\n",
      "Epoch 00042: val_loss did not improve from 57.70507\n",
      "11/11 - 0s - loss: 49.8872 - val_loss: 57.9046 - 26ms/epoch - 2ms/step\n",
      "Epoch 43/60\n",
      "\n",
      "Epoch 00043: val_loss improved from 57.70507 to 57.32689, saving model to model.h5\n",
      "11/11 - 0s - loss: 49.6910 - val_loss: 57.3269 - 41ms/epoch - 4ms/step\n",
      "Epoch 44/60\n",
      "\n",
      "Epoch 00044: val_loss improved from 57.32689 to 57.11490, saving model to model.h5\n",
      "11/11 - 0s - loss: 49.5289 - val_loss: 57.1149 - 39ms/epoch - 4ms/step\n",
      "Epoch 45/60\n",
      "\n",
      "Epoch 00045: val_loss did not improve from 57.11490\n",
      "11/11 - 0s - loss: 49.9221 - val_loss: 57.1679 - 23ms/epoch - 2ms/step\n",
      "Epoch 46/60\n",
      "\n",
      "Epoch 00046: val_loss improved from 57.11490 to 55.79229, saving model to model.h5\n",
      "11/11 - 0s - loss: 49.1517 - val_loss: 55.7923 - 45ms/epoch - 4ms/step\n",
      "Epoch 47/60\n",
      "\n",
      "Epoch 00047: val_loss improved from 55.79229 to 55.61658, saving model to model.h5\n",
      "11/11 - 0s - loss: 48.1890 - val_loss: 55.6166 - 47ms/epoch - 4ms/step\n",
      "Epoch 48/60\n",
      "\n",
      "Epoch 00048: val_loss improved from 55.61658 to 55.04955, saving model to model.h5\n",
      "11/11 - 0s - loss: 47.6050 - val_loss: 55.0496 - 47ms/epoch - 4ms/step\n",
      "Epoch 49/60\n",
      "\n",
      "Epoch 00049: val_loss improved from 55.04955 to 54.35351, saving model to model.h5\n",
      "11/11 - 0s - loss: 47.8678 - val_loss: 54.3535 - 41ms/epoch - 4ms/step\n",
      "Epoch 50/60\n",
      "\n",
      "Epoch 00050: val_loss improved from 54.35351 to 53.84919, saving model to model.h5\n",
      "11/11 - 0s - loss: 48.3721 - val_loss: 53.8492 - 39ms/epoch - 4ms/step\n",
      "Epoch 51/60\n",
      "\n",
      "Epoch 00051: val_loss did not improve from 53.84919\n",
      "11/11 - 0s - loss: 47.7149 - val_loss: 54.8667 - 34ms/epoch - 3ms/step\n",
      "Epoch 52/60\n",
      "\n",
      "Epoch 00052: val_loss improved from 53.84919 to 52.77029, saving model to model.h5\n",
      "11/11 - 0s - loss: 47.7470 - val_loss: 52.7703 - 45ms/epoch - 4ms/step\n"
     ]
    },
    {
     "name": "stdout",
     "output_type": "stream",
     "text": [
      "Epoch 53/60\n",
      "\n",
      "Epoch 00053: val_loss did not improve from 52.77029\n",
      "11/11 - 0s - loss: 46.3195 - val_loss: 55.1034 - 25ms/epoch - 2ms/step\n",
      "Epoch 54/60\n",
      "\n",
      "Epoch 00054: val_loss improved from 52.77029 to 52.31355, saving model to model.h5\n",
      "11/11 - 0s - loss: 47.3219 - val_loss: 52.3135 - 43ms/epoch - 4ms/step\n",
      "Epoch 55/60\n",
      "\n",
      "Epoch 00055: val_loss improved from 52.31355 to 52.03003, saving model to model.h5\n",
      "11/11 - 0s - loss: 47.1590 - val_loss: 52.0300 - 43ms/epoch - 4ms/step\n",
      "Epoch 56/60\n",
      "\n",
      "Epoch 00056: val_loss did not improve from 52.03003\n",
      "11/11 - 0s - loss: 50.1302 - val_loss: 53.7437 - 54ms/epoch - 5ms/step\n",
      "Epoch 57/60\n",
      "\n",
      "Epoch 00057: val_loss improved from 52.03003 to 51.56026, saving model to model.h5\n",
      "11/11 - 0s - loss: 47.3402 - val_loss: 51.5603 - 46ms/epoch - 4ms/step\n",
      "Epoch 58/60\n",
      "\n",
      "Epoch 00058: val_loss did not improve from 51.56026\n",
      "11/11 - 0s - loss: 45.6795 - val_loss: 52.1486 - 30ms/epoch - 3ms/step\n",
      "Epoch 59/60\n",
      "\n",
      "Epoch 00059: val_loss improved from 51.56026 to 50.31504, saving model to model.h5\n",
      "11/11 - 0s - loss: 45.2182 - val_loss: 50.3150 - 38ms/epoch - 3ms/step\n",
      "Epoch 60/60\n",
      "\n",
      "Epoch 00060: val_loss improved from 50.31504 to 50.12479, saving model to model.h5\n",
      "11/11 - 0s - loss: 45.7490 - val_loss: 50.1248 - 40ms/epoch - 4ms/step\n"
     ]
    }
   ],
   "source": [
    "history = net.fit(X_train, y_train, validation_split=0.2, epochs=60, verbose=2, callbacks=callbacks)\n",
    "\n"
   ]
  },
  {
   "cell_type": "code",
   "execution_count": 17,
   "id": "58dd2112",
   "metadata": {},
   "outputs": [
    {
     "data": {
      "text/plain": [
       "<matplotlib.legend.Legend at 0x7fbc6bfa3af0>"
      ]
     },
     "execution_count": 17,
     "metadata": {},
     "output_type": "execute_result"
    },
    {
     "data": {
      "image/png": "[encoded data removed]",
      "text/plain": [
       "<Figure size 432x288 with 1 Axes>"
      ]
     },
     "metadata": {
      "needs_background": "light"
     },
     "output_type": "display_data"
    }
   ],
   "source": [
    "plt.plot(history.history['val_loss'], label='val_loss')\n",
    "plt.plot(history.history['loss'], label='loss')\n",
    "plt.legend()"
   ]
  },
  {
   "cell_type": "code",
   "execution_count": 18,
   "id": "0681fcda",
   "metadata": {},
   "outputs": [
    {
     "name": "stdout",
     "output_type": "stream",
     "text": [
      "4/4 [==============================] - 0s 2ms/step - loss: 53.1127\n"
     ]
    },
    {
     "data": {
      "text/plain": [
       "53.11274337768555"
      ]
     },
     "execution_count": 18,
     "metadata": {},
     "output_type": "execute_result"
    }
   ],
   "source": [
    "# now I can evaluate what my \n",
    "net.evaluate(X_test, y_test)"
   ]
  },
  {
   "cell_type": "markdown",
   "id": "661dae81",
   "metadata": {},
   "source": [
    "Though not a formal test, let's see how the output distribution looks between the true y_test and the \n",
    " from our model."
   ]
  },
  {
   "cell_type": "code",
   "execution_count": 19,
   "id": "e7f517df",
   "metadata": {},
   "outputs": [],
   "source": [
    "yhat = net.predict(X_test)\n"
   ]
  },
  {
   "cell_type": "code",
   "execution_count": 20,
   "id": "5fdf1260",
   "metadata": {},
   "outputs": [
    {
     "data": {
      "text/plain": [
       "<matplotlib.legend.Legend at 0x7fbc6c23cc40>"
      ]
     },
     "execution_count": 20,
     "metadata": {},
     "output_type": "execute_result"
    },
    {
     "data": {
      "image/png": "[encoded data removed]",
      "text/plain": [
       "<Figure size 432x288 with 1 Axes>"
      ]
     },
     "metadata": {
      "needs_background": "light"
     },
     "output_type": "display_data"
    }
   ],
   "source": [
    "_, bins, _ = plt.hist(yhat, histtype='step', label=r'$\\hat{y}$')\n",
    "plt.hist(y_test, bins=bins, histtype='step', label=r'$y_{\\mathsf{true}}$')\n",
    "plt.legend()"
   ]
  },
  {
   "cell_type": "markdown",
   "id": "c6f13d89",
   "metadata": {},
   "source": [
    "So far, we've done nothing that you can't do in TMVA (maybe besides the Adam optimizer), so why use Keras? You gain the ability to work with things like sequence data, images, and although maybe not necessary for the Boston dataset, you are able to compose arbitrary graphs!\n",
    "\n",
    "Let's quickly show how we can create a residual model with dropout for our boston housing model.\n",
    "\n",
    "The basis of a residual block is the idea that learning the residual components beyond the identity function decouples some of the difficulties in learning complex funcionals. The idea is instead of having , we want  where our  is now tasked with learning a residual on the data"
   ]
  },
  {
   "cell_type": "code",
   "execution_count": 21,
   "id": "91cec484",
   "metadata": {},
   "outputs": [],
   "source": [
    "from keras.layers import Dropout, add\n"
   ]
  },
  {
   "cell_type": "code",
   "execution_count": 22,
   "id": "762275b3",
   "metadata": {},
   "outputs": [],
   "source": [
    "# we define the input shape (i.e., how many input features) **without** the batch size\n",
    "x = Input(shape=(13, ))\n",
    "\n",
    "# we want this layer to be normal, but skip into a layer downstream\n",
    "skip = Dense(20)(x)\n",
    "h = Dropout(0.5)(skip)\n",
    "h = Activation('relu')(h)\n",
    "\n",
    "h = Dense(20)(h)\n",
    "skip = add([h, skip])\n",
    "h = Dropout(0.5)(skip)\n",
    "h = Activation('relu')(h)\n",
    "\n",
    "h = Dense(20)(h)\n",
    "h = add([h, skip])\n",
    "h = Dropout(0.5)(h)\n",
    "h = Activation('relu')(h)\n",
    "\n",
    "# our output is a single number, the house price.\n",
    "y = Dense(1)(h)\n",
    "\n",
    "# A model is a conta\n",
    "resnet = Model(x, y)"
   ]
  },
  {
   "cell_type": "code",
   "execution_count": 23,
   "id": "9486c553",
   "metadata": {},
   "outputs": [
    {
     "name": "stdout",
     "output_type": "stream",
     "text": [
      "('You must install pydot (`pip install pydot`) and install graphviz (see instructions at https://graphviz.gitlab.io/download/) ', 'for plot_model/model_to_dot to work.')\n"
     ]
    }
   ],
   "source": [
    "plot_model(resnet, to_file='arch.png')\n"
   ]
  },
  {
   "cell_type": "markdown",
   "id": "c593e12d",
   "metadata": {},
   "source": [
    "# Dealing with Sequences\n"
   ]
  },
  {
   "cell_type": "markdown",
   "id": "540c19be",
   "metadata": {},
   "source": [
    "Most applications of sequence / recurrent models around grounded in natural language processing or stock price analysis. Let's use a hypothetical example that is grounded in Physics.\n",
    "\n",
    "To ground this problem, let's say we're building a network for an analysis that reads in all jets and all photons from two different streams. There are arbitrary numbers of jets and photons, so we need a model that can handle a sequence.\n",
    "\n",
    "Let's have the following two constraints on our jets and photons:\n",
    "\n",
    "We have a maximum of 8 jets with 6 features\n",
    "We have a maximum of 2 photons with 11 features\n",
    "We can order our physics object by some value, say , and construct a recurrent neural network, in particular a Bidirectional LSTM, to learn a function that maps this to signal/background"
   ]
  },
  {
   "cell_type": "code",
   "execution_count": 24,
   "id": "d0fe61ca",
   "metadata": {},
   "outputs": [],
   "source": [
    "from keras.layers import LSTM, concatenate, Bidirectional\n"
   ]
  },
  {
   "cell_type": "code",
   "execution_count": 25,
   "id": "bd402c4c",
   "metadata": {},
   "outputs": [],
   "source": [
    "# you wound need to structure your input into this format such that it has shape (nb_samples, nb_objects, nb_features)\n",
    "n_jets = 8\n",
    "n_jet_feats = 6\n",
    "\n",
    "n_photons =  2\n",
    "n_photon_feats = 11"
   ]
  },
  {
   "cell_type": "code",
   "execution_count": 26,
   "id": "3d1e8930",
   "metadata": {},
   "outputs": [],
   "source": [
    "jets = Input(shape=(n_jets, n_jet_feats), name='jets')\n",
    "photons = Input(shape=(n_photons, n_photon_feats), name='photons')"
   ]
  },
  {
   "cell_type": "code",
   "execution_count": 27,
   "id": "9d169825",
   "metadata": {},
   "outputs": [],
   "source": [
    "features = concatenate([\n",
    "    Bidirectional(LSTM(10, name='jet_lstm'))(jets), \n",
    "    Bidirectional(LSTM(10, name='photon_lstm'))(photons), \n",
    "])"
   ]
  },
  {
   "cell_type": "code",
   "execution_count": 28,
   "id": "a0b1eb99",
   "metadata": {},
   "outputs": [],
   "source": [
    "y = Activation('sigmoid', name='sigmoid')(Dense(1, name='logistic')(features))\n"
   ]
  },
  {
   "cell_type": "code",
   "execution_count": 29,
   "id": "23d9b638",
   "metadata": {},
   "outputs": [],
   "source": [
    "rnn = Model([jets, photons], y)\n"
   ]
  },
  {
   "cell_type": "code",
   "execution_count": 30,
   "id": "e8409225",
   "metadata": {},
   "outputs": [
    {
     "name": "stdout",
     "output_type": "stream",
     "text": [
      "('You must install pydot (`pip install pydot`) and install graphviz (see instructions at https://graphviz.gitlab.io/download/) ', 'for plot_model/model_to_dot to work.')\n"
     ]
    }
   ],
   "source": [
    "plot_model(rnn, to_file='arnn.png')\n"
   ]
  },
  {
   "cell_type": "code",
   "execution_count": null,
   "id": "90f5059a",
   "metadata": {},
   "outputs": [],
   "source": []
  }
 ],
 "metadata": {
  "kernelspec": {
   "display_name": "Python 3 (ipykernel)",
   "language": "python",
   "name": "python3"
  },
  "language_info": {
   "codemirror_mode": {
    "name": "ipython",
    "version": 3
   },
   "file_extension": ".py",
   "mimetype": "text/x-python",
   "name": "python",
   "nbconvert_exporter": "python",
   "pygments_lexer": "ipython3",
   "version": "3.8.11"
  }
 },
 "nbformat": 4,
 "nbformat_minor": 5
}
