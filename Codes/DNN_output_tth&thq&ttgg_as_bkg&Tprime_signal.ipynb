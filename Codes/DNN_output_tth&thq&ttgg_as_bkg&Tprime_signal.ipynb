{
 "cells": [
  {
   "cell_type": "code",
   "execution_count": 1,
   "metadata": {},
   "outputs": [
    {
     "name": "stderr",
     "output_type": "stream",
     "text": [
      "Using TensorFlow backend.\n"
     ]
    },
    {
     "name": "stdout",
     "output_type": "stream",
     "text": [
      "Welcome to JupyROOT 6.16/00\n"
     ]
    }
   ],
   "source": [
    "import pandas as pd\n",
    "import math\n",
    "import glob\n",
    "import matplotlib.pyplot as plt\n",
    "import seaborn as sns\n",
    "import keras\n",
    "from keras.models import Sequential, load_model\n",
    "from keras.layers import Dense, Activation\n",
    "from keras.callbacks import EarlyStopping, ModelCheckpoint, Callback\n",
    "from keras.optimizers import adam\n",
    "%matplotlib inline\n",
    "import random\n",
    "import pandas, numpy\n",
    "from sklearn.model_selection import train_test_split\n",
    "from sklearn.tree import DecisionTreeClassifier\n",
    "from sklearn.ensemble import GradientBoostingClassifier\n",
    "# this wrapper makes it possible to train on subset of features\n",
    "import sklearn\n",
    "from matplotlib import pyplot as plt\n",
    "import pandas as pd\n",
    "import numpy as np\n",
    "import matplotlib\n",
    "import matplotlib.pyplot as plt\n",
    "import scipy as sp\n",
    "import seaborn as sns\n",
    "from keras.callbacks import EarlyStopping, ModelCheckpoint, Callback\n",
    "# import xgboost as xgb\n",
    "from itertools import tee, islice\n",
    "from ROOT import TFile, TCanvas, TPad, TPaveLabel, TPaveText, TTree, TH1F, TF1\n",
    "from root_numpy import root2array, tree2array, array2tree, array2root\n",
    "import sys\n",
    "from ROOT import gROOT, AddressOf\n",
    "from root_numpy import root2array, rec2array\n",
    "from sklearn import datasets\n",
    "from sklearn.tree import DecisionTreeClassifier\n",
    "from sklearn.ensemble import AdaBoostClassifier\n",
    "from sklearn.metrics import classification_report, roc_auc_score\n",
    "import matplotlib.ticker as ticker\n",
    "from sklearn.neural_network import MLPClassifier\n",
    "from sklearn.model_selection import train_test_split\n",
    "from sklearn import metrics\n",
    "from sklearn.discriminant_analysis import LinearDiscriminantAnalysis as LDA\n",
    "from sklearn.neural_network import MLPClassifier\n",
    "from sklearn.svm import SVC\n",
    "from sklearn import tree"
   ]
  },
  {
   "cell_type": "code",
   "execution_count": 2,
   "metadata": {},
   "outputs": [],
   "source": [
    "signal = '/afs/cern.ch/user/s/sraj/public/data_folder/output_TprimeBToTH_Hgg_M-600_LH_TuneCP5_PSweights_13TeV-madgraph_pythia8.root'\n",
    "back_1 = '/afs/cern.ch/user/s/sraj/public/data_folder/signal.root'\n",
    "back_2 = '/afs/cern.ch/user/s/sraj/public/data_folder/back.root'\n",
    "back_3 = '/afs/cern.ch/user/s/sraj/public/data_folder/output_TTGG_0Jets_TuneCP5_13TeV_amcatnlo_madspin_pythia8.root'\n",
    "# out_dir = '/afs/cern.ch/user/s/sraj/public/plot'\n",
    "#Calling out the folder in which the data is stored\n",
    "treeName_back_1 =\"tagsDumper/trees/tth_125_13TeV_THQLeptonicTag\" \n",
    "treeName_back_2 =\"tagsDumper/trees/thq_125_13TeV_THQLeptonicTag\" \n",
    "treeName_back_3 =\"tagsDumper/trees/ttgg_13TeV_THQLeptonicTag\" \n",
    "treeName_signal = \"tagsDumper/trees/Tprime_600_13TeV_THQLeptonicTag\"\n",
    "columns = ['dipho_pt',\n",
    "           'dipho_phi',\n",
    "           'dipho_eta',\n",
    "           'dipho_e',\n",
    "           'dipho_mass',\n",
    "           'dipho_leadPt',\n",
    "           'dipho_leadEt',\n",
    "           'dipho_leadEta',\n",
    "           'dipho_leadPhi',\n",
    "           'dipho_subleadEta',\n",
    "           'bjet1_pt',\n",
    "           'bjet2_pt',\n",
    "           'bjet1_eta',\n",
    "           'bjet2_eta',\n",
    "           'jet1_pt',\n",
    "           'jet2_pt',\n",
    "           'jet1_eta',\n",
    "           'n_jets',\n",
    "           'n_bjets',\n",
    "           'bjet2_phi',\n",
    "           'bjet3_phi',\n",
    "#            'bjet3_eta',\n",
    "           'bjet1_discr',\n",
    "           'bjet2_discr',\n",
    "           'bjet3_discr',\n",
    "           'jet3_pt',\n",
    "#           'jet1_phi',\n",
    "#          'jet2_phi' ,\n",
    "          'jet3_phi',\n",
    "          'jet1_e',\n",
    "          'jet2_e',\n",
    "          'jet3_e',\n",
    "#            'CMS_hgg_mass',\n",
    "#             'sigmaMoM_decorr',\n",
    "#             'dipho_sumpt',\n",
    "#             'dipho_cosphi',\n",
    "# #             'dipho_mass',\n",
    "#             'dipho_lead_ptoM',\n",
    "#             'ele1_pt',\n",
    "#             'ele2_pt',\n",
    "#             'ele1_eta',\n",
    "#             'ele2_eta',\n",
    "#             'ele1_phi',\n",
    "#             'ele2_phi',\n",
    "#             'ele1_e',\n",
    "#             'ele2_e',\n",
    "#             'ele1_ch',\n",
    "#             'ele2_ch',\n",
    "          ]\n",
    "\n",
    "\n",
    "#Data is converted to array\n",
    "mc_arr = root2array(signal, treeName_signal, columns)\n",
    "data_arr_1 = root2array(back_1, treeName_back_1, columns)\n",
    "data_arr_2 = root2array(back_2, treeName_back_2, columns)\n",
    "data_arr_3 = root2array(back_3, treeName_back_3, columns)\n",
    "\n",
    "data_arr= np.concatenate((data_arr_1, data_arr_2, data_arr_3),axis =0)\n",
    "\n",
    "signal_array = rec2array(mc_arr)\n",
    "backgr_array = rec2array(data_arr)\n"
   ]
  },
  {
   "cell_type": "code",
   "execution_count": 3,
   "metadata": {},
   "outputs": [
    {
     "data": {
      "text/plain": [
       "(92486,)"
      ]
     },
     "execution_count": 3,
     "metadata": {},
     "output_type": "execute_result"
    }
   ],
   "source": [
    "data_arr_1.shape\n"
   ]
  },
  {
   "cell_type": "code",
   "execution_count": 4,
   "metadata": {},
   "outputs": [
    {
     "data": {
      "text/plain": [
       "(338874,)"
      ]
     },
     "execution_count": 4,
     "metadata": {},
     "output_type": "execute_result"
    }
   ],
   "source": [
    "data_arr_2.shape"
   ]
  },
  {
   "cell_type": "code",
   "execution_count": 5,
   "metadata": {},
   "outputs": [
    {
     "data": {
      "text/plain": [
       "(55847,)"
      ]
     },
     "execution_count": 5,
     "metadata": {},
     "output_type": "execute_result"
    }
   ],
   "source": [
    "data_arr_3.shape"
   ]
  },
  {
   "cell_type": "code",
   "execution_count": 6,
   "metadata": {},
   "outputs": [],
   "source": [
    "signal = pd.DataFrame(signal_array)\n",
    "backgr = pd.DataFrame(backgr_array)"
   ]
  },
  {
   "cell_type": "code",
   "execution_count": 7,
   "metadata": {},
   "outputs": [],
   "source": [
    "##Define X and y from the given files\n",
    "X = np.concatenate((signal, backgr))\n",
    "Y = np.concatenate((np.ones(signal.shape[0]),\n",
    "                    np.zeros(backgr.shape[0])))\n"
   ]
  },
  {
   "cell_type": "code",
   "execution_count": 8,
   "metadata": {},
   "outputs": [],
   "source": [
    "Xtrain,Xtest, Ytrain,Ytest = train_test_split(X, Y, test_size=0.33, random_state= 5)\n"
   ]
  },
  {
   "cell_type": "code",
   "execution_count": 9,
   "metadata": {},
   "outputs": [],
   "source": [
    "from keras.models import Sequential\n",
    "from keras.layers import Dense\n",
    "import tensorflow as tf\n",
    "import keras\n",
    "from keras.layers import Dropout\n",
    "from keras.constraints import maxnorm\n",
    "from keras.wrappers.scikit_learn import KerasClassifier\n",
    "from keras.constraints import maxnorm\n",
    "from keras.optimizers import SGD\n",
    "from sklearn.model_selection import cross_val_score\n",
    "from sklearn.preprocessing import LabelEncoder\n",
    "from sklearn.model_selection import StratifiedKFold\n",
    "from sklearn.preprocessing import StandardScaler\n",
    "from sklearn.pipeline import Pipeline\n",
    "from keras.utils.vis_utils import plot_model\n",
    "from keras.layers import LSTM\n",
    "from keras.layers.core import Dense, Dropout, Activation\n",
    "from keras.callbacks import EarlyStopping, ModelCheckpoint\n",
    "\n",
    "# from keras.optimizers import Adam\n"
   ]
  },
  {
   "cell_type": "code",
   "execution_count": 10,
   "metadata": {},
   "outputs": [],
   "source": [
    "#define model for training\n",
    "\n",
    "clf = Sequential()\n",
    "# clf.add(LSTM(1, return_sequences=True ))\n",
    "clf.add(Dropout(3,input_shape = (29,)))\n",
    "clf.add(Dense(200, activation = 'relu', kernel_initializer = 'lecun_uniform',name = 'dense_1'))\n",
    "clf.add(Dense(100, activation = 'relu', kernel_initializer = 'lecun_uniform',name = 'dense_2'))\n",
    "clf.add(Dense(60, activation = 'relu', kernel_initializer = 'lecun_uniform', name = 'dense_3'))\n",
    "clf.add(Dense(50, activation = 'relu', kernel_initializer = 'lecun_uniform',name = 'dense_4'))\n",
    "clf.add(Dense(30, activation = 'relu', kernel_initializer = 'lecun_uniform', name = 'dense_5'))\n",
    "#Output\n",
    "clf.add(Dense(1, activation = 'sigmoid', kernel_initializer = 'lecun_uniform', name = 'output'))\n",
    "#compile model\n",
    "clf.compile(loss = 'binary_crossentropy', \n",
    "            optimizer='adam',\n",
    "            metrics=['accuracy'])\n",
    "# print(clf.summary())\n",
    "# plot_model(clf, to_file='clf_plot.png', show_shapes=True, show_layer_names=True)"
   ]
  },
  {
   "cell_type": "code",
   "execution_count": 11,
   "metadata": {},
   "outputs": [
    {
     "name": "stdout",
     "output_type": "stream",
     "text": [
      "Train on 285530 samples, validate on 95177 samples\n",
      "Epoch 1/100\n",
      "285530/285530 [==============================] - 2s 8us/step - loss: 2.5021 - acc: 0.8161 - val_loss: 1.9879 - val_acc: 0.7513\n",
      "Epoch 2/100\n",
      "285530/285530 [==============================] - 1s 4us/step - loss: 1.6009 - acc: 0.8357 - val_loss: 1.4815 - val_acc: 0.8325\n",
      "Epoch 3/100\n",
      "285530/285530 [==============================] - 1s 4us/step - loss: 1.4534 - acc: 0.8472 - val_loss: 1.4497 - val_acc: 0.8533\n",
      "Epoch 4/100\n",
      "285530/285530 [==============================] - 1s 5us/step - loss: 1.4346 - acc: 0.8511 - val_loss: 1.4468 - val_acc: 0.8409\n",
      "Epoch 5/100\n",
      "285530/285530 [==============================] - 2s 7us/step - loss: 1.5173 - acc: 0.8378 - val_loss: 1.4448 - val_acc: 0.8542\n",
      "Epoch 6/100\n",
      "285530/285530 [==============================] - 2s 6us/step - loss: 1.4303 - acc: 0.8521 - val_loss: 1.4324 - val_acc: 0.8540\n",
      "Epoch 7/100\n",
      "285530/285530 [==============================] - 2s 6us/step - loss: 1.4120 - acc: 0.8532 - val_loss: 1.3841 - val_acc: 0.8492\n",
      "Epoch 8/100\n",
      "285530/285530 [==============================] - 2s 7us/step - loss: 1.3198 - acc: 0.8403 - val_loss: 1.3154 - val_acc: 0.7293\n",
      "Epoch 9/100\n",
      "285530/285530 [==============================] - 2s 6us/step - loss: 1.1925 - acc: 0.8131 - val_loss: 0.7263 - val_acc: 0.7431\n",
      "Epoch 10/100\n",
      "285530/285530 [==============================] - 2s 7us/step - loss: 0.6574 - acc: 0.8114 - val_loss: 0.3808 - val_acc: 0.8432\n",
      "Epoch 11/100\n",
      "285530/285530 [==============================] - 1s 5us/step - loss: 0.3578 - acc: 0.8483 - val_loss: 0.3429 - val_acc: 0.8516\n",
      "Epoch 12/100\n",
      "285530/285530 [==============================] - 1s 4us/step - loss: 0.3409 - acc: 0.8526 - val_loss: 0.3363 - val_acc: 0.8533\n",
      "Epoch 13/100\n",
      "285530/285530 [==============================] - 1s 5us/step - loss: 0.3371 - acc: 0.8533 - val_loss: 0.3351 - val_acc: 0.8552\n",
      "Epoch 14/100\n",
      "285530/285530 [==============================] - 2s 6us/step - loss: 0.3329 - acc: 0.8543 - val_loss: 0.3323 - val_acc: 0.8556\n",
      "Epoch 15/100\n",
      "285530/285530 [==============================] - 2s 7us/step - loss: 0.3311 - acc: 0.8551 - val_loss: 0.3283 - val_acc: 0.8552\n",
      "Epoch 16/100\n",
      "285530/285530 [==============================] - 2s 5us/step - loss: 0.3278 - acc: 0.8559 - val_loss: 0.3286 - val_acc: 0.8548\n",
      "Epoch 17/100\n",
      "285530/285530 [==============================] - 2s 8us/step - loss: 0.3264 - acc: 0.8562 - val_loss: 0.3248 - val_acc: 0.8572\n",
      "Epoch 18/100\n",
      "285530/285530 [==============================] - 2s 7us/step - loss: 0.3253 - acc: 0.8566 - val_loss: 0.3258 - val_acc: 0.8566\n",
      "Epoch 19/100\n",
      "285530/285530 [==============================] - 2s 8us/step - loss: 0.3255 - acc: 0.8567 - val_loss: 0.3233 - val_acc: 0.8572\n",
      "Epoch 20/100\n",
      "285530/285530 [==============================] - 2s 7us/step - loss: 0.3242 - acc: 0.8568 - val_loss: 0.3234 - val_acc: 0.8579\n",
      "Epoch 21/100\n",
      "285530/285530 [==============================] - 2s 8us/step - loss: 0.3226 - acc: 0.8575 - val_loss: 0.3228 - val_acc: 0.8572\n",
      "Epoch 22/100\n",
      "285530/285530 [==============================] - 2s 6us/step - loss: 0.3219 - acc: 0.8578 - val_loss: 0.3221 - val_acc: 0.8578\n",
      "Epoch 23/100\n",
      "285530/285530 [==============================] - 2s 8us/step - loss: 0.3216 - acc: 0.8579 - val_loss: 0.3207 - val_acc: 0.8589\n",
      "Epoch 24/100\n",
      "285530/285530 [==============================] - 2s 8us/step - loss: 0.3217 - acc: 0.8582 - val_loss: 0.3216 - val_acc: 0.8583\n",
      "Epoch 25/100\n",
      "285530/285530 [==============================] - 2s 8us/step - loss: 0.3209 - acc: 0.8582 - val_loss: 0.3201 - val_acc: 0.8590\n",
      "Epoch 26/100\n",
      "285530/285530 [==============================] - 2s 8us/step - loss: 0.3196 - acc: 0.8588 - val_loss: 0.3197 - val_acc: 0.8599\n",
      "Epoch 27/100\n",
      "285530/285530 [==============================] - 2s 6us/step - loss: 0.3193 - acc: 0.8591 - val_loss: 0.3201 - val_acc: 0.8585\n",
      "Epoch 28/100\n",
      "285530/285530 [==============================] - 1s 5us/step - loss: 0.3184 - acc: 0.8594 - val_loss: 0.3190 - val_acc: 0.8603\n",
      "Epoch 29/100\n",
      "285530/285530 [==============================] - 1s 5us/step - loss: 0.3184 - acc: 0.8590 - val_loss: 0.3202 - val_acc: 0.8586\n",
      "Epoch 30/100\n",
      "285530/285530 [==============================] - 1s 4us/step - loss: 0.3178 - acc: 0.8595 - val_loss: 0.3198 - val_acc: 0.8592\n",
      "Epoch 31/100\n",
      "285530/285530 [==============================] - 1s 4us/step - loss: 0.3174 - acc: 0.8599 - val_loss: 0.3180 - val_acc: 0.8604\n",
      "Epoch 32/100\n",
      "285530/285530 [==============================] - 1s 5us/step - loss: 0.3164 - acc: 0.8601 - val_loss: 0.3185 - val_acc: 0.8595\n",
      "Epoch 33/100\n",
      "285530/285530 [==============================] - 1s 5us/step - loss: 0.3164 - acc: 0.8601 - val_loss: 0.3177 - val_acc: 0.8605\n",
      "Epoch 34/100\n",
      "285530/285530 [==============================] - 1s 5us/step - loss: 0.3158 - acc: 0.8604 - val_loss: 0.3198 - val_acc: 0.8589\n",
      "Epoch 35/100\n",
      "285530/285530 [==============================] - 1s 5us/step - loss: 0.3161 - acc: 0.8602 - val_loss: 0.3172 - val_acc: 0.8601\n",
      "Epoch 36/100\n",
      "285530/285530 [==============================] - 1s 4us/step - loss: 0.3156 - acc: 0.8605 - val_loss: 0.3186 - val_acc: 0.8596\n",
      "Epoch 37/100\n",
      "285530/285530 [==============================] - 1s 5us/step - loss: 0.3158 - acc: 0.8605 - val_loss: 0.3195 - val_acc: 0.8592\n",
      "Epoch 38/100\n",
      "285530/285530 [==============================] - 1s 5us/step - loss: 0.3172 - acc: 0.8602 - val_loss: 0.3175 - val_acc: 0.8599\n",
      "Epoch 39/100\n",
      "285530/285530 [==============================] - 2s 5us/step - loss: 0.3150 - acc: 0.8608 - val_loss: 0.3162 - val_acc: 0.8611\n",
      "Epoch 40/100\n",
      "285530/285530 [==============================] - 1s 5us/step - loss: 0.3145 - acc: 0.8607 - val_loss: 0.3164 - val_acc: 0.8606\n",
      "Epoch 41/100\n",
      "285530/285530 [==============================] - 1s 5us/step - loss: 0.3142 - acc: 0.8608 - val_loss: 0.3166 - val_acc: 0.8602\n",
      "Epoch 42/100\n",
      "285530/285530 [==============================] - 1s 5us/step - loss: 0.3147 - acc: 0.8608 - val_loss: 0.3162 - val_acc: 0.8608\n",
      "Epoch 43/100\n",
      "285530/285530 [==============================] - 1s 5us/step - loss: 0.3143 - acc: 0.8611 - val_loss: 0.3180 - val_acc: 0.8593\n",
      "Epoch 44/100\n",
      "285530/285530 [==============================] - 1s 5us/step - loss: 0.3143 - acc: 0.8610 - val_loss: 0.3193 - val_acc: 0.8588\n",
      "Epoch 45/100\n",
      "285530/285530 [==============================] - 1s 5us/step - loss: 0.3136 - acc: 0.8612 - val_loss: 0.3160 - val_acc: 0.8611\n",
      "Epoch 46/100\n",
      "285530/285530 [==============================] - 2s 5us/step - loss: 0.3148 - acc: 0.8605 - val_loss: 0.3158 - val_acc: 0.8611\n",
      "Epoch 47/100\n",
      "285530/285530 [==============================] - 2s 7us/step - loss: 0.3133 - acc: 0.8610 - val_loss: 0.3156 - val_acc: 0.8607\n",
      "Epoch 48/100\n",
      "285530/285530 [==============================] - 1s 5us/step - loss: 0.3126 - acc: 0.8615 - val_loss: 0.3174 - val_acc: 0.8601\n",
      "Epoch 49/100\n",
      "285530/285530 [==============================] - 2s 5us/step - loss: 0.3120 - acc: 0.8618 - val_loss: 0.3152 - val_acc: 0.8610\n",
      "Epoch 50/100\n",
      "285530/285530 [==============================] - 2s 7us/step - loss: 0.3132 - acc: 0.8611 - val_loss: 0.3157 - val_acc: 0.8607\n",
      "Epoch 51/100\n",
      "285530/285530 [==============================] - 2s 8us/step - loss: 0.3119 - acc: 0.8620 - val_loss: 0.3159 - val_acc: 0.8617\n",
      "Epoch 52/100\n",
      "285530/285530 [==============================] - 2s 8us/step - loss: 0.3119 - acc: 0.8621 - val_loss: 0.3142 - val_acc: 0.8614\n",
      "Epoch 53/100\n",
      "285530/285530 [==============================] - 2s 8us/step - loss: 0.3118 - acc: 0.8623 - val_loss: 0.3156 - val_acc: 0.8611\n",
      "Epoch 54/100\n",
      "285530/285530 [==============================] - 2s 7us/step - loss: 0.3123 - acc: 0.8618 - val_loss: 0.3178 - val_acc: 0.8608\n",
      "Epoch 55/100\n",
      "285530/285530 [==============================] - 2s 8us/step - loss: 0.3126 - acc: 0.8615 - val_loss: 0.3171 - val_acc: 0.8602\n",
      "Epoch 56/100\n",
      "285530/285530 [==============================] - 2s 8us/step - loss: 0.3124 - acc: 0.8611 - val_loss: 0.3150 - val_acc: 0.8604\n",
      "Epoch 57/100\n",
      "285530/285530 [==============================] - 3s 9us/step - loss: 0.3111 - acc: 0.8624 - val_loss: 0.3176 - val_acc: 0.8585\n",
      "Epoch 58/100\n",
      "285530/285530 [==============================] - 2s 7us/step - loss: 0.3123 - acc: 0.8615 - val_loss: 0.3138 - val_acc: 0.8610\n",
      "Epoch 59/100\n"
     ]
    },
    {
     "name": "stdout",
     "output_type": "stream",
     "text": [
      "285530/285530 [==============================] - 2s 8us/step - loss: 0.3108 - acc: 0.8619 - val_loss: 0.3161 - val_acc: 0.8598\n",
      "Epoch 60/100\n",
      "285530/285530 [==============================] - 2s 7us/step - loss: 0.3116 - acc: 0.8620 - val_loss: 0.3140 - val_acc: 0.8615\n",
      "Epoch 61/100\n",
      "285530/285530 [==============================] - 2s 6us/step - loss: 0.3123 - acc: 0.8614 - val_loss: 0.3182 - val_acc: 0.8586\n",
      "Epoch 62/100\n",
      "285530/285530 [==============================] - 1s 5us/step - loss: 0.3120 - acc: 0.8615 - val_loss: 0.3151 - val_acc: 0.8608\n",
      "Epoch 63/100\n",
      "285530/285530 [==============================] - 2s 5us/step - loss: 0.3108 - acc: 0.8619 - val_loss: 0.3134 - val_acc: 0.8616\n",
      "Epoch 64/100\n",
      "285530/285530 [==============================] - 2s 5us/step - loss: 0.3105 - acc: 0.8626 - val_loss: 0.3141 - val_acc: 0.8612\n",
      "Epoch 65/100\n",
      "285530/285530 [==============================] - 1s 5us/step - loss: 0.3098 - acc: 0.8624 - val_loss: 0.3147 - val_acc: 0.8605\n",
      "Epoch 66/100\n",
      "285530/285530 [==============================] - 2s 6us/step - loss: 0.3105 - acc: 0.8623 - val_loss: 0.3160 - val_acc: 0.8609\n",
      "Epoch 67/100\n",
      "285530/285530 [==============================] - 2s 5us/step - loss: 0.3115 - acc: 0.8621 - val_loss: 0.3145 - val_acc: 0.8612\n",
      "Epoch 68/100\n",
      "285530/285530 [==============================] - 1s 5us/step - loss: 0.3099 - acc: 0.8625 - val_loss: 0.3140 - val_acc: 0.8618\n",
      "Epoch 69/100\n",
      "285530/285530 [==============================] - 1s 5us/step - loss: 0.3095 - acc: 0.8628 - val_loss: 0.3135 - val_acc: 0.8610\n",
      "Epoch 70/100\n",
      "285530/285530 [==============================] - 2s 5us/step - loss: 0.3101 - acc: 0.8623 - val_loss: 0.3134 - val_acc: 0.8606\n",
      "Epoch 71/100\n",
      "285530/285530 [==============================] - 1s 5us/step - loss: 0.3104 - acc: 0.8623 - val_loss: 0.3149 - val_acc: 0.8610\n",
      "Epoch 72/100\n",
      "285530/285530 [==============================] - 2s 6us/step - loss: 0.3101 - acc: 0.8623 - val_loss: 0.3148 - val_acc: 0.8595\n",
      "Epoch 73/100\n",
      "285530/285530 [==============================] - 1s 5us/step - loss: 0.3110 - acc: 0.8618 - val_loss: 0.3158 - val_acc: 0.8612\n",
      "Epoch 74/100\n",
      "285530/285530 [==============================] - 2s 6us/step - loss: 0.3089 - acc: 0.8629 - val_loss: 0.3167 - val_acc: 0.8592\n",
      "Epoch 75/100\n",
      "285530/285530 [==============================] - 2s 7us/step - loss: 0.3089 - acc: 0.8627 - val_loss: 0.3138 - val_acc: 0.8605\n",
      "Epoch 76/100\n",
      "285530/285530 [==============================] - 2s 8us/step - loss: 0.3089 - acc: 0.8628 - val_loss: 0.3135 - val_acc: 0.8613\n",
      "Epoch 77/100\n",
      "285530/285530 [==============================] - 2s 8us/step - loss: 0.3100 - acc: 0.8624 - val_loss: 0.3174 - val_acc: 0.8607\n",
      "Epoch 78/100\n",
      "285530/285530 [==============================] - 2s 8us/step - loss: 0.3095 - acc: 0.8624 - val_loss: 0.3138 - val_acc: 0.8608\n",
      "Epoch 79/100\n",
      "285530/285530 [==============================] - 2s 8us/step - loss: 0.3106 - acc: 0.8620 - val_loss: 0.3193 - val_acc: 0.8560\n",
      "Epoch 80/100\n",
      "285530/285530 [==============================] - 3s 9us/step - loss: 0.3105 - acc: 0.8622 - val_loss: 0.3150 - val_acc: 0.8597\n",
      "Epoch 81/100\n",
      "285530/285530 [==============================] - 3s 9us/step - loss: 0.3081 - acc: 0.8627 - val_loss: 0.3128 - val_acc: 0.8614\n",
      "Epoch 82/100\n",
      "285530/285530 [==============================] - 2s 6us/step - loss: 0.3102 - acc: 0.8624 - val_loss: 0.3141 - val_acc: 0.8613\n",
      "Epoch 83/100\n",
      "285530/285530 [==============================] - 2s 8us/step - loss: 0.3078 - acc: 0.8636 - val_loss: 0.3130 - val_acc: 0.8613\n",
      "Epoch 84/100\n",
      "285530/285530 [==============================] - 2s 7us/step - loss: 0.3081 - acc: 0.8631 - val_loss: 0.3141 - val_acc: 0.8595\n",
      "Epoch 85/100\n",
      "285530/285530 [==============================] - 3s 10us/step - loss: 0.3080 - acc: 0.8633 - val_loss: 0.3121 - val_acc: 0.8617\n",
      "Epoch 86/100\n",
      "285530/285530 [==============================] - 2s 8us/step - loss: 0.3093 - acc: 0.8625 - val_loss: 0.3148 - val_acc: 0.8593\n",
      "Epoch 87/100\n",
      "285530/285530 [==============================] - 3s 10us/step - loss: 0.3088 - acc: 0.8626 - val_loss: 0.3140 - val_acc: 0.8615\n",
      "Epoch 88/100\n",
      "285530/285530 [==============================] - 2s 8us/step - loss: 0.3082 - acc: 0.8627 - val_loss: 0.3149 - val_acc: 0.8599\n",
      "Epoch 89/100\n",
      "285530/285530 [==============================] - 2s 6us/step - loss: 0.3090 - acc: 0.8623 - val_loss: 0.3129 - val_acc: 0.8618\n",
      "Epoch 90/100\n",
      "285530/285530 [==============================] - 2s 7us/step - loss: 0.3082 - acc: 0.8630 - val_loss: 0.3150 - val_acc: 0.8594\n",
      "Epoch 91/100\n",
      "285530/285530 [==============================] - 2s 6us/step - loss: 0.3095 - acc: 0.8624 - val_loss: 0.3134 - val_acc: 0.8624\n",
      "Epoch 92/100\n",
      "285530/285530 [==============================] - 1s 5us/step - loss: 0.3076 - acc: 0.8632 - val_loss: 0.3135 - val_acc: 0.8610\n",
      "Epoch 93/100\n",
      "285530/285530 [==============================] - 2s 5us/step - loss: 0.3083 - acc: 0.8626 - val_loss: 0.3123 - val_acc: 0.8612\n",
      "Epoch 94/100\n",
      "285530/285530 [==============================] - 2s 6us/step - loss: 0.3076 - acc: 0.8633 - val_loss: 0.3136 - val_acc: 0.8599\n",
      "Epoch 95/100\n",
      "285530/285530 [==============================] - 2s 6us/step - loss: 0.3081 - acc: 0.8631 - val_loss: 0.3132 - val_acc: 0.8613\n",
      "Epoch 96/100\n",
      "285530/285530 [==============================] - 1s 5us/step - loss: 0.3088 - acc: 0.8624 - val_loss: 0.3140 - val_acc: 0.8613\n",
      "Epoch 97/100\n",
      "285530/285530 [==============================] - 2s 5us/step - loss: 0.3066 - acc: 0.8636 - val_loss: 0.3146 - val_acc: 0.8610\n",
      "Epoch 98/100\n",
      "285530/285530 [==============================] - 1s 5us/step - loss: 0.3084 - acc: 0.8630 - val_loss: 0.3147 - val_acc: 0.8620\n",
      "Epoch 99/100\n",
      "285530/285530 [==============================] - 1s 5us/step - loss: 0.3080 - acc: 0.8628 - val_loss: 0.3139 - val_acc: 0.8607\n",
      "Epoch 100/100\n",
      "285530/285530 [==============================] - 2s 6us/step - loss: 0.3066 - acc: 0.8638 - val_loss: 0.3146 - val_acc: 0.8597\n"
     ]
    },
    {
     "name": "stderr",
     "output_type": "stream",
     "text": [
      "2021-10-11 13:20:26.293295: I tensorflow/core/platform/cpu_feature_guard.cc:141] Your CPU supports instructions that this TensorFlow binary was not compiled to use: AVX2 FMA\n"
     ]
    }
   ],
   "source": [
    "h = clf.fit(Xtrain, Ytrain, epochs = 100, batch_size= 9000, validation_split = 0.25)"
   ]
  },
  {
   "cell_type": "code",
   "execution_count": 12,
   "metadata": {},
   "outputs": [
    {
     "name": "stdout",
     "output_type": "stream",
     "text": [
      "Accuracy: 85.84%\n"
     ]
    }
   ],
   "source": [
    "# Final evaluation of the model for DNN\n",
    "scores = clf.evaluate(Xtest, Ytest, verbose=0)\n",
    "print(\"Accuracy: %.2f%%\" % (scores[1]*100))"
   ]
  },
  {
   "cell_type": "code",
   "execution_count": 14,
   "metadata": {},
   "outputs": [
    {
     "name": "stdout",
     "output_type": "stream",
     "text": [
      "Accuracy: 86.18%\n"
     ]
    }
   ],
   "source": [
    "# Final evaluation of the model for DNN\n",
    "scores = clf.evaluate(Xtrain, Ytrain, verbose=0)\n",
    "print(\"Accuracy: %.2f%%\" % (scores[1]*100))"
   ]
  },
  {
   "cell_type": "code",
   "execution_count": 15,
   "metadata": {},
   "outputs": [
    {
     "data": {
      "image/png": "[encoded data removed]",
      "text/plain": [
       "<Figure size 432x288 with 1 Axes>"
      ]
     },
     "metadata": {},
     "output_type": "display_data"
    }
   ],
   "source": [
    "from sklearn.metrics import roc_curve, auc\n",
    "\n",
    "decisions = clf.predict_proba(Xtest)\n",
    "\n",
    "# Compute ROC curve and area under the curve\n",
    "fpr, tpr, thresholds = roc_curve(Ytest,decisions)\n",
    "roc_auc = auc(fpr, tpr)\n",
    "plt.plot(fpr, tpr, lw=1, label='AUC (area = %0.2f)'%(roc_auc))\n",
    "\n",
    "plt.plot([0, 1], [0, 1], '--', color=(0.6, 0.6, 0.6), label='Luck')\n",
    "plt.xlim([-0.05, 1.05])\n",
    "plt.ylim([-0.05, 1.05])\n",
    "plt.xlabel('False Positive Rate')\n",
    "plt.ylabel('True Positive Rate')\n",
    "plt.title('Receiver operating characteristic')\n",
    "plt.legend(loc=\"lower right\")\n",
    "plt.grid()\n",
    "plt.savefig(\"ROC_curve_TPrime_ttgg_&tth&thq.png\")\n",
    "plt.show()"
   ]
  },
  {
   "cell_type": "code",
   "execution_count": 16,
   "metadata": {},
   "outputs": [
    {
     "data": {
      "image/png": "[encoded data removed]",
      "text/plain": [
       "<Figure size 432x288 with 1 Axes>"
      ]
     },
     "metadata": {},
     "output_type": "display_data"
    },
    {
     "data": {
      "image/png": "[encoded data removed]",
      "text/plain": [
       "<Figure size 432x288 with 1 Axes>"
      ]
     },
     "metadata": {},
     "output_type": "display_data"
    }
   ],
   "source": [
    "# summarize history for accuracy\n",
    "plt.plot(h.history['acc'])\n",
    "plt.plot(h.history['val_acc'])\n",
    "plt.title('model accuracy,random_state=5, epoch =100,batch_size =900, verbose=0.25')\n",
    "plt.ylabel('accuracy')\n",
    "plt.xlabel('epoch')\n",
    "plt.legend(['train', 'test'], loc='upper left')\n",
    "plt.savefig('model_accuracy_TPrime_ttgg_&tth&thq.png')\n",
    "plt.show()\n",
    "# summarize history for loss\n",
    "plt.plot(h.history['loss'])\n",
    "plt.plot(h.history['val_loss'])\n",
    "plt.title('model loss,random_state=5, epoch =100,batch_size =900, verbose=0.25')\n",
    "plt.ylabel('loss')\n",
    "plt.xlabel('epoch')\n",
    "plt.legend(['train', 'test'], loc='upper right')\n",
    "plt.savefig('loss_TPrime_ttgg_&tth&thq.png')\n",
    "plt.show()"
   ]
  },
  {
   "cell_type": "code",
   "execution_count": 17,
   "metadata": {},
   "outputs": [
    {
     "data": {
      "image/png": "[encoded data removed]",
      "text/plain": [
       "<Figure size 432x288 with 1 Axes>"
      ]
     },
     "metadata": {},
     "output_type": "display_data"
    }
   ],
   "source": [
    "plt.figure()                                     # new window\n",
    "matplotlib.rcParams.update({'font.size':14})     # set all font sizes\n",
    "tTest = clf.predict_proba(Xtest)\n",
    "# if hasattr(clf, \"decision_function\"):\n",
    "#     tTest = clf.decision_function(X_test)        # if available use decision_function\n",
    "# else:\n",
    "#     tTest = clf.predict_proba(X_test)[:,1]       # for e.g. MLP need to use predict_proba\n",
    "tBkg = tTest[Ytest==0]\n",
    "tSig = tTest[Ytest==1]\n",
    "nBins = 20\n",
    "tMin = np.floor(np.min(tTest))\n",
    "tMax = np.ceil(np.max(tTest))\n",
    "bins = np.linspace(tMin, tMax, nBins+1)\n",
    "# plt.title('Multilayer perceptron')\n",
    "plt.xlabel(' $DNN$', labelpad=3)\n",
    "plt.ylabel('$Probability density$', labelpad=40)\n",
    "n, bins, patches = plt.hist(tSig, bins=bins, density=True, histtype='step', fill=True, color ='dodgerblue' )\n",
    "n, bins, patches = plt.hist(tBkg, bins=bins, density=True, histtype='step', fill=True,color = 'red' ,alpha=0.5)\n",
    "plt.savefig('output_TPrime_ttgg_&tth&thq.png')\n",
    "plt.show()"
   ]
  },
  {
   "cell_type": "code",
   "execution_count": null,
   "metadata": {},
   "outputs": [],
   "source": []
  },
  {
   "cell_type": "code",
   "execution_count": null,
   "metadata": {},
   "outputs": [],
   "source": []
  },
  {
   "cell_type": "code",
   "execution_count": null,
   "metadata": {},
   "outputs": [],
   "source": []
  },
  {
   "cell_type": "code",
   "execution_count": null,
   "metadata": {},
   "outputs": [],
   "source": []
  }
 ],
 "metadata": {
  "kernelspec": {
   "display_name": "Python 3",
   "language": "python",
   "name": "python3"
  },
  "language_info": {
   "codemirror_mode": {
    "name": "ipython",
    "version": 3
   },
   "file_extension": ".py",
   "mimetype": "text/x-python",
   "name": "python",
   "nbconvert_exporter": "python",
   "pygments_lexer": "ipython3",
   "version": "3.6.5"
  }
 },
 "nbformat": 4,
 "nbformat_minor": 2
}
